{
  "cells": [
    {
      "cell_type": "code",
      "execution_count": null,
      "metadata": {
        "id": "4pjQLDGl1df2"
      },
      "outputs": [],
      "source": []
    },
    {
      "cell_type": "code",
      "execution_count": null,
      "metadata": {
        "id": "p_c_4yh_1dl7"
      },
      "outputs": [],
      "source": []
    },
    {
      "cell_type": "code",
      "execution_count": null,
      "metadata": {
        "id": "OaQP8iVF1dpD"
      },
      "outputs": [],
      "source": []
    },
    {
      "cell_type": "markdown",
      "source": [
        "**CONTENTS**:\n",
        "\n",
        "\n",
        "1.  Importing the required Libraries \n",
        "\n",
        "2.   Understanding the Data\n",
        "\n",
        "3.   Preprocessing Data for Classification\n",
        "\n",
        "4.   EDA\n",
        "\n",
        "5.   Feature engineering\n",
        "\n",
        "6.   Classification models\n",
        "\n",
        "\n",
        "         *   Logistic Regression\n",
        "         *   Decision Tree\n",
        "         *   Random Forest\n",
        "         *   SVM\n",
        "         *   KNN\n",
        "         *   Gradient Boosting\n",
        "         *   Neural Networks\n",
        "\n",
        "7.    Methodology and performance metrics Evaluation\n",
        "\n",
        "\n",
        "\n",
        "\n",
        "\n",
        "\n",
        "\n",
        "\n",
        "\n",
        "\n",
        "\n",
        "\n",
        "\n"
      ],
      "metadata": {
        "id": "JPUB6XMnJXHo"
      }
    },
    {
      "cell_type": "markdown",
      "metadata": {
        "id": "4UOFx6IpEGI-"
      },
      "source": [
        "**Importing necessary packages**"
      ]
    },
    {
      "cell_type": "code",
      "execution_count": 1,
      "metadata": {
        "id": "gDiMS408EGJC"
      },
      "outputs": [],
      "source": [
        "import pandas as pd\n",
        "import warnings\n",
        "warnings.filterwarnings('ignore')\n",
        "import seaborn as sns\n",
        "import matplotlib.pyplot as plt\n",
        "import numpy as np\n",
        "\n",
        "from sklearn.model_selection import train_test_split\n",
        "\n",
        "from sklearn.metrics import accuracy_score, precision_score, recall_score"
      ]
    },
    {
      "cell_type": "markdown",
      "metadata": {
        "id": "GsVxeV1cEGJE"
      },
      "source": [
        "****Data Preparation & Exploration****"
      ]
    },
    {
      "cell_type": "code",
      "execution_count": 2,
      "metadata": {
        "id": "WP01Pd6YEGJG"
      },
      "outputs": [],
      "source": [
        "df=pd.read_csv('/content/diabetic_data.csv')"
      ]
    },
    {
      "cell_type": "code",
      "execution_count": 3,
      "metadata": {
        "colab": {
          "base_uri": "https://localhost:8080/"
        },
        "id": "-A7Z6YznEGJH",
        "outputId": "ca225896-ae82-47dc-f587-4fab7a54e61c"
      },
      "outputs": [
        {
          "output_type": "stream",
          "name": "stdout",
          "text": [
            "<class 'pandas.core.frame.DataFrame'>\n",
            "RangeIndex: 101766 entries, 0 to 101765\n",
            "Data columns (total 50 columns):\n",
            " #   Column                    Non-Null Count   Dtype \n",
            "---  ------                    --------------   ----- \n",
            " 0   encounter_id              101766 non-null  int64 \n",
            " 1   patient_nbr               101766 non-null  int64 \n",
            " 2   race                      101766 non-null  object\n",
            " 3   gender                    101766 non-null  object\n",
            " 4   age                       101766 non-null  object\n",
            " 5   weight                    101766 non-null  object\n",
            " 6   admission_type_id         101766 non-null  int64 \n",
            " 7   discharge_disposition_id  101766 non-null  int64 \n",
            " 8   admission_source_id       101766 non-null  int64 \n",
            " 9   time_in_hospital          101766 non-null  int64 \n",
            " 10  payer_code                101766 non-null  object\n",
            " 11  medical_specialty         101766 non-null  object\n",
            " 12  num_lab_procedures        101766 non-null  int64 \n",
            " 13  num_procedures            101766 non-null  int64 \n",
            " 14  num_medications           101766 non-null  int64 \n",
            " 15  number_outpatient         101766 non-null  int64 \n",
            " 16  number_emergency          101766 non-null  int64 \n",
            " 17  number_inpatient          101766 non-null  int64 \n",
            " 18  diag_1                    101766 non-null  object\n",
            " 19  diag_2                    101766 non-null  object\n",
            " 20  diag_3                    101766 non-null  object\n",
            " 21  number_diagnoses          101766 non-null  int64 \n",
            " 22  max_glu_serum             101766 non-null  object\n",
            " 23  A1Cresult                 101766 non-null  object\n",
            " 24  metformin                 101766 non-null  object\n",
            " 25  repaglinide               101766 non-null  object\n",
            " 26  nateglinide               101766 non-null  object\n",
            " 27  chlorpropamide            101766 non-null  object\n",
            " 28  glimepiride               101766 non-null  object\n",
            " 29  acetohexamide             101766 non-null  object\n",
            " 30  glipizide                 101766 non-null  object\n",
            " 31  glyburide                 101766 non-null  object\n",
            " 32  tolbutamide               101766 non-null  object\n",
            " 33  pioglitazone              101766 non-null  object\n",
            " 34  rosiglitazone             101766 non-null  object\n",
            " 35  acarbose                  101766 non-null  object\n",
            " 36  miglitol                  101766 non-null  object\n",
            " 37  troglitazone              101766 non-null  object\n",
            " 38  tolazamide                101766 non-null  object\n",
            " 39  examide                   101766 non-null  object\n",
            " 40  citoglipton               101766 non-null  object\n",
            " 41  insulin                   101766 non-null  object\n",
            " 42  glyburide-metformin       101766 non-null  object\n",
            " 43  glipizide-metformin       101766 non-null  object\n",
            " 44  glimepiride-pioglitazone  101766 non-null  object\n",
            " 45  metformin-rosiglitazone   101766 non-null  object\n",
            " 46  metformin-pioglitazone    101766 non-null  object\n",
            " 47  change                    101766 non-null  object\n",
            " 48  diabetesMed               101766 non-null  object\n",
            " 49  readmitted                101766 non-null  object\n",
            "dtypes: int64(13), object(37)\n",
            "memory usage: 38.8+ MB\n"
          ]
        }
      ],
      "source": [
        "df.info()"
      ]
    },
    {
      "cell_type": "markdown",
      "metadata": {
        "id": "mOpHoyOiEGJJ"
      },
      "source": [
        "* **Encounter ID**: Unique identifier of an encounter\n",
        "* **Patient number**: Unique identifier of a patient\n",
        "* **Race Values**: Caucasian, Asian, African American, Hispanic, and other\n",
        "* **Gender Values**: male, female, and unknown/invalid\n",
        "* **Age** Grouped in 10-year intervals: 0, 10), 10, 20), …, 90, 100)\n",
        "* **Weight**: Weight in pounds\n",
        "* **Admission type**: Integer identifier corresponding to 9 distinct values, for example, emergency, urgent, elective, newborn, and not available\n",
        "* **Discharge disposition**: Integer identifier corresponding to 29 distinct values, for example, discharged to home, expired, and not available\n",
        "* **Admission source**: Integer identifier corresponding to 21 distinct values, for example, physician referral, emergency room, and transfer from a hospital\n",
        "* **Time in hospital**: Integer number of days between admission and discharge\n",
        "* **Payer code** : Integer identifier corresponding to 23 distinct values, for example, Blue Cross/Blue Shield, Medicare, and self-pay Medical\n",
        "* **Medical specialty**: Integer identifier of a specialty of the admitting physician, corresponding to 84 distinct values, for example, cardiology, internal medicine, family/general practice, and surgeon\n",
        "* **Number of lab procedures**: Number of lab tests performed during the encounter\n",
        "* **Number of procedures**: Numeric Number of procedures (other than lab tests) performed during the encounter\n",
        "* **Number of medications**: Number of distinct generic names administered during the encounter\n",
        "* **Number of outpatient visits**: Number of outpatient visits of the patient in the year preceding the encounter\n",
        "* **Number of emergency visits**: Number of emergency visits of the patient in the year preceding the encounter\n",
        "* **Number of inpatient visits**: Number of inpatient visits of the patient in the year preceding the encounter\n",
        "* **Diagnosis 1**: The primary diagnosis (coded as first three digits of ICD9); 848 distinct values\n",
        "* **Diagnosis 2**: Secondary diagnosis (coded as first three digits of ICD9); 923 distinct values\n",
        "* **Diagnosis 3**: Additional secondary diagnosis (coded as first three digits of ICD9); 954 distinct values\n",
        "* **Number of diagnoses** : Number of diagnoses entered to the system 0%\n",
        "* **Glucose serum test** : result Indicates the range of the result or if the test was not taken. Values: “>200,” “>300,” “normal,” and “none” if not measured\n",
        "* **A1c test result** : Indicates the range of the result or if the test was not taken. Values: “>8” if the result was greater than 8%, “>7” if the result was greater than 7% but less than 8%, “normal” if the result was less than 7%, and “none” if not measured.\n",
        "* **Change of medications** : Indicates if there was a change in diabetic medications (either dosage or generic name). Values: “change” and “no change”\n",
        "* **Diabetes medications** : Indicates if there was any diabetic medication prescribed. Values: “yes” and “no”\n",
        "24 features for medications For the generic names: metformin, repaglinide, nateglinide, chlorpropamide, glimepiride, acetohexamide, glipizide, glyburide, tolbutamide, pioglitazone, rosiglitazone, acarbose, miglitol, troglitazone, tolazamide, examide, sitagliptin, insulin, glyburide-metformin, glipizide-metformin, glimepiride- pioglitazone, metformin-rosiglitazone, and metformin- pioglitazone, the feature indicates whether the drug was prescribed or there was a change in the dosage. Values: “up” if the dosage was increased during the encounter, “down” if the dosage was decreased, “steady” if the dosage did not change, and “no” if the drug was not prescribed\n",
        "* **Readmitted** : Days to inpatient readmission. Values: “<30” if the patient was readmitted in less than 30 days, “>30” if the patient was readmitted in more than 30 days, and “No” for no record of readmission"
      ]
    },
    {
      "cell_type": "code",
      "execution_count": 4,
      "metadata": {
        "colab": {
          "base_uri": "https://localhost:8080/",
          "height": 404
        },
        "id": "hw_j8Q6CEGJP",
        "outputId": "a1fb6c33-5f22-4946-8788-58147f36f474"
      },
      "outputs": [
        {
          "output_type": "execute_result",
          "data": {
            "text/plain": [
              "   encounter_id  patient_nbr             race  gender      age weight  \\\n",
              "0       2278392      8222157        Caucasian  Female   [0-10)      ?   \n",
              "1        149190     55629189        Caucasian  Female  [10-20)      ?   \n",
              "2         64410     86047875  AfricanAmerican  Female  [20-30)      ?   \n",
              "3        500364     82442376        Caucasian    Male  [30-40)      ?   \n",
              "4         16680     42519267        Caucasian    Male  [40-50)      ?   \n",
              "\n",
              "   admission_type_id  discharge_disposition_id  admission_source_id  \\\n",
              "0                  6                        25                    1   \n",
              "1                  1                         1                    7   \n",
              "2                  1                         1                    7   \n",
              "3                  1                         1                    7   \n",
              "4                  1                         1                    7   \n",
              "\n",
              "   time_in_hospital  ... citoglipton insulin  glyburide-metformin  \\\n",
              "0                 1  ...          No      No                   No   \n",
              "1                 3  ...          No      Up                   No   \n",
              "2                 2  ...          No      No                   No   \n",
              "3                 2  ...          No      Up                   No   \n",
              "4                 1  ...          No  Steady                   No   \n",
              "\n",
              "   glipizide-metformin  glimepiride-pioglitazone  metformin-rosiglitazone  \\\n",
              "0                   No                        No                       No   \n",
              "1                   No                        No                       No   \n",
              "2                   No                        No                       No   \n",
              "3                   No                        No                       No   \n",
              "4                   No                        No                       No   \n",
              "\n",
              "   metformin-pioglitazone  change diabetesMed readmitted  \n",
              "0                      No      No          No         NO  \n",
              "1                      No      Ch         Yes        >30  \n",
              "2                      No      No         Yes         NO  \n",
              "3                      No      Ch         Yes         NO  \n",
              "4                      No      Ch         Yes         NO  \n",
              "\n",
              "[5 rows x 50 columns]"
            ],
            "text/html": [
              "\n",
              "  <div id=\"df-3fc8c03b-bda7-4d96-b470-ce2cce12731e\">\n",
              "    <div class=\"colab-df-container\">\n",
              "      <div>\n",
              "<style scoped>\n",
              "    .dataframe tbody tr th:only-of-type {\n",
              "        vertical-align: middle;\n",
              "    }\n",
              "\n",
              "    .dataframe tbody tr th {\n",
              "        vertical-align: top;\n",
              "    }\n",
              "\n",
              "    .dataframe thead th {\n",
              "        text-align: right;\n",
              "    }\n",
              "</style>\n",
              "<table border=\"1\" class=\"dataframe\">\n",
              "  <thead>\n",
              "    <tr style=\"text-align: right;\">\n",
              "      <th></th>\n",
              "      <th>encounter_id</th>\n",
              "      <th>patient_nbr</th>\n",
              "      <th>race</th>\n",
              "      <th>gender</th>\n",
              "      <th>age</th>\n",
              "      <th>weight</th>\n",
              "      <th>admission_type_id</th>\n",
              "      <th>discharge_disposition_id</th>\n",
              "      <th>admission_source_id</th>\n",
              "      <th>time_in_hospital</th>\n",
              "      <th>...</th>\n",
              "      <th>citoglipton</th>\n",
              "      <th>insulin</th>\n",
              "      <th>glyburide-metformin</th>\n",
              "      <th>glipizide-metformin</th>\n",
              "      <th>glimepiride-pioglitazone</th>\n",
              "      <th>metformin-rosiglitazone</th>\n",
              "      <th>metformin-pioglitazone</th>\n",
              "      <th>change</th>\n",
              "      <th>diabetesMed</th>\n",
              "      <th>readmitted</th>\n",
              "    </tr>\n",
              "  </thead>\n",
              "  <tbody>\n",
              "    <tr>\n",
              "      <th>0</th>\n",
              "      <td>2278392</td>\n",
              "      <td>8222157</td>\n",
              "      <td>Caucasian</td>\n",
              "      <td>Female</td>\n",
              "      <td>[0-10)</td>\n",
              "      <td>?</td>\n",
              "      <td>6</td>\n",
              "      <td>25</td>\n",
              "      <td>1</td>\n",
              "      <td>1</td>\n",
              "      <td>...</td>\n",
              "      <td>No</td>\n",
              "      <td>No</td>\n",
              "      <td>No</td>\n",
              "      <td>No</td>\n",
              "      <td>No</td>\n",
              "      <td>No</td>\n",
              "      <td>No</td>\n",
              "      <td>No</td>\n",
              "      <td>No</td>\n",
              "      <td>NO</td>\n",
              "    </tr>\n",
              "    <tr>\n",
              "      <th>1</th>\n",
              "      <td>149190</td>\n",
              "      <td>55629189</td>\n",
              "      <td>Caucasian</td>\n",
              "      <td>Female</td>\n",
              "      <td>[10-20)</td>\n",
              "      <td>?</td>\n",
              "      <td>1</td>\n",
              "      <td>1</td>\n",
              "      <td>7</td>\n",
              "      <td>3</td>\n",
              "      <td>...</td>\n",
              "      <td>No</td>\n",
              "      <td>Up</td>\n",
              "      <td>No</td>\n",
              "      <td>No</td>\n",
              "      <td>No</td>\n",
              "      <td>No</td>\n",
              "      <td>No</td>\n",
              "      <td>Ch</td>\n",
              "      <td>Yes</td>\n",
              "      <td>&gt;30</td>\n",
              "    </tr>\n",
              "    <tr>\n",
              "      <th>2</th>\n",
              "      <td>64410</td>\n",
              "      <td>86047875</td>\n",
              "      <td>AfricanAmerican</td>\n",
              "      <td>Female</td>\n",
              "      <td>[20-30)</td>\n",
              "      <td>?</td>\n",
              "      <td>1</td>\n",
              "      <td>1</td>\n",
              "      <td>7</td>\n",
              "      <td>2</td>\n",
              "      <td>...</td>\n",
              "      <td>No</td>\n",
              "      <td>No</td>\n",
              "      <td>No</td>\n",
              "      <td>No</td>\n",
              "      <td>No</td>\n",
              "      <td>No</td>\n",
              "      <td>No</td>\n",
              "      <td>No</td>\n",
              "      <td>Yes</td>\n",
              "      <td>NO</td>\n",
              "    </tr>\n",
              "    <tr>\n",
              "      <th>3</th>\n",
              "      <td>500364</td>\n",
              "      <td>82442376</td>\n",
              "      <td>Caucasian</td>\n",
              "      <td>Male</td>\n",
              "      <td>[30-40)</td>\n",
              "      <td>?</td>\n",
              "      <td>1</td>\n",
              "      <td>1</td>\n",
              "      <td>7</td>\n",
              "      <td>2</td>\n",
              "      <td>...</td>\n",
              "      <td>No</td>\n",
              "      <td>Up</td>\n",
              "      <td>No</td>\n",
              "      <td>No</td>\n",
              "      <td>No</td>\n",
              "      <td>No</td>\n",
              "      <td>No</td>\n",
              "      <td>Ch</td>\n",
              "      <td>Yes</td>\n",
              "      <td>NO</td>\n",
              "    </tr>\n",
              "    <tr>\n",
              "      <th>4</th>\n",
              "      <td>16680</td>\n",
              "      <td>42519267</td>\n",
              "      <td>Caucasian</td>\n",
              "      <td>Male</td>\n",
              "      <td>[40-50)</td>\n",
              "      <td>?</td>\n",
              "      <td>1</td>\n",
              "      <td>1</td>\n",
              "      <td>7</td>\n",
              "      <td>1</td>\n",
              "      <td>...</td>\n",
              "      <td>No</td>\n",
              "      <td>Steady</td>\n",
              "      <td>No</td>\n",
              "      <td>No</td>\n",
              "      <td>No</td>\n",
              "      <td>No</td>\n",
              "      <td>No</td>\n",
              "      <td>Ch</td>\n",
              "      <td>Yes</td>\n",
              "      <td>NO</td>\n",
              "    </tr>\n",
              "  </tbody>\n",
              "</table>\n",
              "<p>5 rows × 50 columns</p>\n",
              "</div>\n",
              "      <button class=\"colab-df-convert\" onclick=\"convertToInteractive('df-3fc8c03b-bda7-4d96-b470-ce2cce12731e')\"\n",
              "              title=\"Convert this dataframe to an interactive table.\"\n",
              "              style=\"display:none;\">\n",
              "        \n",
              "  <svg xmlns=\"http://www.w3.org/2000/svg\" height=\"24px\"viewBox=\"0 0 24 24\"\n",
              "       width=\"24px\">\n",
              "    <path d=\"M0 0h24v24H0V0z\" fill=\"none\"/>\n",
              "    <path d=\"M18.56 5.44l.94 2.06.94-2.06 2.06-.94-2.06-.94-.94-2.06-.94 2.06-2.06.94zm-11 1L8.5 8.5l.94-2.06 2.06-.94-2.06-.94L8.5 2.5l-.94 2.06-2.06.94zm10 10l.94 2.06.94-2.06 2.06-.94-2.06-.94-.94-2.06-.94 2.06-2.06.94z\"/><path d=\"M17.41 7.96l-1.37-1.37c-.4-.4-.92-.59-1.43-.59-.52 0-1.04.2-1.43.59L10.3 9.45l-7.72 7.72c-.78.78-.78 2.05 0 2.83L4 21.41c.39.39.9.59 1.41.59.51 0 1.02-.2 1.41-.59l7.78-7.78 2.81-2.81c.8-.78.8-2.07 0-2.86zM5.41 20L4 18.59l7.72-7.72 1.47 1.35L5.41 20z\"/>\n",
              "  </svg>\n",
              "      </button>\n",
              "      \n",
              "  <style>\n",
              "    .colab-df-container {\n",
              "      display:flex;\n",
              "      flex-wrap:wrap;\n",
              "      gap: 12px;\n",
              "    }\n",
              "\n",
              "    .colab-df-convert {\n",
              "      background-color: #E8F0FE;\n",
              "      border: none;\n",
              "      border-radius: 50%;\n",
              "      cursor: pointer;\n",
              "      display: none;\n",
              "      fill: #1967D2;\n",
              "      height: 32px;\n",
              "      padding: 0 0 0 0;\n",
              "      width: 32px;\n",
              "    }\n",
              "\n",
              "    .colab-df-convert:hover {\n",
              "      background-color: #E2EBFA;\n",
              "      box-shadow: 0px 1px 2px rgba(60, 64, 67, 0.3), 0px 1px 3px 1px rgba(60, 64, 67, 0.15);\n",
              "      fill: #174EA6;\n",
              "    }\n",
              "\n",
              "    [theme=dark] .colab-df-convert {\n",
              "      background-color: #3B4455;\n",
              "      fill: #D2E3FC;\n",
              "    }\n",
              "\n",
              "    [theme=dark] .colab-df-convert:hover {\n",
              "      background-color: #434B5C;\n",
              "      box-shadow: 0px 1px 3px 1px rgba(0, 0, 0, 0.15);\n",
              "      filter: drop-shadow(0px 1px 2px rgba(0, 0, 0, 0.3));\n",
              "      fill: #FFFFFF;\n",
              "    }\n",
              "  </style>\n",
              "\n",
              "      <script>\n",
              "        const buttonEl =\n",
              "          document.querySelector('#df-3fc8c03b-bda7-4d96-b470-ce2cce12731e button.colab-df-convert');\n",
              "        buttonEl.style.display =\n",
              "          google.colab.kernel.accessAllowed ? 'block' : 'none';\n",
              "\n",
              "        async function convertToInteractive(key) {\n",
              "          const element = document.querySelector('#df-3fc8c03b-bda7-4d96-b470-ce2cce12731e');\n",
              "          const dataTable =\n",
              "            await google.colab.kernel.invokeFunction('convertToInteractive',\n",
              "                                                     [key], {});\n",
              "          if (!dataTable) return;\n",
              "\n",
              "          const docLinkHtml = 'Like what you see? Visit the ' +\n",
              "            '<a target=\"_blank\" href=https://colab.research.google.com/notebooks/data_table.ipynb>data table notebook</a>'\n",
              "            + ' to learn more about interactive tables.';\n",
              "          element.innerHTML = '';\n",
              "          dataTable['output_type'] = 'display_data';\n",
              "          await google.colab.output.renderOutput(dataTable, element);\n",
              "          const docLink = document.createElement('div');\n",
              "          docLink.innerHTML = docLinkHtml;\n",
              "          element.appendChild(docLink);\n",
              "        }\n",
              "      </script>\n",
              "    </div>\n",
              "  </div>\n",
              "  "
            ]
          },
          "metadata": {},
          "execution_count": 4
        }
      ],
      "source": [
        "df.head()"
      ]
    },
    {
      "cell_type": "markdown",
      "metadata": {
        "id": "0jJihVKVEGJR"
      },
      "source": [
        "Ok, now that we have a glimpse of the data, let's explore them."
      ]
    },
    {
      "cell_type": "markdown",
      "metadata": {
        "id": "L3VrK-N7A6WH"
      },
      "source": [
        "The most important column here is readmitted, which tells us if a patient was hospitalized within 30 days, greater than 30 days or not readmitted."
      ]
    },
    {
      "cell_type": "markdown",
      "metadata": {
        "id": "RXC7sBXuAtn_"
      },
      "source": [
        "The most important column here is readmitted, which tells us if a patient was hospitalized within 30 days, greater than 30 days or not readmitted."
      ]
    },
    {
      "cell_type": "code",
      "execution_count": 5,
      "metadata": {
        "colab": {
          "base_uri": "https://localhost:8080/"
        },
        "id": "r1bKUb0HAuiU",
        "outputId": "a40f559a-92b2-4617-a0d4-b8eeee05e881"
      },
      "outputs": [
        {
          "output_type": "execute_result",
          "data": {
            "text/plain": [
              "readmitted\n",
              "<30    11357\n",
              ">30    35545\n",
              "NO     54864\n",
              "dtype: int64"
            ]
          },
          "metadata": {},
          "execution_count": 5
        }
      ],
      "source": [
        "# count the number of rows for each type\n",
        "df.groupby('readmitted').size()"
      ]
    },
    {
      "cell_type": "markdown",
      "metadata": {
        "id": "Isn30rEhBQHE"
      },
      "source": [
        "Another column that is important is `discharge_disposition_id`, which tells us where the patient went after the hospitalization."
      ]
    },
    {
      "cell_type": "code",
      "execution_count": 6,
      "metadata": {
        "colab": {
          "base_uri": "https://localhost:8080/"
        },
        "id": "pwYPxbFVA-B0",
        "outputId": "7cd37c8b-6a80-4c3a-bc40-1a5b28ce215b"
      },
      "outputs": [
        {
          "output_type": "execute_result",
          "data": {
            "text/plain": [
              "discharge_disposition_id\n",
              "1     60234\n",
              "2      2128\n",
              "3     13954\n",
              "4       815\n",
              "5      1184\n",
              "6     12902\n",
              "7       623\n",
              "8       108\n",
              "9        21\n",
              "10        6\n",
              "11     1642\n",
              "12        3\n",
              "13      399\n",
              "14      372\n",
              "15       63\n",
              "16       11\n",
              "17       14\n",
              "18     3691\n",
              "19        8\n",
              "20        2\n",
              "22     1993\n",
              "23      412\n",
              "24       48\n",
              "25      989\n",
              "27        5\n",
              "28      139\n",
              "dtype: int64"
            ]
          },
          "metadata": {},
          "execution_count": 6
        }
      ],
      "source": [
        "df.groupby('discharge_disposition_id').size()"
      ]
    },
    {
      "cell_type": "markdown",
      "metadata": {
        "id": "n1yEeKB3Bam3"
      },
      "source": [
        "If we look at the IDs_mapping.csv we can see that 11,13,14,19,20,21 are related to death or hospice. We should remove these samples from the predictive model."
      ]
    },
    {
      "cell_type": "code",
      "execution_count": 7,
      "metadata": {
        "id": "3s4lJtjOA-FT"
      },
      "outputs": [],
      "source": [
        "df = df.loc[~df.discharge_disposition_id.isin([11,13,14,19,20,21])]"
      ]
    },
    {
      "cell_type": "markdown",
      "metadata": {
        "id": "7B68Y5p_Bhzg"
      },
      "source": [
        "Now let's define an output variable for our binary classification. Here we will try to predict if a patient is likely to be re-admitted within 30 days of discharge."
      ]
    },
    {
      "cell_type": "code",
      "execution_count": 8,
      "metadata": {
        "id": "_z2cl3mTBeXg"
      },
      "outputs": [],
      "source": [
        "df['target'] = (df.readmitted == '<30').astype('int')"
      ]
    },
    {
      "cell_type": "code",
      "execution_count": 9,
      "metadata": {
        "colab": {
          "base_uri": "https://localhost:8080/"
        },
        "id": "ySJ9v3h5Bed3",
        "outputId": "4449eb6d-d4c7-4e22-d0b1-aca7833f478b"
      },
      "outputs": [
        {
          "output_type": "execute_result",
          "data": {
            "text/plain": [
              "0    88029\n",
              "1    11314\n",
              "Name: target, dtype: int64"
            ]
          },
          "metadata": {},
          "execution_count": 9
        }
      ],
      "source": [
        "df['target'].value_counts()"
      ]
    },
    {
      "cell_type": "markdown",
      "metadata": {
        "id": "tTqPBNiRB-Nb"
      },
      "source": [
        "Let's define a function to calculate the prevalence of population that is readmitted with 30 days."
      ]
    },
    {
      "cell_type": "code",
      "execution_count": 10,
      "metadata": {
        "id": "dvPtNEqJB7EI"
      },
      "outputs": [],
      "source": [
        "def calc_prevalence(y_actual):\n",
        "    return (sum(y_actual)/len(y_actual))"
      ]
    },
    {
      "cell_type": "code",
      "execution_count": 11,
      "metadata": {
        "colab": {
          "base_uri": "https://localhost:8080/"
        },
        "id": "BBNx3IKNCCiA",
        "outputId": "55f3ebba-808b-4cb7-f901-0e64284a1305"
      },
      "outputs": [
        {
          "output_type": "stream",
          "name": "stdout",
          "text": [
            "Prevalence:0.114\n"
          ]
        }
      ],
      "source": [
        "print('Prevalence:%.3f'%calc_prevalence(df['target'].values))"
      ]
    },
    {
      "cell_type": "markdown",
      "metadata": {
        "id": "gbxSRWGfCLav"
      },
      "source": [
        "Around 11% of the population is rehospitalized. This represented an imbalanced classification problem so we will address that below. "
      ]
    },
    {
      "cell_type": "markdown",
      "metadata": {
        "id": "fi1a__aZCSkq"
      },
      "source": [
        "Now we would like to get a feeling of the data for each column in our dataset. Pandas doesn't allow you to see all the columns at once, so let's look at them in groups of 10."
      ]
    },
    {
      "cell_type": "code",
      "execution_count": 12,
      "metadata": {
        "colab": {
          "base_uri": "https://localhost:8080/"
        },
        "id": "c-dGMA1JCMNh",
        "outputId": "40a93a18-bb2a-47b4-fe11-04f51fef0c13"
      },
      "outputs": [
        {
          "output_type": "stream",
          "name": "stdout",
          "text": [
            "Number of columns: 51\n"
          ]
        }
      ],
      "source": [
        "print('Number of columns:',len(df.columns))"
      ]
    },
    {
      "cell_type": "code",
      "execution_count": 13,
      "metadata": {
        "colab": {
          "base_uri": "https://localhost:8080/",
          "height": 206
        },
        "id": "kEkopO20C3eR",
        "outputId": "9c50ec92-0c93-49cf-8a7b-18a9d3ce1b4e"
      },
      "outputs": [
        {
          "output_type": "execute_result",
          "data": {
            "text/plain": [
              "   encounter_id  patient_nbr             race  gender      age weight  \\\n",
              "0       2278392      8222157        Caucasian  Female   [0-10)      ?   \n",
              "1        149190     55629189        Caucasian  Female  [10-20)      ?   \n",
              "2         64410     86047875  AfricanAmerican  Female  [20-30)      ?   \n",
              "3        500364     82442376        Caucasian    Male  [30-40)      ?   \n",
              "4         16680     42519267        Caucasian    Male  [40-50)      ?   \n",
              "\n",
              "   admission_type_id  discharge_disposition_id  admission_source_id  \\\n",
              "0                  6                        25                    1   \n",
              "1                  1                         1                    7   \n",
              "2                  1                         1                    7   \n",
              "3                  1                         1                    7   \n",
              "4                  1                         1                    7   \n",
              "\n",
              "   time_in_hospital  \n",
              "0                 1  \n",
              "1                 3  \n",
              "2                 2  \n",
              "3                 2  \n",
              "4                 1  "
            ],
            "text/html": [
              "\n",
              "  <div id=\"df-73c52e0a-06a6-4b30-b705-734a6d37a417\">\n",
              "    <div class=\"colab-df-container\">\n",
              "      <div>\n",
              "<style scoped>\n",
              "    .dataframe tbody tr th:only-of-type {\n",
              "        vertical-align: middle;\n",
              "    }\n",
              "\n",
              "    .dataframe tbody tr th {\n",
              "        vertical-align: top;\n",
              "    }\n",
              "\n",
              "    .dataframe thead th {\n",
              "        text-align: right;\n",
              "    }\n",
              "</style>\n",
              "<table border=\"1\" class=\"dataframe\">\n",
              "  <thead>\n",
              "    <tr style=\"text-align: right;\">\n",
              "      <th></th>\n",
              "      <th>encounter_id</th>\n",
              "      <th>patient_nbr</th>\n",
              "      <th>race</th>\n",
              "      <th>gender</th>\n",
              "      <th>age</th>\n",
              "      <th>weight</th>\n",
              "      <th>admission_type_id</th>\n",
              "      <th>discharge_disposition_id</th>\n",
              "      <th>admission_source_id</th>\n",
              "      <th>time_in_hospital</th>\n",
              "    </tr>\n",
              "  </thead>\n",
              "  <tbody>\n",
              "    <tr>\n",
              "      <th>0</th>\n",
              "      <td>2278392</td>\n",
              "      <td>8222157</td>\n",
              "      <td>Caucasian</td>\n",
              "      <td>Female</td>\n",
              "      <td>[0-10)</td>\n",
              "      <td>?</td>\n",
              "      <td>6</td>\n",
              "      <td>25</td>\n",
              "      <td>1</td>\n",
              "      <td>1</td>\n",
              "    </tr>\n",
              "    <tr>\n",
              "      <th>1</th>\n",
              "      <td>149190</td>\n",
              "      <td>55629189</td>\n",
              "      <td>Caucasian</td>\n",
              "      <td>Female</td>\n",
              "      <td>[10-20)</td>\n",
              "      <td>?</td>\n",
              "      <td>1</td>\n",
              "      <td>1</td>\n",
              "      <td>7</td>\n",
              "      <td>3</td>\n",
              "    </tr>\n",
              "    <tr>\n",
              "      <th>2</th>\n",
              "      <td>64410</td>\n",
              "      <td>86047875</td>\n",
              "      <td>AfricanAmerican</td>\n",
              "      <td>Female</td>\n",
              "      <td>[20-30)</td>\n",
              "      <td>?</td>\n",
              "      <td>1</td>\n",
              "      <td>1</td>\n",
              "      <td>7</td>\n",
              "      <td>2</td>\n",
              "    </tr>\n",
              "    <tr>\n",
              "      <th>3</th>\n",
              "      <td>500364</td>\n",
              "      <td>82442376</td>\n",
              "      <td>Caucasian</td>\n",
              "      <td>Male</td>\n",
              "      <td>[30-40)</td>\n",
              "      <td>?</td>\n",
              "      <td>1</td>\n",
              "      <td>1</td>\n",
              "      <td>7</td>\n",
              "      <td>2</td>\n",
              "    </tr>\n",
              "    <tr>\n",
              "      <th>4</th>\n",
              "      <td>16680</td>\n",
              "      <td>42519267</td>\n",
              "      <td>Caucasian</td>\n",
              "      <td>Male</td>\n",
              "      <td>[40-50)</td>\n",
              "      <td>?</td>\n",
              "      <td>1</td>\n",
              "      <td>1</td>\n",
              "      <td>7</td>\n",
              "      <td>1</td>\n",
              "    </tr>\n",
              "  </tbody>\n",
              "</table>\n",
              "</div>\n",
              "      <button class=\"colab-df-convert\" onclick=\"convertToInteractive('df-73c52e0a-06a6-4b30-b705-734a6d37a417')\"\n",
              "              title=\"Convert this dataframe to an interactive table.\"\n",
              "              style=\"display:none;\">\n",
              "        \n",
              "  <svg xmlns=\"http://www.w3.org/2000/svg\" height=\"24px\"viewBox=\"0 0 24 24\"\n",
              "       width=\"24px\">\n",
              "    <path d=\"M0 0h24v24H0V0z\" fill=\"none\"/>\n",
              "    <path d=\"M18.56 5.44l.94 2.06.94-2.06 2.06-.94-2.06-.94-.94-2.06-.94 2.06-2.06.94zm-11 1L8.5 8.5l.94-2.06 2.06-.94-2.06-.94L8.5 2.5l-.94 2.06-2.06.94zm10 10l.94 2.06.94-2.06 2.06-.94-2.06-.94-.94-2.06-.94 2.06-2.06.94z\"/><path d=\"M17.41 7.96l-1.37-1.37c-.4-.4-.92-.59-1.43-.59-.52 0-1.04.2-1.43.59L10.3 9.45l-7.72 7.72c-.78.78-.78 2.05 0 2.83L4 21.41c.39.39.9.59 1.41.59.51 0 1.02-.2 1.41-.59l7.78-7.78 2.81-2.81c.8-.78.8-2.07 0-2.86zM5.41 20L4 18.59l7.72-7.72 1.47 1.35L5.41 20z\"/>\n",
              "  </svg>\n",
              "      </button>\n",
              "      \n",
              "  <style>\n",
              "    .colab-df-container {\n",
              "      display:flex;\n",
              "      flex-wrap:wrap;\n",
              "      gap: 12px;\n",
              "    }\n",
              "\n",
              "    .colab-df-convert {\n",
              "      background-color: #E8F0FE;\n",
              "      border: none;\n",
              "      border-radius: 50%;\n",
              "      cursor: pointer;\n",
              "      display: none;\n",
              "      fill: #1967D2;\n",
              "      height: 32px;\n",
              "      padding: 0 0 0 0;\n",
              "      width: 32px;\n",
              "    }\n",
              "\n",
              "    .colab-df-convert:hover {\n",
              "      background-color: #E2EBFA;\n",
              "      box-shadow: 0px 1px 2px rgba(60, 64, 67, 0.3), 0px 1px 3px 1px rgba(60, 64, 67, 0.15);\n",
              "      fill: #174EA6;\n",
              "    }\n",
              "\n",
              "    [theme=dark] .colab-df-convert {\n",
              "      background-color: #3B4455;\n",
              "      fill: #D2E3FC;\n",
              "    }\n",
              "\n",
              "    [theme=dark] .colab-df-convert:hover {\n",
              "      background-color: #434B5C;\n",
              "      box-shadow: 0px 1px 3px 1px rgba(0, 0, 0, 0.15);\n",
              "      filter: drop-shadow(0px 1px 2px rgba(0, 0, 0, 0.3));\n",
              "      fill: #FFFFFF;\n",
              "    }\n",
              "  </style>\n",
              "\n",
              "      <script>\n",
              "        const buttonEl =\n",
              "          document.querySelector('#df-73c52e0a-06a6-4b30-b705-734a6d37a417 button.colab-df-convert');\n",
              "        buttonEl.style.display =\n",
              "          google.colab.kernel.accessAllowed ? 'block' : 'none';\n",
              "\n",
              "        async function convertToInteractive(key) {\n",
              "          const element = document.querySelector('#df-73c52e0a-06a6-4b30-b705-734a6d37a417');\n",
              "          const dataTable =\n",
              "            await google.colab.kernel.invokeFunction('convertToInteractive',\n",
              "                                                     [key], {});\n",
              "          if (!dataTable) return;\n",
              "\n",
              "          const docLinkHtml = 'Like what you see? Visit the ' +\n",
              "            '<a target=\"_blank\" href=https://colab.research.google.com/notebooks/data_table.ipynb>data table notebook</a>'\n",
              "            + ' to learn more about interactive tables.';\n",
              "          element.innerHTML = '';\n",
              "          dataTable['output_type'] = 'display_data';\n",
              "          await google.colab.output.renderOutput(dataTable, element);\n",
              "          const docLink = document.createElement('div');\n",
              "          docLink.innerHTML = docLinkHtml;\n",
              "          element.appendChild(docLink);\n",
              "        }\n",
              "      </script>\n",
              "    </div>\n",
              "  </div>\n",
              "  "
            ]
          },
          "metadata": {},
          "execution_count": 13
        }
      ],
      "source": [
        "df[list(df.columns)[:10]].head()"
      ]
    },
    {
      "cell_type": "code",
      "execution_count": 14,
      "metadata": {
        "colab": {
          "base_uri": "https://localhost:8080/",
          "height": 206
        },
        "id": "0XONhzZUC7GV",
        "outputId": "a854cdf3-ca22-45af-85e9-a38e4b1e8e3b"
      },
      "outputs": [
        {
          "output_type": "execute_result",
          "data": {
            "text/plain": [
              "  payer_code         medical_specialty  num_lab_procedures  num_procedures  \\\n",
              "0          ?  Pediatrics-Endocrinology                  41               0   \n",
              "1          ?                         ?                  59               0   \n",
              "2          ?                         ?                  11               5   \n",
              "3          ?                         ?                  44               1   \n",
              "4          ?                         ?                  51               0   \n",
              "\n",
              "   num_medications  number_outpatient  number_emergency  number_inpatient  \\\n",
              "0                1                  0                 0                 0   \n",
              "1               18                  0                 0                 0   \n",
              "2               13                  2                 0                 1   \n",
              "3               16                  0                 0                 0   \n",
              "4                8                  0                 0                 0   \n",
              "\n",
              "   diag_1  diag_2  \n",
              "0  250.83       ?  \n",
              "1     276  250.01  \n",
              "2     648     250  \n",
              "3       8  250.43  \n",
              "4     197     157  "
            ],
            "text/html": [
              "\n",
              "  <div id=\"df-38ab851f-5d9b-4c0e-95f9-ece1a9ea44a6\">\n",
              "    <div class=\"colab-df-container\">\n",
              "      <div>\n",
              "<style scoped>\n",
              "    .dataframe tbody tr th:only-of-type {\n",
              "        vertical-align: middle;\n",
              "    }\n",
              "\n",
              "    .dataframe tbody tr th {\n",
              "        vertical-align: top;\n",
              "    }\n",
              "\n",
              "    .dataframe thead th {\n",
              "        text-align: right;\n",
              "    }\n",
              "</style>\n",
              "<table border=\"1\" class=\"dataframe\">\n",
              "  <thead>\n",
              "    <tr style=\"text-align: right;\">\n",
              "      <th></th>\n",
              "      <th>payer_code</th>\n",
              "      <th>medical_specialty</th>\n",
              "      <th>num_lab_procedures</th>\n",
              "      <th>num_procedures</th>\n",
              "      <th>num_medications</th>\n",
              "      <th>number_outpatient</th>\n",
              "      <th>number_emergency</th>\n",
              "      <th>number_inpatient</th>\n",
              "      <th>diag_1</th>\n",
              "      <th>diag_2</th>\n",
              "    </tr>\n",
              "  </thead>\n",
              "  <tbody>\n",
              "    <tr>\n",
              "      <th>0</th>\n",
              "      <td>?</td>\n",
              "      <td>Pediatrics-Endocrinology</td>\n",
              "      <td>41</td>\n",
              "      <td>0</td>\n",
              "      <td>1</td>\n",
              "      <td>0</td>\n",
              "      <td>0</td>\n",
              "      <td>0</td>\n",
              "      <td>250.83</td>\n",
              "      <td>?</td>\n",
              "    </tr>\n",
              "    <tr>\n",
              "      <th>1</th>\n",
              "      <td>?</td>\n",
              "      <td>?</td>\n",
              "      <td>59</td>\n",
              "      <td>0</td>\n",
              "      <td>18</td>\n",
              "      <td>0</td>\n",
              "      <td>0</td>\n",
              "      <td>0</td>\n",
              "      <td>276</td>\n",
              "      <td>250.01</td>\n",
              "    </tr>\n",
              "    <tr>\n",
              "      <th>2</th>\n",
              "      <td>?</td>\n",
              "      <td>?</td>\n",
              "      <td>11</td>\n",
              "      <td>5</td>\n",
              "      <td>13</td>\n",
              "      <td>2</td>\n",
              "      <td>0</td>\n",
              "      <td>1</td>\n",
              "      <td>648</td>\n",
              "      <td>250</td>\n",
              "    </tr>\n",
              "    <tr>\n",
              "      <th>3</th>\n",
              "      <td>?</td>\n",
              "      <td>?</td>\n",
              "      <td>44</td>\n",
              "      <td>1</td>\n",
              "      <td>16</td>\n",
              "      <td>0</td>\n",
              "      <td>0</td>\n",
              "      <td>0</td>\n",
              "      <td>8</td>\n",
              "      <td>250.43</td>\n",
              "    </tr>\n",
              "    <tr>\n",
              "      <th>4</th>\n",
              "      <td>?</td>\n",
              "      <td>?</td>\n",
              "      <td>51</td>\n",
              "      <td>0</td>\n",
              "      <td>8</td>\n",
              "      <td>0</td>\n",
              "      <td>0</td>\n",
              "      <td>0</td>\n",
              "      <td>197</td>\n",
              "      <td>157</td>\n",
              "    </tr>\n",
              "  </tbody>\n",
              "</table>\n",
              "</div>\n",
              "      <button class=\"colab-df-convert\" onclick=\"convertToInteractive('df-38ab851f-5d9b-4c0e-95f9-ece1a9ea44a6')\"\n",
              "              title=\"Convert this dataframe to an interactive table.\"\n",
              "              style=\"display:none;\">\n",
              "        \n",
              "  <svg xmlns=\"http://www.w3.org/2000/svg\" height=\"24px\"viewBox=\"0 0 24 24\"\n",
              "       width=\"24px\">\n",
              "    <path d=\"M0 0h24v24H0V0z\" fill=\"none\"/>\n",
              "    <path d=\"M18.56 5.44l.94 2.06.94-2.06 2.06-.94-2.06-.94-.94-2.06-.94 2.06-2.06.94zm-11 1L8.5 8.5l.94-2.06 2.06-.94-2.06-.94L8.5 2.5l-.94 2.06-2.06.94zm10 10l.94 2.06.94-2.06 2.06-.94-2.06-.94-.94-2.06-.94 2.06-2.06.94z\"/><path d=\"M17.41 7.96l-1.37-1.37c-.4-.4-.92-.59-1.43-.59-.52 0-1.04.2-1.43.59L10.3 9.45l-7.72 7.72c-.78.78-.78 2.05 0 2.83L4 21.41c.39.39.9.59 1.41.59.51 0 1.02-.2 1.41-.59l7.78-7.78 2.81-2.81c.8-.78.8-2.07 0-2.86zM5.41 20L4 18.59l7.72-7.72 1.47 1.35L5.41 20z\"/>\n",
              "  </svg>\n",
              "      </button>\n",
              "      \n",
              "  <style>\n",
              "    .colab-df-container {\n",
              "      display:flex;\n",
              "      flex-wrap:wrap;\n",
              "      gap: 12px;\n",
              "    }\n",
              "\n",
              "    .colab-df-convert {\n",
              "      background-color: #E8F0FE;\n",
              "      border: none;\n",
              "      border-radius: 50%;\n",
              "      cursor: pointer;\n",
              "      display: none;\n",
              "      fill: #1967D2;\n",
              "      height: 32px;\n",
              "      padding: 0 0 0 0;\n",
              "      width: 32px;\n",
              "    }\n",
              "\n",
              "    .colab-df-convert:hover {\n",
              "      background-color: #E2EBFA;\n",
              "      box-shadow: 0px 1px 2px rgba(60, 64, 67, 0.3), 0px 1px 3px 1px rgba(60, 64, 67, 0.15);\n",
              "      fill: #174EA6;\n",
              "    }\n",
              "\n",
              "    [theme=dark] .colab-df-convert {\n",
              "      background-color: #3B4455;\n",
              "      fill: #D2E3FC;\n",
              "    }\n",
              "\n",
              "    [theme=dark] .colab-df-convert:hover {\n",
              "      background-color: #434B5C;\n",
              "      box-shadow: 0px 1px 3px 1px rgba(0, 0, 0, 0.15);\n",
              "      filter: drop-shadow(0px 1px 2px rgba(0, 0, 0, 0.3));\n",
              "      fill: #FFFFFF;\n",
              "    }\n",
              "  </style>\n",
              "\n",
              "      <script>\n",
              "        const buttonEl =\n",
              "          document.querySelector('#df-38ab851f-5d9b-4c0e-95f9-ece1a9ea44a6 button.colab-df-convert');\n",
              "        buttonEl.style.display =\n",
              "          google.colab.kernel.accessAllowed ? 'block' : 'none';\n",
              "\n",
              "        async function convertToInteractive(key) {\n",
              "          const element = document.querySelector('#df-38ab851f-5d9b-4c0e-95f9-ece1a9ea44a6');\n",
              "          const dataTable =\n",
              "            await google.colab.kernel.invokeFunction('convertToInteractive',\n",
              "                                                     [key], {});\n",
              "          if (!dataTable) return;\n",
              "\n",
              "          const docLinkHtml = 'Like what you see? Visit the ' +\n",
              "            '<a target=\"_blank\" href=https://colab.research.google.com/notebooks/data_table.ipynb>data table notebook</a>'\n",
              "            + ' to learn more about interactive tables.';\n",
              "          element.innerHTML = '';\n",
              "          dataTable['output_type'] = 'display_data';\n",
              "          await google.colab.output.renderOutput(dataTable, element);\n",
              "          const docLink = document.createElement('div');\n",
              "          docLink.innerHTML = docLinkHtml;\n",
              "          element.appendChild(docLink);\n",
              "        }\n",
              "      </script>\n",
              "    </div>\n",
              "  </div>\n",
              "  "
            ]
          },
          "metadata": {},
          "execution_count": 14
        }
      ],
      "source": [
        "df[list(df.columns)[10:20]].head()"
      ]
    },
    {
      "cell_type": "code",
      "execution_count": 15,
      "metadata": {
        "colab": {
          "base_uri": "https://localhost:8080/",
          "height": 206
        },
        "id": "0ThF5UfjDBSg",
        "outputId": "bfb00892-1662-4c3d-9390-7d42f346edf5"
      },
      "outputs": [
        {
          "output_type": "execute_result",
          "data": {
            "text/plain": [
              "  diag_3  number_diagnoses max_glu_serum A1Cresult metformin repaglinide  \\\n",
              "0      ?                 1          None      None        No          No   \n",
              "1    255                 9          None      None        No          No   \n",
              "2    V27                 6          None      None        No          No   \n",
              "3    403                 7          None      None        No          No   \n",
              "4    250                 5          None      None        No          No   \n",
              "\n",
              "  nateglinide chlorpropamide glimepiride acetohexamide  \n",
              "0          No             No          No            No  \n",
              "1          No             No          No            No  \n",
              "2          No             No          No            No  \n",
              "3          No             No          No            No  \n",
              "4          No             No          No            No  "
            ],
            "text/html": [
              "\n",
              "  <div id=\"df-4c36e18e-cedf-4bb5-a8de-b248bd5ae8ff\">\n",
              "    <div class=\"colab-df-container\">\n",
              "      <div>\n",
              "<style scoped>\n",
              "    .dataframe tbody tr th:only-of-type {\n",
              "        vertical-align: middle;\n",
              "    }\n",
              "\n",
              "    .dataframe tbody tr th {\n",
              "        vertical-align: top;\n",
              "    }\n",
              "\n",
              "    .dataframe thead th {\n",
              "        text-align: right;\n",
              "    }\n",
              "</style>\n",
              "<table border=\"1\" class=\"dataframe\">\n",
              "  <thead>\n",
              "    <tr style=\"text-align: right;\">\n",
              "      <th></th>\n",
              "      <th>diag_3</th>\n",
              "      <th>number_diagnoses</th>\n",
              "      <th>max_glu_serum</th>\n",
              "      <th>A1Cresult</th>\n",
              "      <th>metformin</th>\n",
              "      <th>repaglinide</th>\n",
              "      <th>nateglinide</th>\n",
              "      <th>chlorpropamide</th>\n",
              "      <th>glimepiride</th>\n",
              "      <th>acetohexamide</th>\n",
              "    </tr>\n",
              "  </thead>\n",
              "  <tbody>\n",
              "    <tr>\n",
              "      <th>0</th>\n",
              "      <td>?</td>\n",
              "      <td>1</td>\n",
              "      <td>None</td>\n",
              "      <td>None</td>\n",
              "      <td>No</td>\n",
              "      <td>No</td>\n",
              "      <td>No</td>\n",
              "      <td>No</td>\n",
              "      <td>No</td>\n",
              "      <td>No</td>\n",
              "    </tr>\n",
              "    <tr>\n",
              "      <th>1</th>\n",
              "      <td>255</td>\n",
              "      <td>9</td>\n",
              "      <td>None</td>\n",
              "      <td>None</td>\n",
              "      <td>No</td>\n",
              "      <td>No</td>\n",
              "      <td>No</td>\n",
              "      <td>No</td>\n",
              "      <td>No</td>\n",
              "      <td>No</td>\n",
              "    </tr>\n",
              "    <tr>\n",
              "      <th>2</th>\n",
              "      <td>V27</td>\n",
              "      <td>6</td>\n",
              "      <td>None</td>\n",
              "      <td>None</td>\n",
              "      <td>No</td>\n",
              "      <td>No</td>\n",
              "      <td>No</td>\n",
              "      <td>No</td>\n",
              "      <td>No</td>\n",
              "      <td>No</td>\n",
              "    </tr>\n",
              "    <tr>\n",
              "      <th>3</th>\n",
              "      <td>403</td>\n",
              "      <td>7</td>\n",
              "      <td>None</td>\n",
              "      <td>None</td>\n",
              "      <td>No</td>\n",
              "      <td>No</td>\n",
              "      <td>No</td>\n",
              "      <td>No</td>\n",
              "      <td>No</td>\n",
              "      <td>No</td>\n",
              "    </tr>\n",
              "    <tr>\n",
              "      <th>4</th>\n",
              "      <td>250</td>\n",
              "      <td>5</td>\n",
              "      <td>None</td>\n",
              "      <td>None</td>\n",
              "      <td>No</td>\n",
              "      <td>No</td>\n",
              "      <td>No</td>\n",
              "      <td>No</td>\n",
              "      <td>No</td>\n",
              "      <td>No</td>\n",
              "    </tr>\n",
              "  </tbody>\n",
              "</table>\n",
              "</div>\n",
              "      <button class=\"colab-df-convert\" onclick=\"convertToInteractive('df-4c36e18e-cedf-4bb5-a8de-b248bd5ae8ff')\"\n",
              "              title=\"Convert this dataframe to an interactive table.\"\n",
              "              style=\"display:none;\">\n",
              "        \n",
              "  <svg xmlns=\"http://www.w3.org/2000/svg\" height=\"24px\"viewBox=\"0 0 24 24\"\n",
              "       width=\"24px\">\n",
              "    <path d=\"M0 0h24v24H0V0z\" fill=\"none\"/>\n",
              "    <path d=\"M18.56 5.44l.94 2.06.94-2.06 2.06-.94-2.06-.94-.94-2.06-.94 2.06-2.06.94zm-11 1L8.5 8.5l.94-2.06 2.06-.94-2.06-.94L8.5 2.5l-.94 2.06-2.06.94zm10 10l.94 2.06.94-2.06 2.06-.94-2.06-.94-.94-2.06-.94 2.06-2.06.94z\"/><path d=\"M17.41 7.96l-1.37-1.37c-.4-.4-.92-.59-1.43-.59-.52 0-1.04.2-1.43.59L10.3 9.45l-7.72 7.72c-.78.78-.78 2.05 0 2.83L4 21.41c.39.39.9.59 1.41.59.51 0 1.02-.2 1.41-.59l7.78-7.78 2.81-2.81c.8-.78.8-2.07 0-2.86zM5.41 20L4 18.59l7.72-7.72 1.47 1.35L5.41 20z\"/>\n",
              "  </svg>\n",
              "      </button>\n",
              "      \n",
              "  <style>\n",
              "    .colab-df-container {\n",
              "      display:flex;\n",
              "      flex-wrap:wrap;\n",
              "      gap: 12px;\n",
              "    }\n",
              "\n",
              "    .colab-df-convert {\n",
              "      background-color: #E8F0FE;\n",
              "      border: none;\n",
              "      border-radius: 50%;\n",
              "      cursor: pointer;\n",
              "      display: none;\n",
              "      fill: #1967D2;\n",
              "      height: 32px;\n",
              "      padding: 0 0 0 0;\n",
              "      width: 32px;\n",
              "    }\n",
              "\n",
              "    .colab-df-convert:hover {\n",
              "      background-color: #E2EBFA;\n",
              "      box-shadow: 0px 1px 2px rgba(60, 64, 67, 0.3), 0px 1px 3px 1px rgba(60, 64, 67, 0.15);\n",
              "      fill: #174EA6;\n",
              "    }\n",
              "\n",
              "    [theme=dark] .colab-df-convert {\n",
              "      background-color: #3B4455;\n",
              "      fill: #D2E3FC;\n",
              "    }\n",
              "\n",
              "    [theme=dark] .colab-df-convert:hover {\n",
              "      background-color: #434B5C;\n",
              "      box-shadow: 0px 1px 3px 1px rgba(0, 0, 0, 0.15);\n",
              "      filter: drop-shadow(0px 1px 2px rgba(0, 0, 0, 0.3));\n",
              "      fill: #FFFFFF;\n",
              "    }\n",
              "  </style>\n",
              "\n",
              "      <script>\n",
              "        const buttonEl =\n",
              "          document.querySelector('#df-4c36e18e-cedf-4bb5-a8de-b248bd5ae8ff button.colab-df-convert');\n",
              "        buttonEl.style.display =\n",
              "          google.colab.kernel.accessAllowed ? 'block' : 'none';\n",
              "\n",
              "        async function convertToInteractive(key) {\n",
              "          const element = document.querySelector('#df-4c36e18e-cedf-4bb5-a8de-b248bd5ae8ff');\n",
              "          const dataTable =\n",
              "            await google.colab.kernel.invokeFunction('convertToInteractive',\n",
              "                                                     [key], {});\n",
              "          if (!dataTable) return;\n",
              "\n",
              "          const docLinkHtml = 'Like what you see? Visit the ' +\n",
              "            '<a target=\"_blank\" href=https://colab.research.google.com/notebooks/data_table.ipynb>data table notebook</a>'\n",
              "            + ' to learn more about interactive tables.';\n",
              "          element.innerHTML = '';\n",
              "          dataTable['output_type'] = 'display_data';\n",
              "          await google.colab.output.renderOutput(dataTable, element);\n",
              "          const docLink = document.createElement('div');\n",
              "          docLink.innerHTML = docLinkHtml;\n",
              "          element.appendChild(docLink);\n",
              "        }\n",
              "      </script>\n",
              "    </div>\n",
              "  </div>\n",
              "  "
            ]
          },
          "metadata": {},
          "execution_count": 15
        }
      ],
      "source": [
        "df[list(df.columns)[20:30]].head()"
      ]
    },
    {
      "cell_type": "code",
      "execution_count": 16,
      "metadata": {
        "colab": {
          "base_uri": "https://localhost:8080/",
          "height": 206
        },
        "id": "opdnXXQVDFpv",
        "outputId": "c732e0ea-02ad-461b-9c26-0d52c66b4a3f"
      },
      "outputs": [
        {
          "output_type": "execute_result",
          "data": {
            "text/plain": [
              "  glipizide glyburide tolbutamide pioglitazone rosiglitazone acarbose  \\\n",
              "0        No        No          No           No            No       No   \n",
              "1        No        No          No           No            No       No   \n",
              "2    Steady        No          No           No            No       No   \n",
              "3        No        No          No           No            No       No   \n",
              "4    Steady        No          No           No            No       No   \n",
              "\n",
              "  miglitol troglitazone tolazamide examide  \n",
              "0       No           No         No      No  \n",
              "1       No           No         No      No  \n",
              "2       No           No         No      No  \n",
              "3       No           No         No      No  \n",
              "4       No           No         No      No  "
            ],
            "text/html": [
              "\n",
              "  <div id=\"df-3f529bc6-6693-4f61-8a95-dafd49c4b6f4\">\n",
              "    <div class=\"colab-df-container\">\n",
              "      <div>\n",
              "<style scoped>\n",
              "    .dataframe tbody tr th:only-of-type {\n",
              "        vertical-align: middle;\n",
              "    }\n",
              "\n",
              "    .dataframe tbody tr th {\n",
              "        vertical-align: top;\n",
              "    }\n",
              "\n",
              "    .dataframe thead th {\n",
              "        text-align: right;\n",
              "    }\n",
              "</style>\n",
              "<table border=\"1\" class=\"dataframe\">\n",
              "  <thead>\n",
              "    <tr style=\"text-align: right;\">\n",
              "      <th></th>\n",
              "      <th>glipizide</th>\n",
              "      <th>glyburide</th>\n",
              "      <th>tolbutamide</th>\n",
              "      <th>pioglitazone</th>\n",
              "      <th>rosiglitazone</th>\n",
              "      <th>acarbose</th>\n",
              "      <th>miglitol</th>\n",
              "      <th>troglitazone</th>\n",
              "      <th>tolazamide</th>\n",
              "      <th>examide</th>\n",
              "    </tr>\n",
              "  </thead>\n",
              "  <tbody>\n",
              "    <tr>\n",
              "      <th>0</th>\n",
              "      <td>No</td>\n",
              "      <td>No</td>\n",
              "      <td>No</td>\n",
              "      <td>No</td>\n",
              "      <td>No</td>\n",
              "      <td>No</td>\n",
              "      <td>No</td>\n",
              "      <td>No</td>\n",
              "      <td>No</td>\n",
              "      <td>No</td>\n",
              "    </tr>\n",
              "    <tr>\n",
              "      <th>1</th>\n",
              "      <td>No</td>\n",
              "      <td>No</td>\n",
              "      <td>No</td>\n",
              "      <td>No</td>\n",
              "      <td>No</td>\n",
              "      <td>No</td>\n",
              "      <td>No</td>\n",
              "      <td>No</td>\n",
              "      <td>No</td>\n",
              "      <td>No</td>\n",
              "    </tr>\n",
              "    <tr>\n",
              "      <th>2</th>\n",
              "      <td>Steady</td>\n",
              "      <td>No</td>\n",
              "      <td>No</td>\n",
              "      <td>No</td>\n",
              "      <td>No</td>\n",
              "      <td>No</td>\n",
              "      <td>No</td>\n",
              "      <td>No</td>\n",
              "      <td>No</td>\n",
              "      <td>No</td>\n",
              "    </tr>\n",
              "    <tr>\n",
              "      <th>3</th>\n",
              "      <td>No</td>\n",
              "      <td>No</td>\n",
              "      <td>No</td>\n",
              "      <td>No</td>\n",
              "      <td>No</td>\n",
              "      <td>No</td>\n",
              "      <td>No</td>\n",
              "      <td>No</td>\n",
              "      <td>No</td>\n",
              "      <td>No</td>\n",
              "    </tr>\n",
              "    <tr>\n",
              "      <th>4</th>\n",
              "      <td>Steady</td>\n",
              "      <td>No</td>\n",
              "      <td>No</td>\n",
              "      <td>No</td>\n",
              "      <td>No</td>\n",
              "      <td>No</td>\n",
              "      <td>No</td>\n",
              "      <td>No</td>\n",
              "      <td>No</td>\n",
              "      <td>No</td>\n",
              "    </tr>\n",
              "  </tbody>\n",
              "</table>\n",
              "</div>\n",
              "      <button class=\"colab-df-convert\" onclick=\"convertToInteractive('df-3f529bc6-6693-4f61-8a95-dafd49c4b6f4')\"\n",
              "              title=\"Convert this dataframe to an interactive table.\"\n",
              "              style=\"display:none;\">\n",
              "        \n",
              "  <svg xmlns=\"http://www.w3.org/2000/svg\" height=\"24px\"viewBox=\"0 0 24 24\"\n",
              "       width=\"24px\">\n",
              "    <path d=\"M0 0h24v24H0V0z\" fill=\"none\"/>\n",
              "    <path d=\"M18.56 5.44l.94 2.06.94-2.06 2.06-.94-2.06-.94-.94-2.06-.94 2.06-2.06.94zm-11 1L8.5 8.5l.94-2.06 2.06-.94-2.06-.94L8.5 2.5l-.94 2.06-2.06.94zm10 10l.94 2.06.94-2.06 2.06-.94-2.06-.94-.94-2.06-.94 2.06-2.06.94z\"/><path d=\"M17.41 7.96l-1.37-1.37c-.4-.4-.92-.59-1.43-.59-.52 0-1.04.2-1.43.59L10.3 9.45l-7.72 7.72c-.78.78-.78 2.05 0 2.83L4 21.41c.39.39.9.59 1.41.59.51 0 1.02-.2 1.41-.59l7.78-7.78 2.81-2.81c.8-.78.8-2.07 0-2.86zM5.41 20L4 18.59l7.72-7.72 1.47 1.35L5.41 20z\"/>\n",
              "  </svg>\n",
              "      </button>\n",
              "      \n",
              "  <style>\n",
              "    .colab-df-container {\n",
              "      display:flex;\n",
              "      flex-wrap:wrap;\n",
              "      gap: 12px;\n",
              "    }\n",
              "\n",
              "    .colab-df-convert {\n",
              "      background-color: #E8F0FE;\n",
              "      border: none;\n",
              "      border-radius: 50%;\n",
              "      cursor: pointer;\n",
              "      display: none;\n",
              "      fill: #1967D2;\n",
              "      height: 32px;\n",
              "      padding: 0 0 0 0;\n",
              "      width: 32px;\n",
              "    }\n",
              "\n",
              "    .colab-df-convert:hover {\n",
              "      background-color: #E2EBFA;\n",
              "      box-shadow: 0px 1px 2px rgba(60, 64, 67, 0.3), 0px 1px 3px 1px rgba(60, 64, 67, 0.15);\n",
              "      fill: #174EA6;\n",
              "    }\n",
              "\n",
              "    [theme=dark] .colab-df-convert {\n",
              "      background-color: #3B4455;\n",
              "      fill: #D2E3FC;\n",
              "    }\n",
              "\n",
              "    [theme=dark] .colab-df-convert:hover {\n",
              "      background-color: #434B5C;\n",
              "      box-shadow: 0px 1px 3px 1px rgba(0, 0, 0, 0.15);\n",
              "      filter: drop-shadow(0px 1px 2px rgba(0, 0, 0, 0.3));\n",
              "      fill: #FFFFFF;\n",
              "    }\n",
              "  </style>\n",
              "\n",
              "      <script>\n",
              "        const buttonEl =\n",
              "          document.querySelector('#df-3f529bc6-6693-4f61-8a95-dafd49c4b6f4 button.colab-df-convert');\n",
              "        buttonEl.style.display =\n",
              "          google.colab.kernel.accessAllowed ? 'block' : 'none';\n",
              "\n",
              "        async function convertToInteractive(key) {\n",
              "          const element = document.querySelector('#df-3f529bc6-6693-4f61-8a95-dafd49c4b6f4');\n",
              "          const dataTable =\n",
              "            await google.colab.kernel.invokeFunction('convertToInteractive',\n",
              "                                                     [key], {});\n",
              "          if (!dataTable) return;\n",
              "\n",
              "          const docLinkHtml = 'Like what you see? Visit the ' +\n",
              "            '<a target=\"_blank\" href=https://colab.research.google.com/notebooks/data_table.ipynb>data table notebook</a>'\n",
              "            + ' to learn more about interactive tables.';\n",
              "          element.innerHTML = '';\n",
              "          dataTable['output_type'] = 'display_data';\n",
              "          await google.colab.output.renderOutput(dataTable, element);\n",
              "          const docLink = document.createElement('div');\n",
              "          docLink.innerHTML = docLinkHtml;\n",
              "          element.appendChild(docLink);\n",
              "        }\n",
              "      </script>\n",
              "    </div>\n",
              "  </div>\n",
              "  "
            ]
          },
          "metadata": {},
          "execution_count": 16
        }
      ],
      "source": [
        "df[list(df.columns)[30:40]].head()"
      ]
    },
    {
      "cell_type": "code",
      "execution_count": 17,
      "metadata": {
        "colab": {
          "base_uri": "https://localhost:8080/",
          "height": 267
        },
        "id": "sP6B--1QDLBY",
        "outputId": "cb0692bb-dc71-48a3-e55d-fda3bd7dc8b5"
      },
      "outputs": [
        {
          "output_type": "execute_result",
          "data": {
            "text/plain": [
              "  citoglipton insulin glyburide-metformin glipizide-metformin  \\\n",
              "0          No      No                  No                  No   \n",
              "1          No      Up                  No                  No   \n",
              "2          No      No                  No                  No   \n",
              "3          No      Up                  No                  No   \n",
              "4          No  Steady                  No                  No   \n",
              "\n",
              "  glimepiride-pioglitazone metformin-rosiglitazone metformin-pioglitazone  \\\n",
              "0                       No                      No                     No   \n",
              "1                       No                      No                     No   \n",
              "2                       No                      No                     No   \n",
              "3                       No                      No                     No   \n",
              "4                       No                      No                     No   \n",
              "\n",
              "  change diabetesMed readmitted  target  \n",
              "0     No          No         NO       0  \n",
              "1     Ch         Yes        >30       0  \n",
              "2     No         Yes         NO       0  \n",
              "3     Ch         Yes         NO       0  \n",
              "4     Ch         Yes         NO       0  "
            ],
            "text/html": [
              "\n",
              "  <div id=\"df-1cc488fd-8e5c-4c01-bbca-269ae1e7d990\">\n",
              "    <div class=\"colab-df-container\">\n",
              "      <div>\n",
              "<style scoped>\n",
              "    .dataframe tbody tr th:only-of-type {\n",
              "        vertical-align: middle;\n",
              "    }\n",
              "\n",
              "    .dataframe tbody tr th {\n",
              "        vertical-align: top;\n",
              "    }\n",
              "\n",
              "    .dataframe thead th {\n",
              "        text-align: right;\n",
              "    }\n",
              "</style>\n",
              "<table border=\"1\" class=\"dataframe\">\n",
              "  <thead>\n",
              "    <tr style=\"text-align: right;\">\n",
              "      <th></th>\n",
              "      <th>citoglipton</th>\n",
              "      <th>insulin</th>\n",
              "      <th>glyburide-metformin</th>\n",
              "      <th>glipizide-metformin</th>\n",
              "      <th>glimepiride-pioglitazone</th>\n",
              "      <th>metformin-rosiglitazone</th>\n",
              "      <th>metformin-pioglitazone</th>\n",
              "      <th>change</th>\n",
              "      <th>diabetesMed</th>\n",
              "      <th>readmitted</th>\n",
              "      <th>target</th>\n",
              "    </tr>\n",
              "  </thead>\n",
              "  <tbody>\n",
              "    <tr>\n",
              "      <th>0</th>\n",
              "      <td>No</td>\n",
              "      <td>No</td>\n",
              "      <td>No</td>\n",
              "      <td>No</td>\n",
              "      <td>No</td>\n",
              "      <td>No</td>\n",
              "      <td>No</td>\n",
              "      <td>No</td>\n",
              "      <td>No</td>\n",
              "      <td>NO</td>\n",
              "      <td>0</td>\n",
              "    </tr>\n",
              "    <tr>\n",
              "      <th>1</th>\n",
              "      <td>No</td>\n",
              "      <td>Up</td>\n",
              "      <td>No</td>\n",
              "      <td>No</td>\n",
              "      <td>No</td>\n",
              "      <td>No</td>\n",
              "      <td>No</td>\n",
              "      <td>Ch</td>\n",
              "      <td>Yes</td>\n",
              "      <td>&gt;30</td>\n",
              "      <td>0</td>\n",
              "    </tr>\n",
              "    <tr>\n",
              "      <th>2</th>\n",
              "      <td>No</td>\n",
              "      <td>No</td>\n",
              "      <td>No</td>\n",
              "      <td>No</td>\n",
              "      <td>No</td>\n",
              "      <td>No</td>\n",
              "      <td>No</td>\n",
              "      <td>No</td>\n",
              "      <td>Yes</td>\n",
              "      <td>NO</td>\n",
              "      <td>0</td>\n",
              "    </tr>\n",
              "    <tr>\n",
              "      <th>3</th>\n",
              "      <td>No</td>\n",
              "      <td>Up</td>\n",
              "      <td>No</td>\n",
              "      <td>No</td>\n",
              "      <td>No</td>\n",
              "      <td>No</td>\n",
              "      <td>No</td>\n",
              "      <td>Ch</td>\n",
              "      <td>Yes</td>\n",
              "      <td>NO</td>\n",
              "      <td>0</td>\n",
              "    </tr>\n",
              "    <tr>\n",
              "      <th>4</th>\n",
              "      <td>No</td>\n",
              "      <td>Steady</td>\n",
              "      <td>No</td>\n",
              "      <td>No</td>\n",
              "      <td>No</td>\n",
              "      <td>No</td>\n",
              "      <td>No</td>\n",
              "      <td>Ch</td>\n",
              "      <td>Yes</td>\n",
              "      <td>NO</td>\n",
              "      <td>0</td>\n",
              "    </tr>\n",
              "  </tbody>\n",
              "</table>\n",
              "</div>\n",
              "      <button class=\"colab-df-convert\" onclick=\"convertToInteractive('df-1cc488fd-8e5c-4c01-bbca-269ae1e7d990')\"\n",
              "              title=\"Convert this dataframe to an interactive table.\"\n",
              "              style=\"display:none;\">\n",
              "        \n",
              "  <svg xmlns=\"http://www.w3.org/2000/svg\" height=\"24px\"viewBox=\"0 0 24 24\"\n",
              "       width=\"24px\">\n",
              "    <path d=\"M0 0h24v24H0V0z\" fill=\"none\"/>\n",
              "    <path d=\"M18.56 5.44l.94 2.06.94-2.06 2.06-.94-2.06-.94-.94-2.06-.94 2.06-2.06.94zm-11 1L8.5 8.5l.94-2.06 2.06-.94-2.06-.94L8.5 2.5l-.94 2.06-2.06.94zm10 10l.94 2.06.94-2.06 2.06-.94-2.06-.94-.94-2.06-.94 2.06-2.06.94z\"/><path d=\"M17.41 7.96l-1.37-1.37c-.4-.4-.92-.59-1.43-.59-.52 0-1.04.2-1.43.59L10.3 9.45l-7.72 7.72c-.78.78-.78 2.05 0 2.83L4 21.41c.39.39.9.59 1.41.59.51 0 1.02-.2 1.41-.59l7.78-7.78 2.81-2.81c.8-.78.8-2.07 0-2.86zM5.41 20L4 18.59l7.72-7.72 1.47 1.35L5.41 20z\"/>\n",
              "  </svg>\n",
              "      </button>\n",
              "      \n",
              "  <style>\n",
              "    .colab-df-container {\n",
              "      display:flex;\n",
              "      flex-wrap:wrap;\n",
              "      gap: 12px;\n",
              "    }\n",
              "\n",
              "    .colab-df-convert {\n",
              "      background-color: #E8F0FE;\n",
              "      border: none;\n",
              "      border-radius: 50%;\n",
              "      cursor: pointer;\n",
              "      display: none;\n",
              "      fill: #1967D2;\n",
              "      height: 32px;\n",
              "      padding: 0 0 0 0;\n",
              "      width: 32px;\n",
              "    }\n",
              "\n",
              "    .colab-df-convert:hover {\n",
              "      background-color: #E2EBFA;\n",
              "      box-shadow: 0px 1px 2px rgba(60, 64, 67, 0.3), 0px 1px 3px 1px rgba(60, 64, 67, 0.15);\n",
              "      fill: #174EA6;\n",
              "    }\n",
              "\n",
              "    [theme=dark] .colab-df-convert {\n",
              "      background-color: #3B4455;\n",
              "      fill: #D2E3FC;\n",
              "    }\n",
              "\n",
              "    [theme=dark] .colab-df-convert:hover {\n",
              "      background-color: #434B5C;\n",
              "      box-shadow: 0px 1px 3px 1px rgba(0, 0, 0, 0.15);\n",
              "      filter: drop-shadow(0px 1px 2px rgba(0, 0, 0, 0.3));\n",
              "      fill: #FFFFFF;\n",
              "    }\n",
              "  </style>\n",
              "\n",
              "      <script>\n",
              "        const buttonEl =\n",
              "          document.querySelector('#df-1cc488fd-8e5c-4c01-bbca-269ae1e7d990 button.colab-df-convert');\n",
              "        buttonEl.style.display =\n",
              "          google.colab.kernel.accessAllowed ? 'block' : 'none';\n",
              "\n",
              "        async function convertToInteractive(key) {\n",
              "          const element = document.querySelector('#df-1cc488fd-8e5c-4c01-bbca-269ae1e7d990');\n",
              "          const dataTable =\n",
              "            await google.colab.kernel.invokeFunction('convertToInteractive',\n",
              "                                                     [key], {});\n",
              "          if (!dataTable) return;\n",
              "\n",
              "          const docLinkHtml = 'Like what you see? Visit the ' +\n",
              "            '<a target=\"_blank\" href=https://colab.research.google.com/notebooks/data_table.ipynb>data table notebook</a>'\n",
              "            + ' to learn more about interactive tables.';\n",
              "          element.innerHTML = '';\n",
              "          dataTable['output_type'] = 'display_data';\n",
              "          await google.colab.output.renderOutput(dataTable, element);\n",
              "          const docLink = document.createElement('div');\n",
              "          docLink.innerHTML = docLinkHtml;\n",
              "          element.appendChild(docLink);\n",
              "        }\n",
              "      </script>\n",
              "    </div>\n",
              "  </div>\n",
              "  "
            ]
          },
          "metadata": {},
          "execution_count": 17
        }
      ],
      "source": [
        "df[list(df.columns)[40:]].head()"
      ]
    },
    {
      "cell_type": "code",
      "execution_count": 18,
      "metadata": {
        "colab": {
          "base_uri": "https://localhost:8080/"
        },
        "id": "tpXYF9ymvTJn",
        "outputId": "51b327d1-c3f8-4a98-ada6-b660c646df06"
      },
      "outputs": [
        {
          "output_type": "stream",
          "name": "stdout",
          "text": [
            "encounter_id: 99343 unique values\n",
            "patient_nbr: 69990 unique values\n",
            "race\n",
            "['Caucasian' 'AfricanAmerican' '?' 'Other' 'Asian' 'Hispanic']\n",
            "gender\n",
            "['Female' 'Male' 'Unknown/Invalid']\n",
            "age\n",
            "['[0-10)' '[10-20)' '[20-30)' '[30-40)' '[40-50)' '[50-60)' '[60-70)'\n",
            " '[70-80)' '[80-90)' '[90-100)']\n",
            "weight\n",
            "['?' '[75-100)' '[50-75)' '[0-25)' '[100-125)' '[25-50)' '[125-150)'\n",
            " '[175-200)' '[150-175)' '>200']\n",
            "admission_type_id\n",
            "[6 1 2 3 4 5 8 7]\n",
            "discharge_disposition_id\n",
            "[25  1  3  6  2  5  7 10  4 18  8 12 16 17 22 23  9 15 24 28 27]\n",
            "admission_source_id\n",
            "[ 1  7  2  4  5 20  6  3 17  8  9 14 10 22 11 25 13]\n",
            "time_in_hospital\n",
            "[ 1  3  2  4  5 13 12  9  7 10  6 11  8 14]\n",
            "payer_code\n",
            "['?' 'MC' 'MD' 'HM' 'UN' 'BC' 'SP' 'CP' 'SI' 'DM' 'CM' 'CH' 'PO' 'WC' 'OT'\n",
            " 'OG' 'MP' 'FR']\n",
            "medical_specialty: 73 unique values\n",
            "num_lab_procedures: 118 unique values\n",
            "num_procedures\n",
            "[0 5 1 6 2 3 4]\n",
            "num_medications: 75 unique values\n",
            "number_outpatient: 39 unique values\n",
            "number_emergency: 33 unique values\n",
            "number_inpatient\n",
            "[ 0  1  2  3  6  5  4  7  9  8 15 10 11 14 12 13 17 16 21 18 19]\n",
            "diag_1: 716 unique values\n",
            "diag_2: 748 unique values\n",
            "diag_3: 787 unique values\n",
            "number_diagnoses\n",
            "[ 1  9  6  7  5  8  3  4  2 16 12 13 15 10 11 14]\n",
            "max_glu_serum\n",
            "['None' '>300' 'Norm' '>200']\n",
            "A1Cresult\n",
            "['None' '>7' '>8' 'Norm']\n",
            "metformin\n",
            "['No' 'Steady' 'Up' 'Down']\n",
            "repaglinide\n",
            "['No' 'Up' 'Steady' 'Down']\n",
            "nateglinide\n",
            "['No' 'Steady' 'Down' 'Up']\n",
            "chlorpropamide\n",
            "['No' 'Steady' 'Down' 'Up']\n",
            "glimepiride\n",
            "['No' 'Steady' 'Down' 'Up']\n",
            "acetohexamide\n",
            "['No' 'Steady']\n",
            "glipizide\n",
            "['No' 'Steady' 'Up' 'Down']\n",
            "glyburide\n",
            "['No' 'Steady' 'Up' 'Down']\n",
            "tolbutamide\n",
            "['No' 'Steady']\n",
            "pioglitazone\n",
            "['No' 'Steady' 'Up' 'Down']\n",
            "rosiglitazone\n",
            "['No' 'Steady' 'Up' 'Down']\n",
            "acarbose\n",
            "['No' 'Steady' 'Up' 'Down']\n",
            "miglitol\n",
            "['No' 'Steady' 'Down' 'Up']\n",
            "troglitazone\n",
            "['No' 'Steady']\n",
            "tolazamide\n",
            "['No' 'Steady' 'Up']\n",
            "examide\n",
            "['No']\n",
            "citoglipton\n",
            "['No']\n",
            "insulin\n",
            "['No' 'Up' 'Steady' 'Down']\n",
            "glyburide-metformin\n",
            "['No' 'Steady' 'Down' 'Up']\n",
            "glipizide-metformin\n",
            "['No' 'Steady']\n",
            "glimepiride-pioglitazone\n",
            "['No' 'Steady']\n",
            "metformin-rosiglitazone\n",
            "['No' 'Steady']\n",
            "metformin-pioglitazone\n",
            "['No' 'Steady']\n",
            "change\n",
            "['No' 'Ch']\n",
            "diabetesMed\n",
            "['No' 'Yes']\n",
            "readmitted\n",
            "['NO' '>30' '<30']\n",
            "target\n",
            "[0 1]\n"
          ]
        }
      ],
      "source": [
        "# for each column\n",
        "for c in list(df.columns):\n",
        "    \n",
        "    # get a list of unique values\n",
        "    n = df[c].unique()\n",
        "    \n",
        "    # if number of unique values is less than 30, print the values. Otherwise print the number of unique values\n",
        "    if len(n)<30:\n",
        "        print(c)\n",
        "        print(n)\n",
        "    else:\n",
        "        print(c + ': ' +str(len(n)) + ' unique values')"
      ]
    },
    {
      "cell_type": "markdown",
      "metadata": {
        "id": "NZ4rdtYGFeqN"
      },
      "source": [
        "From analysis of the columns, we can see there are a mix of categorical (non-numeric) and numerical data. A few things to point out,"
      ]
    },
    {
      "cell_type": "markdown",
      "metadata": {
        "id": "R7IhJE7FFf3L"
      },
      "source": [
        "- encounter_id and patient_nbr: these are just identifiers and not useful variables\n",
        "- age and weight: are categorical in this data set\n",
        "- admission_type_id,discharge_disposition_id,admission_source_id: are numerical here, but are IDs (see IDs_mapping). They should be considered categorical. \n",
        "- examide and citoglipton only have 1 value, so we will not use these variables\n",
        "- diag1, diag2, diag3 - are categorical and have a lot of values. We will not use these as part of this project, but you could group these ICD codes to reduce the dimension. We will use number_diagnoses to capture some of this information. \n",
        "- medical_speciality - has many categorical variables, so we should consider this when making features. "
      ]
    },
    {
      "cell_type": "markdown",
      "metadata": {
        "id": "cMsN7ib6EGJp"
      },
      "source": [
        "* **EDA**\n",
        "* **Data visualization**"
      ]
    },
    {
      "cell_type": "markdown",
      "metadata": {
        "id": "XG2cnrDsEGJq"
      },
      "source": [
        "**Exploratory Data Analysis refers to the critical process of performing initial investigations on data so as to discover patterns,to spot anomalies,to test hypothesis and to check assumptions with the help of summary statistics and graphical representations**"
      ]
    },
    {
      "cell_type": "code",
      "execution_count": null,
      "metadata": {
        "colab": {
          "base_uri": "https://localhost:8080/",
          "height": 313
        },
        "id": "xjbHO5mcEGJq",
        "outputId": "0fd9b94d-b992-4391-e2c5-ad7d7e821313"
      },
      "outputs": [
        {
          "data": {
            "text/plain": [
              "Text(0.5, 1.0, 'Distrinution of Readmission')"
            ]
          },
          "execution_count": 19,
          "metadata": {},
          "output_type": "execute_result"
        },
        {
          "data": {
            "image/png": "[encoded data removed]",
            "text/plain": [
              "<Figure size 432x288 with 1 Axes>"
            ]
          },
          "metadata": {},
          "output_type": "display_data"
        }
      ],
      "source": [
        "#Distribution of Readmission\n",
        "sns.countplot(df['target']).set_title('Distrinution of Readmission')"
      ]
    },
    {
      "cell_type": "markdown",
      "metadata": {
        "id": "_15WB1coEGJr"
      },
      "source": [
        "**Insight from above graph**: Our target variable is imbalance. Number of readmitted patient are quite less as compared to Not readmitted"
      ]
    },
    {
      "cell_type": "code",
      "execution_count": null,
      "metadata": {
        "colab": {
          "base_uri": "https://localhost:8080/"
        },
        "id": "W6-Y_q7hEGJr",
        "outputId": "dad1a2ba-da5f-4f91-a9cd-2735c7419a54"
      },
      "outputs": [
        {
          "name": "stdout",
          "output_type": "stream",
          "text": [
            "0.11388824577474005\n"
          ]
        }
      ],
      "source": [
        "#checking for balance data\n",
        "print(sum(df['target'].values)/len(df['target'].values)) "
      ]
    },
    {
      "cell_type": "markdown",
      "metadata": {
        "id": "Wtiw6H3VEGJs"
      },
      "source": [
        "**NOTE**:Only 11% is re hospitalized so this is imbalance dataset"
      ]
    },
    {
      "cell_type": "code",
      "execution_count": null,
      "metadata": {
        "colab": {
          "base_uri": "https://localhost:8080/",
          "height": 476
        },
        "id": "AYVcOyCZEGJt",
        "outputId": "f19bf9c9-69c1-4f00-ded3-e724ca452384"
      },
      "outputs": [
        {
          "data": {
            "text/plain": [
              "Text(0.5, 1.0, 'Time in Hospital VS. Readmission')"
            ]
          },
          "execution_count": 21,
          "metadata": {},
          "output_type": "execute_result"
        },
        {
          "data": {
            "image/png": "[encoded data removed]",
            "text/plain": [
              "<Figure size 936x504 with 1 Axes>"
            ]
          },
          "metadata": {},
          "output_type": "display_data"
        }
      ],
      "source": [
        "#time in hospital vs readmitted\n",
        "fig = plt.figure(figsize=(13,7),)\n",
        "ax=sns.kdeplot(df.loc[(df['target'] == 0),'time_in_hospital'] , color='b',shade=True,label='Not Readmitted')\n",
        "ax=sns.kdeplot(df.loc[(df['target'] == 1),'time_in_hospital'] , color='r',shade=True, label='Readmitted')\n",
        "ax.set(xlabel='Time in Hospital', ylabel='Frequency')\n",
        "plt.title('Time in Hospital VS. Readmission')"
      ]
    },
    {
      "cell_type": "markdown",
      "metadata": {
        "id": "iY3e1eRkEGJu"
      },
      "source": [
        "**Insight from above graph**: If no of days in hospital increased readmission rate is getting decreased.Mostly patient between 3 to 4 days are admitted frequently"
      ]
    },
    {
      "cell_type": "code",
      "execution_count": null,
      "metadata": {
        "colab": {
          "base_uri": "https://localhost:8080/",
          "height": 639
        },
        "id": "DVBVJGL1EGJu",
        "outputId": "b8f5e765-8eef-4bda-c02d-30a46ff2083e"
      },
      "outputs": [
        {
          "data": {
            "text/plain": [
              "Text(0.5, 1.0, 'Age of Patient VS. Readmission')"
            ]
          },
          "execution_count": 22,
          "metadata": {},
          "output_type": "execute_result"
        },
        {
          "data": {
            "image/png": "[encoded data removed]",
            "text/plain": [
              "<Figure size 1080x720 with 1 Axes>"
            ]
          },
          "metadata": {},
          "output_type": "display_data"
        }
      ],
      "source": [
        "#age vs readmission\n",
        "\n",
        "fig = plt.figure(figsize=(15,10))\n",
        "sns.countplot(y= df['age'], hue = df['target']).set_title('Age of Patient VS. Readmission')"
      ]
    },
    {
      "cell_type": "markdown",
      "metadata": {
        "id": "VnHFX6XiEGJv"
      },
      "source": [
        "**Insight from above graph**: Patient with age 60 and 70 have more readmission"
      ]
    },
    {
      "cell_type": "code",
      "execution_count": null,
      "metadata": {
        "colab": {
          "base_uri": "https://localhost:8080/",
          "height": 515
        },
        "id": "eGWtXZFdEGJv",
        "outputId": "3cf0f4a4-f2b0-4625-ed4b-c23d22101839"
      },
      "outputs": [
        {
          "data": {
            "text/plain": [
              "<matplotlib.axes._subplots.AxesSubplot at 0x7f7fbad5fcd0>"
            ]
          },
          "execution_count": 23,
          "metadata": {},
          "output_type": "execute_result"
        },
        {
          "data": {
            "image/png": "[encoded data removed]",
            "text/plain": [
              "<Figure size 576x576 with 1 Axes>"
            ]
          },
          "metadata": {},
          "output_type": "display_data"
        }
      ],
      "source": [
        "#race vs readmission\n",
        "\n",
        "fig = plt.figure(figsize=(8,8))\n",
        "sns.countplot(y = df['race'], hue = df['target'])"
      ]
    },
    {
      "cell_type": "markdown",
      "metadata": {
        "id": "TUUUa3E1EGJw"
      },
      "source": [
        "**Insight from above graph** : Caucasian race has more readmission"
      ]
    },
    {
      "cell_type": "code",
      "execution_count": null,
      "metadata": {
        "colab": {
          "base_uri": "https://localhost:8080/",
          "height": 1000
        },
        "id": "2H6avopVEGJx",
        "outputId": "d103d143-61af-448a-eb36-7a3ce6396512"
      },
      "outputs": [
        {
          "data": {
            "text/plain": [
              "Text(0.5, 1.0, 'Number of medication used VS. Readmission')"
            ]
          },
          "execution_count": 24,
          "metadata": {},
          "output_type": "execute_result"
        },
        {
          "data": {
            "image/png": "[encoded data removed]",
            "text/plain": [
              "<Figure size 1296x1296 with 1 Axes>"
            ]
          },
          "metadata": {},
          "output_type": "display_data"
        },
        {
          "data": {
            "image/png": "[encoded data removed]",
            "text/plain": [
              "<Figure size 576x576 with 1 Axes>"
            ]
          },
          "metadata": {},
          "output_type": "display_data"
        }
      ],
      "source": [
        "#Number of medication used VS. Readmission\n",
        "fig = plt.figure(figsize=(18,18))\n",
        "sns.countplot(y = df['num_medications'], hue = df['target'])\n",
        "fig = plt.figure(figsize=(8,8))\n",
        "sns.barplot(x = df['target'], y = df['num_medications']).set_title(\"Number of medication used VS. Readmission\")"
      ]
    },
    {
      "cell_type": "markdown",
      "metadata": {
        "id": "xv3lkMgCEGJy"
      },
      "source": [
        "**Insight from above graph** : If number of medications between 10 and 20 there is more chances that patient will admit again"
      ]
    },
    {
      "cell_type": "code",
      "execution_count": null,
      "metadata": {
        "colab": {
          "base_uri": "https://localhost:8080/",
          "height": 531
        },
        "id": "pC_qsmeEEGJy",
        "outputId": "b21cc511-f3d5-412d-966c-98b16fa46f1b"
      },
      "outputs": [
        {
          "data": {
            "text/plain": [
              "Text(0.5, 1.0, 'Gender of Patient VS. Readmission')"
            ]
          },
          "execution_count": 25,
          "metadata": {},
          "output_type": "execute_result"
        },
        {
          "data": {
            "image/png": "[encoded data removed]",
            "text/plain": [
              "<Figure size 576x576 with 1 Axes>"
            ]
          },
          "metadata": {},
          "output_type": "display_data"
        }
      ],
      "source": [
        "#Gender and Readmission\n",
        "#Male = 1\n",
        "#Female = 0\n",
        "\n",
        "fig = plt.figure(figsize=(8,8))\n",
        "sns.countplot(df['gender'], hue = df['target']).set_title(\"Gender of Patient VS. Readmission\")"
      ]
    },
    {
      "cell_type": "markdown",
      "metadata": {
        "id": "9NhW5fOjEGJz"
      },
      "source": [
        "**Insight from above graph** : Readmission rate of both male and female looks similar"
      ]
    },
    {
      "cell_type": "code",
      "execution_count": null,
      "metadata": {
        "colab": {
          "base_uri": "https://localhost:8080/",
          "height": 531
        },
        "id": "Jy5Pt7jmEGJ0",
        "outputId": "e073a764-ba4c-46d9-d938-fbf99ad33c2b"
      },
      "outputs": [
        {
          "data": {
            "text/plain": [
              "Text(0.5, 1.0, 'Change of Medication VS. Readmission')"
            ]
          },
          "execution_count": 26,
          "metadata": {},
          "output_type": "execute_result"
        },
        {
          "data": {
            "image/png": "[encoded data removed]",
            "text/plain": [
              "<Figure size 576x576 with 1 Axes>"
            ]
          },
          "metadata": {},
          "output_type": "display_data"
        }
      ],
      "source": [
        "#change of medication vs readmission\n",
        "\n",
        "fig = plt.figure(figsize=(8,8))\n",
        "sns.countplot(df['change'], hue = df['target']).set_title('Change of Medication VS. Readmission')"
      ]
    },
    {
      "cell_type": "markdown",
      "metadata": {
        "id": "YIV-sDvVEGJ0"
      },
      "source": [
        "**Insight from above graph** :Readmission rate looks similar wheteher the change of mediacation occurs or not"
      ]
    },
    {
      "cell_type": "code",
      "execution_count": null,
      "metadata": {
        "colab": {
          "base_uri": "https://localhost:8080/",
          "height": 531
        },
        "id": "E0KO92fBEGJ1",
        "outputId": "10efb520-42cd-406b-90d2-685711fe26e6"
      },
      "outputs": [
        {
          "data": {
            "text/plain": [
              "Text(0.5, 1.0, 'Diabetes Medication prescribed VS Readmission')"
            ]
          },
          "execution_count": 27,
          "metadata": {},
          "output_type": "execute_result"
        },
        {
          "data": {
            "image/png": "[encoded data removed]",
            "text/plain": [
              "<Figure size 576x576 with 1 Axes>"
            ]
          },
          "metadata": {},
          "output_type": "display_data"
        }
      ],
      "source": [
        "#diabetic medication vs readmission\n",
        "\n",
        "fig = plt.figure(figsize=(8,8))\n",
        "sns.countplot(df['diabetesMed'], hue = df['target']).set_title('Diabetes Medication prescribed VS Readmission')"
      ]
    },
    {
      "cell_type": "markdown",
      "metadata": {
        "id": "anuoPCASEGJ1"
      },
      "source": [
        "**Insight from above graph** : Patients provided with diabetes medication readmitted often"
      ]
    },
    {
      "cell_type": "markdown",
      "metadata": {
        "id": "_tzx3CtiEGJ2"
      },
      "source": [
        "**Glucose Serum test** - A blood glucose test is used to find out if your blood sugar levels are in the healthy range. It is often used to help diagnose and monitor diabetes.\n",
        "\n",
        "**'>200'** :  = indicates diabetes\n",
        "**'>300'** :  = Indicates diabetes\n",
        "**'Norm'** :  = Normal\n",
        "**'None'** :  = test was not taken"
      ]
    },
    {
      "cell_type": "code",
      "execution_count": null,
      "metadata": {
        "colab": {
          "base_uri": "https://localhost:8080/",
          "height": 531
        },
        "id": "rr1ve6uCEGJ3",
        "outputId": "ab21faa8-0854-4312-ab3b-94ca44b16750"
      },
      "outputs": [
        {
          "data": {
            "text/plain": [
              "Text(0.5, 1.0, 'Glucose test serum test result VS. Readmission')"
            ]
          },
          "execution_count": 28,
          "metadata": {},
          "output_type": "execute_result"
        },
        {
          "data": {
            "image/png": "[encoded data removed]",
            "text/plain": [
              "<Figure size 576x576 with 1 Axes>"
            ]
          },
          "metadata": {},
          "output_type": "display_data"
        }
      ],
      "source": [
        "#max_glue_serum vs target\n",
        "fig = plt.figure(figsize=(8,8))\n",
        "sns.countplot(y = df['max_glu_serum'], hue = df['target']).set_title('Glucose test serum test result VS. Readmission')"
      ]
    },
    {
      "cell_type": "markdown",
      "metadata": {
        "id": "8W4wYTz9EGJ3"
      },
      "source": [
        "**Insight from above graph** : Patient who doen't take max glue serum test is readmitted often"
      ]
    },
    {
      "cell_type": "markdown",
      "metadata": {
        "id": "mNSkzWO1EGJ4"
      },
      "source": [
        "**A1C result and Readmission A1C test** - The A1C test is a blood test that provides information about your average levels of blood glucose, also called blood sugar, over the past 3 months\n",
        "\n"
      ]
    },
    {
      "cell_type": "markdown",
      "metadata": {
        "id": "aRK0EoWXEGJ4"
      },
      "source": [
        "* **'>7'** :1\n",
        "* **'>8'** :1\n",
        "* **Norm ** : 0 = Normal\n",
        "* **None ** : -99 = Test was not taken"
      ]
    },
    {
      "cell_type": "code",
      "execution_count": null,
      "metadata": {
        "colab": {
          "base_uri": "https://localhost:8080/",
          "height": 639
        },
        "id": "3f65f4bGEGJ5",
        "outputId": "bbe2c75a-719e-4c93-ac30-5ea89af27788"
      },
      "outputs": [
        {
          "data": {
            "text/plain": [
              "Text(0.5, 1.0, 'A1C test result VS. Readmission')"
            ]
          },
          "execution_count": 29,
          "metadata": {},
          "output_type": "execute_result"
        },
        {
          "data": {
            "image/png": "[encoded data removed]",
            "text/plain": [
              "<Figure size 576x720 with 1 Axes>"
            ]
          },
          "metadata": {},
          "output_type": "display_data"
        }
      ],
      "source": [
        "#a1c test result vs target\n",
        "fig = plt.figure(figsize=(8,10))\n",
        "sns.countplot(y= df['A1Cresult'], hue = df['target']).set_title('A1C test result VS. Readmission')"
      ]
    },
    {
      "cell_type": "markdown",
      "metadata": {
        "id": "snBT19n0EGJ5"
      },
      "source": [
        "**Insight from above graph** : Patient who doen't take a1ctest is readmitted often"
      ]
    },
    {
      "cell_type": "code",
      "execution_count": null,
      "metadata": {
        "colab": {
          "base_uri": "https://localhost:8080/",
          "height": 422
        },
        "id": "btfWLVCTEGJ6",
        "outputId": "9910fc97-7b08-4d80-d30b-192eee812ce5"
      },
      "outputs": [
        {
          "data": {
            "text/plain": [
              "Text(0.5, 1.0, 'Number of lab procedure VS. Readmission')"
            ]
          },
          "execution_count": 30,
          "metadata": {},
          "output_type": "execute_result"
        },
        {
          "data": {
            "image/png": "[encoded data removed]",
            "text/plain": [
              "<Figure size 1080x432 with 1 Axes>"
            ]
          },
          "metadata": {},
          "output_type": "display_data"
        }
      ],
      "source": [
        "#no of lab procedure vs target\n",
        "fig = plt.figure(figsize=(15,6),)\n",
        "ax=sns.kdeplot(df.loc[(df['target'] == 0),'num_lab_procedures'] , color='b',shade=True,label='Not readmitted')\n",
        "ax=sns.kdeplot(df.loc[(df['target'] == 1),'num_lab_procedures'] , color='r',shade=True, label='readmitted')\n",
        "ax.set(xlabel='Number of lab procedure', ylabel='Frequency')\n",
        "plt.title('Number of lab procedure VS. Readmission')"
      ]
    },
    {
      "cell_type": "markdown",
      "metadata": {
        "id": "asPdvm7pEGJ7"
      },
      "source": [
        "**Insight from above graph** : Both  admission and  readmission have similar pattern for number of lab procedures"
      ]
    },
    {
      "cell_type": "code",
      "execution_count": null,
      "metadata": {
        "colab": {
          "base_uri": "https://localhost:8080/",
          "height": 639
        },
        "id": "ub4HPc5xEGJ7",
        "outputId": "e184dc66-8935-43f9-81c8-8b694864c05a"
      },
      "outputs": [
        {
          "data": {
            "text/plain": [
              "Text(0.5, 1.0, 'admission_type_id VS. Readmission')"
            ]
          },
          "execution_count": 31,
          "metadata": {},
          "output_type": "execute_result"
        },
        {
          "data": {
            "image/png": "[encoded data removed]",
            "text/plain": [
              "<Figure size 576x720 with 1 Axes>"
            ]
          },
          "metadata": {},
          "output_type": "display_data"
        }
      ],
      "source": [
        "#admission type vs readmission\n",
        "#1-\tEmergency\n",
        "#2-Urgent\n",
        "#3-Elective\n",
        "#4-Newborn\n",
        "#5-Not Available\n",
        "#6-NULL\n",
        "#7-Trauma Center\n",
        "#8-Not Mapped\n",
        "\n",
        "fig = plt.figure(figsize=(8,10))\n",
        "sns.countplot(y= df['admission_type_id'], hue = df['target']).set_title('admission_type_id VS. Readmission')"
      ]
    },
    {
      "cell_type": "markdown",
      "metadata": {
        "id": "-cFxOFPXEGJ8"
      },
      "source": [
        "**Insight from above graph** : Patient who admitted as emergency has more readmission "
      ]
    },
    {
      "cell_type": "code",
      "execution_count": null,
      "metadata": {
        "colab": {
          "base_uri": "https://localhost:8080/",
          "height": 639
        },
        "id": "kGJ9EgmtEGJ9",
        "outputId": "84acfc98-00ea-47ef-88bc-e134c8c28a4f"
      },
      "outputs": [
        {
          "data": {
            "text/plain": [
              "Text(0.5, 1.0, 'discharge_disposition_id VS. Readmission')"
            ]
          },
          "execution_count": 32,
          "metadata": {},
          "output_type": "execute_result"
        },
        {
          "data": {
            "image/png": "[encoded data removed]",
            "text/plain": [
              "<Figure size 576x720 with 1 Axes>"
            ]
          },
          "metadata": {},
          "output_type": "display_data"
        }
      ],
      "source": [
        "#discharge_disposition_id VS. Readmission\n",
        "fig = plt.figure(figsize=(8,10))\n",
        "sns.countplot(y= df['discharge_disposition_id'], hue = df['target']).set_title('discharge_disposition_id VS. Readmission')"
      ]
    },
    {
      "cell_type": "markdown",
      "metadata": {
        "id": "wfnz84ApEGJ-"
      },
      "source": [
        "**Insight from above graph** : Patient who discharged to home has more readmission rate"
      ]
    },
    {
      "cell_type": "markdown",
      "metadata": {
        "id": "6HVVMjnQH9PZ"
      },
      "source": [
        "##Feature Engineering"
      ]
    },
    {
      "cell_type": "markdown",
      "metadata": {
        "id": "XvUgbF7AIHOQ"
      },
      "source": [
        "In this section, we will create features for our predictive model. For each section, we will add new variables to the dataframe and then keep track of which columns of the dataframe we want to use as part of the predictive model features. We will break down this section into numerical features, categorical features and extra features."
      ]
    },
    {
      "cell_type": "markdown",
      "metadata": {
        "id": "NViQRmR1IF_e"
      },
      "source": [
        "In this data set, the missing numbers were filled with a question mark. Let's replace it with a nan representation."
      ]
    },
    {
      "cell_type": "code",
      "execution_count": 19,
      "metadata": {
        "id": "kjENHzeEAfAV"
      },
      "outputs": [],
      "source": [
        "# replace ? with nan\n",
        "df = df.replace('?',np.nan)"
      ]
    },
    {
      "cell_type": "markdown",
      "metadata": {
        "id": "X93sB367IY9x"
      },
      "source": [
        "**Numerical Features**"
      ]
    },
    {
      "cell_type": "markdown",
      "metadata": {
        "id": "yl9n5cxGId9b"
      },
      "source": [
        "The easiest type of features to use is numerical features. These features do not need any modification. The columns that are numerical that we will use are shown below"
      ]
    },
    {
      "cell_type": "code",
      "execution_count": 20,
      "metadata": {
        "id": "E8dgC0E_AfDX"
      },
      "outputs": [],
      "source": [
        "cols_num = ['time_in_hospital','num_lab_procedures', 'num_procedures', 'num_medications',\n",
        "       'number_outpatient', 'number_emergency', 'number_inpatient','number_diagnoses']"
      ]
    },
    {
      "cell_type": "markdown",
      "metadata": {
        "id": "udqJYlivIiA9"
      },
      "source": [
        "Let's check if there are any missing values in the numerical data."
      ]
    },
    {
      "cell_type": "code",
      "execution_count": 21,
      "metadata": {
        "colab": {
          "base_uri": "https://localhost:8080/"
        },
        "id": "cZiZdqQFIlNB",
        "outputId": "9acfe744-0794-45c5-86df-3263122e41b1"
      },
      "outputs": [
        {
          "output_type": "execute_result",
          "data": {
            "text/plain": [
              "time_in_hospital      0\n",
              "num_lab_procedures    0\n",
              "num_procedures        0\n",
              "num_medications       0\n",
              "number_outpatient     0\n",
              "number_emergency      0\n",
              "number_inpatient      0\n",
              "number_diagnoses      0\n",
              "dtype: int64"
            ]
          },
          "metadata": {},
          "execution_count": 21
        }
      ],
      "source": [
        "df[cols_num].isnull().sum()"
      ]
    },
    {
      "cell_type": "markdown",
      "metadata": {
        "id": "_Dz4m4pvI0hh"
      },
      "source": [
        "\n",
        "**Categorical Features**"
      ]
    },
    {
      "cell_type": "markdown",
      "metadata": {
        "id": "TQMBZTgpJASn"
      },
      "source": [
        "The next type of features we want to create are categorical variables. Categorical variables are non-numeric data such as race and gender. To turn these non-numerical data into variables, the simplest thing is to use a technique called one-hot encoding, which will be explained below.\n",
        "\n",
        "The first set of categorical data we will deal with are these columns:"
      ]
    },
    {
      "cell_type": "code",
      "execution_count": 22,
      "metadata": {
        "id": "H4TxSB2HI9kg"
      },
      "outputs": [],
      "source": [
        "cols_cat = ['race', 'gender', \n",
        "       'max_glu_serum', 'A1Cresult',\n",
        "       'metformin', 'repaglinide', 'nateglinide', 'chlorpropamide',\n",
        "       'glimepiride', 'acetohexamide', 'glipizide', 'glyburide', 'tolbutamide',\n",
        "       'pioglitazone', 'rosiglitazone', 'acarbose', 'miglitol', 'troglitazone',\n",
        "       'tolazamide', 'insulin',\n",
        "       'glyburide-metformin', 'glipizide-metformin',\n",
        "       'glimepiride-pioglitazone', 'metformin-rosiglitazone',\n",
        "       'metformin-pioglitazone', 'change', 'diabetesMed','payer_code']"
      ]
    },
    {
      "cell_type": "markdown",
      "metadata": {
        "id": "k9etWk7jJJD9"
      },
      "source": [
        "**Let's check if there are any missing data**"
      ]
    },
    {
      "cell_type": "code",
      "execution_count": 23,
      "metadata": {
        "colab": {
          "base_uri": "https://localhost:8080/"
        },
        "id": "VliiimfqI377",
        "outputId": "0038964d-bc38-47a8-acce-4d3b135a991e"
      },
      "outputs": [
        {
          "output_type": "execute_result",
          "data": {
            "text/plain": [
              "race                         2234\n",
              "gender                          0\n",
              "max_glu_serum                   0\n",
              "A1Cresult                       0\n",
              "metformin                       0\n",
              "repaglinide                     0\n",
              "nateglinide                     0\n",
              "chlorpropamide                  0\n",
              "glimepiride                     0\n",
              "acetohexamide                   0\n",
              "glipizide                       0\n",
              "glyburide                       0\n",
              "tolbutamide                     0\n",
              "pioglitazone                    0\n",
              "rosiglitazone                   0\n",
              "acarbose                        0\n",
              "miglitol                        0\n",
              "troglitazone                    0\n",
              "tolazamide                      0\n",
              "insulin                         0\n",
              "glyburide-metformin             0\n",
              "glipizide-metformin             0\n",
              "glimepiride-pioglitazone        0\n",
              "metformin-rosiglitazone         0\n",
              "metformin-pioglitazone          0\n",
              "change                          0\n",
              "diabetesMed                     0\n",
              "payer_code                  39398\n",
              "dtype: int64"
            ]
          },
          "metadata": {},
          "execution_count": 23
        }
      ],
      "source": [
        "df[cols_cat].isnull().sum()"
      ]
    },
    {
      "cell_type": "markdown",
      "metadata": {
        "id": "IBBhDEkqJXYM"
      },
      "source": [
        "race, payer_code, and medical_specialty have missing data. Since these are categorical data, the best thing to do is to just add another categorical type for unknown using the fillna function."
      ]
    },
    {
      "cell_type": "code",
      "execution_count": 24,
      "metadata": {
        "id": "ZFLTpXzPAfGQ"
      },
      "outputs": [],
      "source": [
        "df['race'] = df['race'].fillna('UNK')\n",
        "df['payer_code'] = df['payer_code'].fillna('UNK')\n",
        "df['medical_specialty'] = df['medical_specialty'].fillna('UNK')"
      ]
    },
    {
      "cell_type": "markdown",
      "metadata": {
        "id": "DI7oeHdxJfbp"
      },
      "source": [
        "Let's investigate medical specialty before we begin."
      ]
    },
    {
      "cell_type": "code",
      "execution_count": 25,
      "metadata": {
        "colab": {
          "base_uri": "https://localhost:8080/"
        },
        "id": "bYGTSajhAfI9",
        "outputId": "fefc5a60-cb53-4447-b367-224f0568a6a3"
      },
      "outputs": [
        {
          "output_type": "stream",
          "name": "stdout",
          "text": [
            "Number medical specialty: 73\n"
          ]
        },
        {
          "output_type": "execute_result",
          "data": {
            "text/plain": [
              "medical_specialty\n",
              "UNK                                 48616\n",
              "InternalMedicine                    14237\n",
              "Emergency/Trauma                     7419\n",
              "Family/GeneralPractice               7252\n",
              "Cardiology                           5279\n",
              "                                    ...  \n",
              "Surgery-PlasticwithinHeadandNeck        1\n",
              "Dermatology                             1\n",
              "Proctology                              1\n",
              "Psychiatry-Addictive                    1\n",
              "Speech                                  1\n",
              "Length: 73, dtype: int64"
            ]
          },
          "metadata": {},
          "execution_count": 25
        }
      ],
      "source": [
        "print('Number medical specialty:', df.medical_specialty.nunique())\n",
        "df.groupby('medical_specialty').size().sort_values(ascending = False)"
      ]
    },
    {
      "cell_type": "markdown",
      "metadata": {
        "id": "e5I_Sp3nJubJ"
      },
      "source": [
        "We can see that most of them are unknown and that the count drops off pretty quickly. We don't want to add 73 new variables since some of them only have a few samples. As an alternative, we can create a new variable that only has 11 options (the top 10 specialities and then an other category). Obviously, there are other options for bucketing, but this is one of the easiest methods."
      ]
    },
    {
      "cell_type": "code",
      "execution_count": 26,
      "metadata": {
        "id": "8uDhAczSAfLz"
      },
      "outputs": [],
      "source": [
        "top_10 = ['UNK','InternalMedicine','Emergency/Trauma',\\\n",
        "          'Family/GeneralPractice', 'Cardiology','Surgery-General' ,\\\n",
        "          'Nephrology','Orthopedics',\\\n",
        "          'Orthopedics-Reconstructive','Radiologist']\n",
        "\n",
        "# make a new column with duplicated data\n",
        "df['med_spec'] = df['medical_specialty'].copy()\n",
        "\n",
        "# replace all specialties not in top 10 with 'Other' category\n",
        "df.loc[~df.med_spec.isin(top_10),'med_spec'] = 'Other'"
      ]
    },
    {
      "cell_type": "code",
      "execution_count": 27,
      "metadata": {
        "colab": {
          "base_uri": "https://localhost:8080/"
        },
        "id": "0vPQnyzeAfOz",
        "outputId": "36ef49a8-402e-433e-d972-2c835dc4f485"
      },
      "outputs": [
        {
          "output_type": "execute_result",
          "data": {
            "text/plain": [
              "med_spec\n",
              "Cardiology                     5279\n",
              "Emergency/Trauma               7419\n",
              "Family/GeneralPractice         7252\n",
              "InternalMedicine              14237\n",
              "Nephrology                     1539\n",
              "Orthopedics                    1392\n",
              "Orthopedics-Reconstructive     1230\n",
              "Other                          8199\n",
              "Radiologist                    1121\n",
              "Surgery-General                3059\n",
              "UNK                           48616\n",
              "dtype: int64"
            ]
          },
          "metadata": {},
          "execution_count": 27
        }
      ],
      "source": [
        "df.groupby('med_spec').size()"
      ]
    },
    {
      "cell_type": "markdown",
      "metadata": {
        "id": "idDoV5XFJ667"
      },
      "source": [
        "To convert our categorical features to numbers, we will use a technique called one-hot encoding. In one-hot encoding, you create a new column for each unique value in that column. Then the value of the column is 1 if the sample has that unique value or 0 otherwise. For example, for the column race, we would create new columns ('race_Caucasian','race_AfricanAmerican', etc). If the patient's race is Caucasian, the patient gets a 1 under 'race_Caucasian' and 0 under the rest of the race columns. To create these one-hot encoding columns, we can use the get_dummies function."
      ]
    },
    {
      "cell_type": "markdown",
      "metadata": {
        "id": "VhFQTIx2J8zC"
      },
      "source": [
        "Now the problem is that if we create a column for each unique value, we have correlated columns. In other words, the value in one column can be figured out by looking at the rest of the columns. For example, if the sample is not AfricanAmerican, Asian, Causasian, Hispance or Other, it must be UNK. To deal with this, we can use the drop_first option, which will drop the first categorical value for each column."
      ]
    },
    {
      "cell_type": "markdown",
      "metadata": {
        "id": "3DsKKx21KB3O"
      },
      "source": [
        "The get_dummies function does not work on numerical data. To trick get_dummies, we can convert the numerical data into strings and then it will work properly."
      ]
    },
    {
      "cell_type": "code",
      "execution_count": 28,
      "metadata": {
        "id": "0QJosxvuAfR6"
      },
      "outputs": [],
      "source": [
        "cols_cat_num = ['admission_type_id', 'discharge_disposition_id', 'admission_source_id']\n",
        "\n",
        "df[cols_cat_num] = df[cols_cat_num].astype('str')"
      ]
    },
    {
      "cell_type": "markdown",
      "metadata": {
        "id": "OUC1sLD7KIYB"
      },
      "source": [
        "Now we are ready to make all of our categorical features"
      ]
    },
    {
      "cell_type": "code",
      "execution_count": 29,
      "metadata": {
        "id": "1BVmMgYoAfWo"
      },
      "outputs": [],
      "source": [
        "df_cat = pd.get_dummies(df[cols_cat + cols_cat_num + ['med_spec']],drop_first = True)"
      ]
    },
    {
      "cell_type": "markdown",
      "metadata": {
        "id": "yzdI74-HK_dZ"
      },
      "source": [
        "To add the one-hot encoding columns to the dataframe we can use concat function. Make sure to use axis = 1 to indicate add the columns."
      ]
    },
    {
      "cell_type": "code",
      "execution_count": 30,
      "metadata": {
        "id": "Izr2qnDBAfcr"
      },
      "outputs": [],
      "source": [
        "df = pd.concat([df,df_cat], axis = 1)"
      ]
    },
    {
      "cell_type": "markdown",
      "metadata": {
        "id": "oPK0tzhALFIb"
      },
      "source": [
        "Save the column names of the categorical data."
      ]
    },
    {
      "cell_type": "code",
      "execution_count": 31,
      "metadata": {
        "id": "yH-X21S9KMHL"
      },
      "outputs": [],
      "source": [
        "cols_all_cat = list(df_cat.columns)"
      ]
    },
    {
      "cell_type": "markdown",
      "metadata": {
        "id": "hSx2Y8zzLMjj"
      },
      "source": [
        "**Extra features**"
      ]
    },
    {
      "cell_type": "markdown",
      "metadata": {
        "id": "nrrj_bkuLTcM"
      },
      "source": [
        "The last two columns we want to make features are age and weight. Typically, you would think of these as numerical data, but they are categorical in this dataset as shown below."
      ]
    },
    {
      "cell_type": "code",
      "execution_count": 32,
      "metadata": {
        "colab": {
          "base_uri": "https://localhost:8080/",
          "height": 206
        },
        "id": "TF9FtuX7LJlt",
        "outputId": "9a92f6a5-5be3-4a6b-d685-54fb409191dd"
      },
      "outputs": [
        {
          "output_type": "execute_result",
          "data": {
            "text/plain": [
              "       age weight\n",
              "0   [0-10)    NaN\n",
              "1  [10-20)    NaN\n",
              "2  [20-30)    NaN\n",
              "3  [30-40)    NaN\n",
              "4  [40-50)    NaN"
            ],
            "text/html": [
              "\n",
              "  <div id=\"df-4214de82-efa3-4648-949d-0b4e9f29ac42\">\n",
              "    <div class=\"colab-df-container\">\n",
              "      <div>\n",
              "<style scoped>\n",
              "    .dataframe tbody tr th:only-of-type {\n",
              "        vertical-align: middle;\n",
              "    }\n",
              "\n",
              "    .dataframe tbody tr th {\n",
              "        vertical-align: top;\n",
              "    }\n",
              "\n",
              "    .dataframe thead th {\n",
              "        text-align: right;\n",
              "    }\n",
              "</style>\n",
              "<table border=\"1\" class=\"dataframe\">\n",
              "  <thead>\n",
              "    <tr style=\"text-align: right;\">\n",
              "      <th></th>\n",
              "      <th>age</th>\n",
              "      <th>weight</th>\n",
              "    </tr>\n",
              "  </thead>\n",
              "  <tbody>\n",
              "    <tr>\n",
              "      <th>0</th>\n",
              "      <td>[0-10)</td>\n",
              "      <td>NaN</td>\n",
              "    </tr>\n",
              "    <tr>\n",
              "      <th>1</th>\n",
              "      <td>[10-20)</td>\n",
              "      <td>NaN</td>\n",
              "    </tr>\n",
              "    <tr>\n",
              "      <th>2</th>\n",
              "      <td>[20-30)</td>\n",
              "      <td>NaN</td>\n",
              "    </tr>\n",
              "    <tr>\n",
              "      <th>3</th>\n",
              "      <td>[30-40)</td>\n",
              "      <td>NaN</td>\n",
              "    </tr>\n",
              "    <tr>\n",
              "      <th>4</th>\n",
              "      <td>[40-50)</td>\n",
              "      <td>NaN</td>\n",
              "    </tr>\n",
              "  </tbody>\n",
              "</table>\n",
              "</div>\n",
              "      <button class=\"colab-df-convert\" onclick=\"convertToInteractive('df-4214de82-efa3-4648-949d-0b4e9f29ac42')\"\n",
              "              title=\"Convert this dataframe to an interactive table.\"\n",
              "              style=\"display:none;\">\n",
              "        \n",
              "  <svg xmlns=\"http://www.w3.org/2000/svg\" height=\"24px\"viewBox=\"0 0 24 24\"\n",
              "       width=\"24px\">\n",
              "    <path d=\"M0 0h24v24H0V0z\" fill=\"none\"/>\n",
              "    <path d=\"M18.56 5.44l.94 2.06.94-2.06 2.06-.94-2.06-.94-.94-2.06-.94 2.06-2.06.94zm-11 1L8.5 8.5l.94-2.06 2.06-.94-2.06-.94L8.5 2.5l-.94 2.06-2.06.94zm10 10l.94 2.06.94-2.06 2.06-.94-2.06-.94-.94-2.06-.94 2.06-2.06.94z\"/><path d=\"M17.41 7.96l-1.37-1.37c-.4-.4-.92-.59-1.43-.59-.52 0-1.04.2-1.43.59L10.3 9.45l-7.72 7.72c-.78.78-.78 2.05 0 2.83L4 21.41c.39.39.9.59 1.41.59.51 0 1.02-.2 1.41-.59l7.78-7.78 2.81-2.81c.8-.78.8-2.07 0-2.86zM5.41 20L4 18.59l7.72-7.72 1.47 1.35L5.41 20z\"/>\n",
              "  </svg>\n",
              "      </button>\n",
              "      \n",
              "  <style>\n",
              "    .colab-df-container {\n",
              "      display:flex;\n",
              "      flex-wrap:wrap;\n",
              "      gap: 12px;\n",
              "    }\n",
              "\n",
              "    .colab-df-convert {\n",
              "      background-color: #E8F0FE;\n",
              "      border: none;\n",
              "      border-radius: 50%;\n",
              "      cursor: pointer;\n",
              "      display: none;\n",
              "      fill: #1967D2;\n",
              "      height: 32px;\n",
              "      padding: 0 0 0 0;\n",
              "      width: 32px;\n",
              "    }\n",
              "\n",
              "    .colab-df-convert:hover {\n",
              "      background-color: #E2EBFA;\n",
              "      box-shadow: 0px 1px 2px rgba(60, 64, 67, 0.3), 0px 1px 3px 1px rgba(60, 64, 67, 0.15);\n",
              "      fill: #174EA6;\n",
              "    }\n",
              "\n",
              "    [theme=dark] .colab-df-convert {\n",
              "      background-color: #3B4455;\n",
              "      fill: #D2E3FC;\n",
              "    }\n",
              "\n",
              "    [theme=dark] .colab-df-convert:hover {\n",
              "      background-color: #434B5C;\n",
              "      box-shadow: 0px 1px 3px 1px rgba(0, 0, 0, 0.15);\n",
              "      filter: drop-shadow(0px 1px 2px rgba(0, 0, 0, 0.3));\n",
              "      fill: #FFFFFF;\n",
              "    }\n",
              "  </style>\n",
              "\n",
              "      <script>\n",
              "        const buttonEl =\n",
              "          document.querySelector('#df-4214de82-efa3-4648-949d-0b4e9f29ac42 button.colab-df-convert');\n",
              "        buttonEl.style.display =\n",
              "          google.colab.kernel.accessAllowed ? 'block' : 'none';\n",
              "\n",
              "        async function convertToInteractive(key) {\n",
              "          const element = document.querySelector('#df-4214de82-efa3-4648-949d-0b4e9f29ac42');\n",
              "          const dataTable =\n",
              "            await google.colab.kernel.invokeFunction('convertToInteractive',\n",
              "                                                     [key], {});\n",
              "          if (!dataTable) return;\n",
              "\n",
              "          const docLinkHtml = 'Like what you see? Visit the ' +\n",
              "            '<a target=\"_blank\" href=https://colab.research.google.com/notebooks/data_table.ipynb>data table notebook</a>'\n",
              "            + ' to learn more about interactive tables.';\n",
              "          element.innerHTML = '';\n",
              "          dataTable['output_type'] = 'display_data';\n",
              "          await google.colab.output.renderOutput(dataTable, element);\n",
              "          const docLink = document.createElement('div');\n",
              "          docLink.innerHTML = docLinkHtml;\n",
              "          element.appendChild(docLink);\n",
              "        }\n",
              "      </script>\n",
              "    </div>\n",
              "  </div>\n",
              "  "
            ]
          },
          "metadata": {},
          "execution_count": 32
        }
      ],
      "source": [
        "df[['age', 'weight']].head()"
      ]
    },
    {
      "cell_type": "markdown",
      "metadata": {
        "id": "sVkaCwJGLbIU"
      },
      "source": [
        "One option could be to create categorical data as shown above. Since there is a natural order to these values, it might make more sense to convert these to numerical data. Another example when you would want to do this might be size of a t-shirt (small, medium, large). Let's start with age."
      ]
    },
    {
      "cell_type": "code",
      "execution_count": 33,
      "metadata": {
        "colab": {
          "base_uri": "https://localhost:8080/"
        },
        "id": "xLHtf7P8LX1P",
        "outputId": "a8503296-c62f-43bb-d8f0-1a1855fe059b"
      },
      "outputs": [
        {
          "output_type": "execute_result",
          "data": {
            "text/plain": [
              "age\n",
              "[0-10)        160\n",
              "[10-20)       690\n",
              "[20-30)      1649\n",
              "[30-40)      3764\n",
              "[40-50)      9607\n",
              "[50-60)     17060\n",
              "[60-70)     22059\n",
              "[70-80)     25331\n",
              "[80-90)     16434\n",
              "[90-100)     2589\n",
              "dtype: int64"
            ]
          },
          "metadata": {},
          "execution_count": 33
        }
      ],
      "source": [
        "df.groupby('age').size()"
      ]
    },
    {
      "cell_type": "markdown",
      "metadata": {
        "id": "SKO6R8ggL5fb"
      },
      "source": [
        "Let's map these to 0-9 for the numerical data. "
      ]
    },
    {
      "cell_type": "code",
      "execution_count": 34,
      "metadata": {
        "id": "qk4Z2heeLX4u"
      },
      "outputs": [],
      "source": [
        "\n",
        "age_id = {'[0-10)':0, \n",
        "          '[10-20)':10, \n",
        "          '[20-30)':20, \n",
        "          '[30-40)':30, \n",
        "          '[40-50)':40, \n",
        "          '[50-60)':50,\n",
        "          '[60-70)':60, \n",
        "          '[70-80)':70, \n",
        "          '[80-90)':80, \n",
        "          '[90-100)':90}\n",
        "df['age_group'] = df.age.replace(age_id)"
      ]
    },
    {
      "cell_type": "markdown",
      "metadata": {
        "id": "6rh6E0p3ME2s"
      },
      "source": [
        "Now let's look at weight. Recall that this feature is not filled out very often."
      ]
    },
    {
      "cell_type": "code",
      "execution_count": 35,
      "metadata": {
        "colab": {
          "base_uri": "https://localhost:8080/"
        },
        "id": "7mC4x_IcMFrc",
        "outputId": "ad6077d4-b838-4f17-8f49-e4c355e86cdf"
      },
      "outputs": [
        {
          "output_type": "execute_result",
          "data": {
            "text/plain": [
              "3125"
            ]
          },
          "metadata": {},
          "execution_count": 35
        }
      ],
      "source": [
        "df.weight.notnull().sum()"
      ]
    },
    {
      "cell_type": "markdown",
      "metadata": {
        "id": "bZ52ypxcMLMd"
      },
      "source": [
        "Instead of creating an ordinal feature that we did above, let's just create a variable to say if weight was filled out or not. The presence of a variable might be predictive regardless of the value."
      ]
    },
    {
      "cell_type": "code",
      "execution_count": 36,
      "metadata": {
        "id": "PfRUxgaMMIxT"
      },
      "outputs": [],
      "source": [
        "df['has_weight'] = df.weight.notnull().astype('int')"
      ]
    },
    {
      "cell_type": "code",
      "execution_count": 37,
      "metadata": {
        "id": "EzaCDMiaMIz6"
      },
      "outputs": [],
      "source": [
        "cols_extra = ['age_group','has_weight']"
      ]
    },
    {
      "cell_type": "markdown",
      "metadata": {
        "id": "LnMLcwdEMT_E"
      },
      "source": [
        "**Engineering Features Summary**"
      ]
    },
    {
      "cell_type": "code",
      "execution_count": 38,
      "metadata": {
        "colab": {
          "base_uri": "https://localhost:8080/"
        },
        "id": "dahvN3C1MI3b",
        "outputId": "9e63bfaa-773d-4ca8-87e2-c878a1ae49ba"
      },
      "outputs": [
        {
          "output_type": "stream",
          "name": "stdout",
          "text": [
            "Total number of features: 143\n",
            "Numerical Features: 8\n",
            "Categorical Features: 133\n",
            "Extra features: 2\n"
          ]
        }
      ],
      "source": [
        "print('Total number of features:', len(cols_num + cols_all_cat + cols_extra))\n",
        "print('Numerical Features:',len(cols_num))\n",
        "print('Categorical Features:',len(cols_all_cat))\n",
        "print('Extra features:',len(cols_extra))"
      ]
    },
    {
      "cell_type": "markdown",
      "metadata": {
        "id": "W0OTvNXPMclE"
      },
      "source": [
        "Let's check if we are missing any data."
      ]
    },
    {
      "cell_type": "code",
      "execution_count": 39,
      "metadata": {
        "colab": {
          "base_uri": "https://localhost:8080/"
        },
        "id": "xHeH6miSMBfP",
        "outputId": "356bbc3f-9bc5-418f-dfd5-0936a71b1d8d"
      },
      "outputs": [
        {
          "output_type": "execute_result",
          "data": {
            "text/plain": [
              "time_in_hospital               0\n",
              "discharge_disposition_id_16    0\n",
              "admission_type_id_6            0\n",
              "admission_type_id_7            0\n",
              "admission_type_id_8            0\n",
              "discharge_disposition_id_10    0\n",
              "discharge_disposition_id_12    0\n",
              "discharge_disposition_id_15    0\n",
              "discharge_disposition_id_17    0\n",
              "admission_type_id_4            0\n",
              "dtype: int64"
            ]
          },
          "metadata": {},
          "execution_count": 39
        }
      ],
      "source": [
        "df[cols_num + cols_all_cat + cols_extra].isnull().sum().sort_values(ascending = False).head(10)"
      ]
    },
    {
      "cell_type": "markdown",
      "metadata": {
        "id": "0K7C0WIzMkmA"
      },
      "source": [
        "let's make a new dataframe that only has the columns of interest"
      ]
    },
    {
      "cell_type": "code",
      "execution_count": 40,
      "metadata": {
        "id": "rxRmtEI1Mhi0"
      },
      "outputs": [],
      "source": [
        "col2use = cols_num + cols_all_cat + cols_extra\n",
        "df_data = df[col2use + ['target']]"
      ]
    },
    {
      "cell_type": "markdown",
      "metadata": {
        "id": "r7i1faSTEGKO"
      },
      "source": [
        "**Model Building**"
      ]
    },
    {
      "cell_type": "code",
      "execution_count": 41,
      "metadata": {
        "id": "W9Oe-AWXEGKO"
      },
      "outputs": [],
      "source": [
        "X=df_data.drop(['target'],axis=1).values\n",
        "y=df_data['target'].values"
      ]
    },
    {
      "cell_type": "code",
      "execution_count": 42,
      "metadata": {
        "id": "Sojv8gOMJKMY"
      },
      "outputs": [],
      "source": [
        "X_train, X_test, Y_train, Y_test = train_test_split(X, y, test_size=0.2, random_state=41)"
      ]
    },
    {
      "cell_type": "code",
      "execution_count": null,
      "metadata": {
        "colab": {
          "base_uri": "https://localhost:8080/"
        },
        "id": "FBShv2nPJ25J",
        "outputId": "c5400279-ae21-4878-deea-44c425e37d47"
      },
      "outputs": [
        {
          "data": {
            "text/plain": [
              "(73872, 141)"
            ]
          },
          "execution_count": 57,
          "metadata": {},
          "output_type": "execute_result"
        }
      ],
      "source": [
        "X_train.shape"
      ]
    },
    {
      "cell_type": "code",
      "execution_count": null,
      "metadata": {
        "colab": {
          "base_uri": "https://localhost:8080/"
        },
        "id": "3mqiF7IjJ7dw",
        "outputId": "fbdc5396-430f-438c-bd85-435f813ca8e0"
      },
      "outputs": [
        {
          "data": {
            "text/plain": [
              "(73872,)"
            ]
          },
          "execution_count": 58,
          "metadata": {},
          "output_type": "execute_result"
        }
      ],
      "source": [
        "Y_train.shape"
      ]
    },
    {
      "cell_type": "code",
      "execution_count": null,
      "metadata": {
        "colab": {
          "base_uri": "https://localhost:8080/"
        },
        "id": "HlC6CZSGJ_QE",
        "outputId": "fca98789-e7db-4879-bddf-bf5a793d90f9"
      },
      "outputs": [
        {
          "data": {
            "text/plain": [
              "(18468, 141)"
            ]
          },
          "execution_count": 59,
          "metadata": {},
          "output_type": "execute_result"
        }
      ],
      "source": [
        "X_test.shape"
      ]
    },
    {
      "cell_type": "code",
      "execution_count": null,
      "metadata": {
        "colab": {
          "base_uri": "https://localhost:8080/"
        },
        "id": "ENFU91IWKCpV",
        "outputId": "f05510cb-4d83-4c8a-ad10-0847209f4e75"
      },
      "outputs": [
        {
          "data": {
            "text/plain": [
              "(18468,)"
            ]
          },
          "execution_count": 60,
          "metadata": {},
          "output_type": "execute_result"
        }
      ],
      "source": [
        "Y_test.shape"
      ]
    },
    {
      "cell_type": "markdown",
      "metadata": {
        "id": "WtSAgaelEGKP"
      },
      "source": [
        "##Logistic Regression"
      ]
    },
    {
      "cell_type": "code",
      "execution_count": null,
      "metadata": {
        "id": "A9Gzzh4MFVmh"
      },
      "outputs": [],
      "source": [
        "#Split data\n",
        "from sklearn.preprocessing import StandardScaler\n",
        "from sklearn.preprocessing import MinMaxScaler"
      ]
    },
    {
      "cell_type": "code",
      "execution_count": null,
      "metadata": {
        "id": "jCD6KIZdFOss"
      },
      "outputs": [],
      "source": [
        "X_train, X_test, Y_train, Y_test = train_test_split(X, y, test_size=0.2, random_state=41)\n",
        "sc_X = StandardScaler()\n",
        "X_train = sc_X.fit_transform(X_train)\n",
        "X_test = sc_X.transform(X_test)"
      ]
    },
    {
      "cell_type": "markdown",
      "metadata": {
        "id": "QXir8r8H0qnX"
      },
      "source": [
        "**Model Building**"
      ]
    },
    {
      "cell_type": "code",
      "execution_count": null,
      "metadata": {
        "id": "f2610e75"
      },
      "outputs": [],
      "source": [
        "class MultiClassLogisticRegression:\n",
        "    \"\"\"\n",
        "    Multiclass logistic regression\n",
        "    \"\"\"\n",
        "    \n",
        "    def __init__(self, epochs = 10000, threshold=1e-3):\n",
        "        \"\"\"\n",
        "        Constructor for multiclass regression\n",
        "\n",
        "        Args:\n",
        "            epochs (int, optional): No of iteration Defaults to 10000.\n",
        "            threshold (_type_, optional): Each iteration thresold. Defaults to 1e-3.\n",
        "        \"\"\"\n",
        "        self.epochs = epochs\n",
        "        self.threshold = threshold\n",
        "    \n",
        "    def fit(self, X, y, batch_size=64, lr=0.001, rand_seed=4, verbose=False): \n",
        "        \"\"\"\n",
        "        Train the model\n",
        "\n",
        "        Args:\n",
        "            X (_type_): Features\n",
        "            y (_type_): Labels\n",
        "            batch_size (int, optional): Batch size per iterations. Defaults to 64.\n",
        "            lr (float, optional): Learning rate. Defaults to 0.001.\n",
        "            rand_seed (int, optional): _description_. Defaults to 4.\n",
        "            verbose (bool, optional): _description_. Defaults to False.\n",
        "\n",
        "        Returns:\n",
        "            _type_: return the instance \n",
        "        \"\"\"\n",
        "        np.random.seed(rand_seed) \n",
        "        self.classes = np.unique(y)\n",
        "        self.class_labels = {c:i for i,c in enumerate(self.classes)}\n",
        "        X = self.add_bias(X)\n",
        "        y = self.one_hot(y)\n",
        "        self.loss = []\n",
        "        self.weights = np.zeros(shape=(len(self.classes),X.shape[1]))\n",
        "        self.fit_data(X, y, batch_size, lr, verbose)\n",
        "        return self\n",
        " \n",
        "    def fit_data(self, X, y, batch_size, lr, verbose):\n",
        "        i = 0\n",
        "        while (not self.epochs or i < self.epochs):\n",
        "            self.loss.append(self.cross_entropy(y, self.predict_(X)))\n",
        "            idx = np.random.choice(X.shape[0], batch_size)\n",
        "            X_batch, y_batch = X[idx], y[idx]\n",
        "            error = y_batch - self.predict_(X_batch)\n",
        "            update = (lr * np.dot(error.T, X_batch))\n",
        "            self.weights += update\n",
        "            if np.abs(update).max() < self.threshold: \n",
        "                break\n",
        "            if i % 1000 == 0 and verbose: \n",
        "                print(' Training Accuray at {} iterations is {}'.format(i, self.evaluate_(X, y)))\n",
        "            i +=1\n",
        "    \n",
        "    def predict(self, X):\n",
        "        return self.predict_(self.add_bias(X))\n",
        "    \n",
        "    def predict_(self, X):\n",
        "        pre_vals = np.dot(X, self.weights.T).reshape(-1,len(self.classes))\n",
        "        return self.softmax(pre_vals)\n",
        "    \n",
        "    def softmax(self, z):\n",
        "        return np.exp(z) / np.sum(np.exp(z), axis=1).reshape(-1,1)\n",
        "\n",
        "    def predict_classes(self, X):\n",
        "        self.probs_ = self.predict(X)\n",
        "        return np.vectorize(lambda c: self.classes[c])(np.argmax(self.probs_, axis=1))\n",
        "  \n",
        "    def add_bias(self,X):\n",
        "        return np.insert(X, 0, 1, axis=1)\n",
        "  \n",
        "    def get_random_weights(self, row, col):\n",
        "        return np.zeros(shape=(row,col))\n",
        "\n",
        "    def one_hot(self, y):\n",
        "        return np.eye(len(self.classes))[np.vectorize(lambda c: self.class_labels[c])(y).reshape(-1)]\n",
        "    \n",
        "    def score(self, X, y):\n",
        "        return round(np.mean(self.predict_classes(X) == y),3)\n",
        "    \n",
        "    def evaluate_(self, X, y):\n",
        "        return np.mean(np.argmax(self.predict_(X), axis=1) == np.argmax(y, axis=1))\n",
        "    \n",
        "    def cross_entropy(self, y, probs):\n",
        "        return -1 * np.mean(y * np.log(probs))"
      ]
    },
    {
      "cell_type": "markdown",
      "metadata": {
        "id": "dbLrKp-Q0ySO"
      },
      "source": [
        "**Fitting the Model**"
      ]
    },
    {
      "cell_type": "code",
      "execution_count": null,
      "metadata": {
        "colab": {
          "base_uri": "https://localhost:8080/"
        },
        "id": "ztcHi1PCFeSa",
        "outputId": "385c14da-0413-43bf-cfc1-598abcddda4a"
      },
      "outputs": [
        {
          "data": {
            "text/plain": [
              "<__main__.MultiClassLogisticRegression at 0x7f7fb4eae670>"
            ]
          },
          "execution_count": 59,
          "metadata": {},
          "output_type": "execute_result"
        }
      ],
      "source": [
        "lrModel = MultiClassLogisticRegression(threshold=1e-5)\n",
        "lrModel.fit(X_train,Y_train,lr=0.0001)"
      ]
    },
    {
      "cell_type": "markdown",
      "metadata": {
        "id": "wrimXDQK01iC"
      },
      "source": [
        "**Predictions on training and test data**"
      ]
    },
    {
      "cell_type": "code",
      "execution_count": null,
      "metadata": {
        "id": "BbpEaPeWFh_Q"
      },
      "outputs": [],
      "source": [
        "lr_ypred_tr = lrModel.predict_classes(X_train)\n",
        "lr_ypred_te = lrModel.predict_classes(X_test)"
      ]
    },
    {
      "cell_type": "markdown",
      "metadata": {
        "id": "1mjI7mP006dG"
      },
      "source": [
        "**Performance metrics used**"
      ]
    },
    {
      "cell_type": "markdown",
      "metadata": {
        "id": "g2HFAsh00-xE"
      },
      "source": [
        "**Accuracy & Classification Report**"
      ]
    },
    {
      "cell_type": "code",
      "execution_count": null,
      "metadata": {
        "id": "LMJUjAu4FlCa"
      },
      "outputs": [],
      "source": [
        "from sklearn.metrics import accuracy_score,classification_report"
      ]
    },
    {
      "cell_type": "code",
      "execution_count": null,
      "metadata": {
        "colab": {
          "base_uri": "https://localhost:8080/"
        },
        "id": "SEweeYttFpiS",
        "outputId": "932559e9-773c-4d33-b9f3-8e0ae7383611"
      },
      "outputs": [
        {
          "name": "stdout",
          "output_type": "stream",
          "text": [
            "accuracy_score of logistic training data: 88.59 %\n",
            "accuracy_score of logistic testing data: 88.64 %\n"
          ]
        }
      ],
      "source": [
        "print(\"accuracy_score of logistic training data:\",round(accuracy_score(Y_train,lr_ypred_tr)*100,2),'%')\n",
        "print(\"accuracy_score of logistic testing data:\",round(accuracy_score(Y_test,lr_ypred_te)*100,2),'%')"
      ]
    },
    {
      "cell_type": "code",
      "execution_count": null,
      "metadata": {
        "colab": {
          "base_uri": "https://localhost:8080/"
        },
        "id": "A8seCehWIWea",
        "outputId": "9f8a0550-82de-4235-a57e-2f8bc067ac9e"
      },
      "outputs": [
        {
          "name": "stdout",
          "output_type": "stream",
          "text": [
            "Classification Report of Logistic train data = \n",
            "               precision    recall  f1-score   support\n",
            "\n",
            "           0       0.89      1.00      0.94     70422\n",
            "           1       0.48      0.02      0.03      9052\n",
            "\n",
            "    accuracy                           0.89     79474\n",
            "   macro avg       0.68      0.51      0.49     79474\n",
            "weighted avg       0.84      0.89      0.84     79474\n",
            "\n",
            "Classification Report of Logistic test data = \n",
            "               precision    recall  f1-score   support\n",
            "\n",
            "           0       0.89      1.00      0.94     17607\n",
            "           1       0.53      0.02      0.04      2262\n",
            "\n",
            "    accuracy                           0.89     19869\n",
            "   macro avg       0.71      0.51      0.49     19869\n",
            "weighted avg       0.85      0.89      0.84     19869\n",
            "\n"
          ]
        }
      ],
      "source": [
        "print(f\"Classification Report of Logistic train data = \\n\",classification_report(Y_train, lr_ypred_tr))\n",
        "print(f\"Classification Report of Logistic test data = \\n\",classification_report(Y_test, lr_ypred_te))"
      ]
    },
    {
      "cell_type": "markdown",
      "metadata": {
        "id": "92jJtT_N1Fx8"
      },
      "source": [
        "**Confusion Matrix**"
      ]
    },
    {
      "cell_type": "code",
      "execution_count": 48,
      "metadata": {
        "colab": {
          "base_uri": "https://localhost:8080/"
        },
        "id": "MpDhfRT4IbEs",
        "outputId": "f1885129-85a4-4d9a-a98b-5600b9b3d79b"
      },
      "outputs": [
        {
          "output_type": "stream",
          "name": "stdout",
          "text": [
            "Looking in indexes: https://pypi.org/simple, https://us-python.pkg.dev/colab-wheels/public/simple/\n",
            "Requirement already satisfied: scikit-plot in /usr/local/lib/python3.8/dist-packages (0.3.7)\n",
            "Requirement already satisfied: scipy>=0.9 in /usr/local/lib/python3.8/dist-packages (from scikit-plot) (1.7.3)\n",
            "Requirement already satisfied: scikit-learn>=0.18 in /usr/local/lib/python3.8/dist-packages (from scikit-plot) (1.0.2)\n",
            "Requirement already satisfied: joblib>=0.10 in /usr/local/lib/python3.8/dist-packages (from scikit-plot) (1.2.0)\n",
            "Requirement already satisfied: matplotlib>=1.4.0 in /usr/local/lib/python3.8/dist-packages (from scikit-plot) (3.2.2)\n",
            "Requirement already satisfied: pyparsing!=2.0.4,!=2.1.2,!=2.1.6,>=2.0.1 in /usr/local/lib/python3.8/dist-packages (from matplotlib>=1.4.0->scikit-plot) (3.0.9)\n",
            "Requirement already satisfied: kiwisolver>=1.0.1 in /usr/local/lib/python3.8/dist-packages (from matplotlib>=1.4.0->scikit-plot) (1.4.4)\n",
            "Requirement already satisfied: numpy>=1.11 in /usr/local/lib/python3.8/dist-packages (from matplotlib>=1.4.0->scikit-plot) (1.21.6)\n",
            "Requirement already satisfied: python-dateutil>=2.1 in /usr/local/lib/python3.8/dist-packages (from matplotlib>=1.4.0->scikit-plot) (2.8.2)\n",
            "Requirement already satisfied: cycler>=0.10 in /usr/local/lib/python3.8/dist-packages (from matplotlib>=1.4.0->scikit-plot) (0.11.0)\n",
            "Requirement already satisfied: six>=1.5 in /usr/local/lib/python3.8/dist-packages (from python-dateutil>=2.1->matplotlib>=1.4.0->scikit-plot) (1.15.0)\n",
            "Requirement already satisfied: threadpoolctl>=2.0.0 in /usr/local/lib/python3.8/dist-packages (from scikit-learn>=0.18->scikit-plot) (3.1.0)\n"
          ]
        }
      ],
      "source": [
        "!pip install scikit-plot"
      ]
    },
    {
      "cell_type": "code",
      "execution_count": 49,
      "metadata": {
        "id": "ra5EJrs7Ik3X"
      },
      "outputs": [],
      "source": [
        "import scikitplot as skplt"
      ]
    },
    {
      "cell_type": "code",
      "execution_count": null,
      "metadata": {
        "colab": {
          "base_uri": "https://localhost:8080/",
          "height": 603
        },
        "id": "NNSp42P0IfSA",
        "outputId": "a836d98b-4c08-4465-fd52-a96af643c673"
      },
      "outputs": [
        {
          "data": {
            "text/plain": [
              "<matplotlib.axes._subplots.AxesSubplot at 0x7f7fc4ef1dc0>"
            ]
          },
          "execution_count": 66,
          "metadata": {},
          "output_type": "execute_result"
        },
        {
          "data": {
            "image/png": "[encoded data removed]",
            "text/plain": [
              "<Figure size 432x288 with 2 Axes>"
            ]
          },
          "metadata": {},
          "output_type": "display_data"
        },
        {
          "data": {
            "image/png": "[encoded data removed]",
            "text/plain": [
              "<Figure size 432x288 with 2 Axes>"
            ]
          },
          "metadata": {},
          "output_type": "display_data"
        }
      ],
      "source": [
        "skplt.metrics.plot_confusion_matrix(Y_train,lr_ypred_tr, title=\"Confusion Matrix of logistic train data\",text_fontsize='large')\n",
        "skplt.metrics.plot_confusion_matrix(Y_test,lr_ypred_te, title=\"Confusion Matrix of logistic test data\",text_fontsize='large')"
      ]
    },
    {
      "cell_type": "markdown",
      "metadata": {
        "id": "iG3dDb-c1LEa"
      },
      "source": [
        "**Feature Importance**"
      ]
    },
    {
      "cell_type": "markdown",
      "metadata": {
        "id": "xo4n_jb7PyIf"
      },
      "source": [
        "Logistic regression is a very interpretable model because the coefficient for each variable shows how important that variable is for the prediction. Note that you need to have normalized the data so the coefficients are comparable between variables. We can extract the coefficients using coef_ and store in a new dataframe (sorted by importance)"
      ]
    },
    {
      "cell_type": "code",
      "execution_count": null,
      "metadata": {
        "id": "iMqgLZ2n1Sar"
      },
      "outputs": [],
      "source": [
        "feature_importances = pd.DataFrame(lrModel.coef_[0],\n",
        "                                   index = col2use,\n",
        "                                    columns=['importance']).sort_values('importance',\n",
        "                                                                        ascending=False)"
      ]
    },
    {
      "cell_type": "code",
      "execution_count": null,
      "metadata": {
        "colab": {
          "base_uri": "https://localhost:8080/",
          "height": 206
        },
        "id": "iFe8pavmPerH",
        "outputId": "3fe59867-b686-4fed-9666-f55cd962a4fa"
      },
      "outputs": [
        {
          "data": {
            "text/html": [
              "\n",
              "  <div id=\"df-8eb9ea7a-f363-4e35-9f3d-9ae2e2b2de25\">\n",
              "    <div class=\"colab-df-container\">\n",
              "      <div>\n",
              "<style scoped>\n",
              "    .dataframe tbody tr th:only-of-type {\n",
              "        vertical-align: middle;\n",
              "    }\n",
              "\n",
              "    .dataframe tbody tr th {\n",
              "        vertical-align: top;\n",
              "    }\n",
              "\n",
              "    .dataframe thead th {\n",
              "        text-align: right;\n",
              "    }\n",
              "</style>\n",
              "<table border=\"1\" class=\"dataframe\">\n",
              "  <thead>\n",
              "    <tr style=\"text-align: right;\">\n",
              "      <th></th>\n",
              "      <th>importance</th>\n",
              "    </tr>\n",
              "  </thead>\n",
              "  <tbody>\n",
              "    <tr>\n",
              "      <th>number_inpatient</th>\n",
              "      <td>0.324954</td>\n",
              "    </tr>\n",
              "    <tr>\n",
              "      <th>discharge_disposition_id_22</th>\n",
              "      <td>0.184061</td>\n",
              "    </tr>\n",
              "    <tr>\n",
              "      <th>med_spec_UNK</th>\n",
              "      <td>0.143227</td>\n",
              "    </tr>\n",
              "    <tr>\n",
              "      <th>discharge_disposition_id_3</th>\n",
              "      <td>0.137059</td>\n",
              "    </tr>\n",
              "    <tr>\n",
              "      <th>rosiglitazone_No</th>\n",
              "      <td>0.119903</td>\n",
              "    </tr>\n",
              "  </tbody>\n",
              "</table>\n",
              "</div>\n",
              "      <button class=\"colab-df-convert\" onclick=\"convertToInteractive('df-8eb9ea7a-f363-4e35-9f3d-9ae2e2b2de25')\"\n",
              "              title=\"Convert this dataframe to an interactive table.\"\n",
              "              style=\"display:none;\">\n",
              "        \n",
              "  <svg xmlns=\"http://www.w3.org/2000/svg\" height=\"24px\"viewBox=\"0 0 24 24\"\n",
              "       width=\"24px\">\n",
              "    <path d=\"M0 0h24v24H0V0z\" fill=\"none\"/>\n",
              "    <path d=\"M18.56 5.44l.94 2.06.94-2.06 2.06-.94-2.06-.94-.94-2.06-.94 2.06-2.06.94zm-11 1L8.5 8.5l.94-2.06 2.06-.94-2.06-.94L8.5 2.5l-.94 2.06-2.06.94zm10 10l.94 2.06.94-2.06 2.06-.94-2.06-.94-.94-2.06-.94 2.06-2.06.94z\"/><path d=\"M17.41 7.96l-1.37-1.37c-.4-.4-.92-.59-1.43-.59-.52 0-1.04.2-1.43.59L10.3 9.45l-7.72 7.72c-.78.78-.78 2.05 0 2.83L4 21.41c.39.39.9.59 1.41.59.51 0 1.02-.2 1.41-.59l7.78-7.78 2.81-2.81c.8-.78.8-2.07 0-2.86zM5.41 20L4 18.59l7.72-7.72 1.47 1.35L5.41 20z\"/>\n",
              "  </svg>\n",
              "      </button>\n",
              "      \n",
              "  <style>\n",
              "    .colab-df-container {\n",
              "      display:flex;\n",
              "      flex-wrap:wrap;\n",
              "      gap: 12px;\n",
              "    }\n",
              "\n",
              "    .colab-df-convert {\n",
              "      background-color: #E8F0FE;\n",
              "      border: none;\n",
              "      border-radius: 50%;\n",
              "      cursor: pointer;\n",
              "      display: none;\n",
              "      fill: #1967D2;\n",
              "      height: 32px;\n",
              "      padding: 0 0 0 0;\n",
              "      width: 32px;\n",
              "    }\n",
              "\n",
              "    .colab-df-convert:hover {\n",
              "      background-color: #E2EBFA;\n",
              "      box-shadow: 0px 1px 2px rgba(60, 64, 67, 0.3), 0px 1px 3px 1px rgba(60, 64, 67, 0.15);\n",
              "      fill: #174EA6;\n",
              "    }\n",
              "\n",
              "    [theme=dark] .colab-df-convert {\n",
              "      background-color: #3B4455;\n",
              "      fill: #D2E3FC;\n",
              "    }\n",
              "\n",
              "    [theme=dark] .colab-df-convert:hover {\n",
              "      background-color: #434B5C;\n",
              "      box-shadow: 0px 1px 3px 1px rgba(0, 0, 0, 0.15);\n",
              "      filter: drop-shadow(0px 1px 2px rgba(0, 0, 0, 0.3));\n",
              "      fill: #FFFFFF;\n",
              "    }\n",
              "  </style>\n",
              "\n",
              "      <script>\n",
              "        const buttonEl =\n",
              "          document.querySelector('#df-8eb9ea7a-f363-4e35-9f3d-9ae2e2b2de25 button.colab-df-convert');\n",
              "        buttonEl.style.display =\n",
              "          google.colab.kernel.accessAllowed ? 'block' : 'none';\n",
              "\n",
              "        async function convertToInteractive(key) {\n",
              "          const element = document.querySelector('#df-8eb9ea7a-f363-4e35-9f3d-9ae2e2b2de25');\n",
              "          const dataTable =\n",
              "            await google.colab.kernel.invokeFunction('convertToInteractive',\n",
              "                                                     [key], {});\n",
              "          if (!dataTable) return;\n",
              "\n",
              "          const docLinkHtml = 'Like what you see? Visit the ' +\n",
              "            '<a target=\"_blank\" href=https://colab.research.google.com/notebooks/data_table.ipynb>data table notebook</a>'\n",
              "            + ' to learn more about interactive tables.';\n",
              "          element.innerHTML = '';\n",
              "          dataTable['output_type'] = 'display_data';\n",
              "          await google.colab.output.renderOutput(dataTable, element);\n",
              "          const docLink = document.createElement('div');\n",
              "          docLink.innerHTML = docLinkHtml;\n",
              "          element.appendChild(docLink);\n",
              "        }\n",
              "      </script>\n",
              "    </div>\n",
              "  </div>\n",
              "  "
            ],
            "text/plain": [
              "                             importance\n",
              "number_inpatient               0.324954\n",
              "discharge_disposition_id_22    0.184061\n",
              "med_spec_UNK                   0.143227\n",
              "discharge_disposition_id_3     0.137059\n",
              "rosiglitazone_No               0.119903"
            ]
          },
          "execution_count": 48,
          "metadata": {},
          "output_type": "execute_result"
        }
      ],
      "source": [
        "feature_importances.head()"
      ]
    },
    {
      "cell_type": "markdown",
      "metadata": {
        "id": "ePiNu2IXP7ZE"
      },
      "source": [
        "For logistic regression, the variables with highest positive coefficients are predictive of re-hospitalization and the variables with highest negative coefficients are predictive of not being re-hospitalized. We can plot the top 10 for each direction below."
      ]
    },
    {
      "cell_type": "code",
      "execution_count": null,
      "metadata": {
        "colab": {
          "base_uri": "https://localhost:8080/",
          "height": 987
        },
        "id": "uB1PrX7wvTLM",
        "outputId": "4496ce72-5eec-4757-b402-ef24709d5d57"
      },
      "outputs": [
        {
          "data": {
            "image/png": "[encoded data removed]",
            "text/plain": [
              "<Figure size 640x1200 with 1 Axes>"
            ]
          },
          "metadata": {},
          "output_type": "display_data"
        }
      ],
      "source": [
        "num = 10\n",
        "ylocs = np.arange(num)\n",
        "# get the feature importance for top num and sort in reverse order\n",
        "values_to_plot = feature_importances.iloc[:num].values.ravel()[::-1]\n",
        "feature_labels = list(feature_importances.iloc[:num].index)[::-1]\n",
        "\n",
        "plt.figure(num=None, figsize=(8, 15), dpi=80, facecolor='w', edgecolor='k');\n",
        "plt.barh(ylocs, values_to_plot, align = 'center')\n",
        "plt.ylabel('Features')\n",
        "plt.xlabel('Importance Score')\n",
        "plt.title('Positive Feature Importance Score - Logistic Regression')\n",
        "plt.yticks(ylocs, feature_labels)\n",
        "plt.show()"
      ]
    },
    {
      "cell_type": "code",
      "execution_count": null,
      "metadata": {
        "colab": {
          "base_uri": "https://localhost:8080/",
          "height": 987
        },
        "id": "_AZhXsJfPj8j",
        "outputId": "56d730ff-8dd8-4f04-b00b-0d6e13d8a49f"
      },
      "outputs": [
        {
          "data": {
            "image/png": "[encoded data removed]",
            "text/plain": [
              "<Figure size 640x1200 with 1 Axes>"
            ]
          },
          "metadata": {},
          "output_type": "display_data"
        }
      ],
      "source": [
        "values_to_plot = feature_importances.iloc[-num:].values.ravel()\n",
        "feature_labels = list(feature_importances.iloc[-num:].index)\n",
        "\n",
        "plt.figure(num=None, figsize=(8, 15), dpi=80, facecolor='w', edgecolor='k');\n",
        "plt.barh(ylocs, values_to_plot, align = 'center')\n",
        "plt.ylabel('Features')\n",
        "plt.xlabel('Importance Score')\n",
        "plt.title('Negative Feature Importance Score - Logistic Regression')\n",
        "plt.yticks(ylocs, feature_labels)\n",
        "plt.show()"
      ]
    },
    {
      "cell_type": "markdown",
      "metadata": {
        "id": "sj-G4Q6BQbEw"
      },
      "source": [
        "##Decision tree"
      ]
    },
    {
      "cell_type": "markdown",
      "metadata": {
        "id": "C2j6Uwv3Qdsx"
      },
      "source": [
        "**Custom decision tree Model**"
      ]
    },
    {
      "cell_type": "markdown",
      "metadata": {
        "id": "Xr7K3eUaQixm"
      },
      "source": [
        "**Node class**"
      ]
    },
    {
      "cell_type": "code",
      "execution_count": null,
      "metadata": {
        "id": "lsKUE-vz1v0I"
      },
      "outputs": [],
      "source": [
        "class Node():\n",
        "    def __init__(self, feature_index=None, threshold=None, left=None, right=None, info_gain=None, value=None):\n",
        "        ''' constructor ''' \n",
        "        \n",
        "        # for decision node\n",
        "        self.feature_index = feature_index\n",
        "        self.threshold = threshold\n",
        "        self.left = left\n",
        "        self.right = right\n",
        "        self.info_gain = info_gain\n",
        "        \n",
        "        # for leaf node\n",
        "        self.value = value"
      ]
    },
    {
      "cell_type": "code",
      "execution_count": null,
      "metadata": {
        "id": "bFmnRsqUIuuM"
      },
      "outputs": [],
      "source": []
    },
    {
      "cell_type": "code",
      "execution_count": null,
      "metadata": {
        "id": "-sApWKxA1v0L"
      },
      "outputs": [],
      "source": [
        "class DecisionTreeClassifier():\n",
        "    def __init__(self, min_samples_split=2, max_depth=2):\n",
        "        ''' constructor '''\n",
        "        \n",
        "        # initialize the root of the tree \n",
        "        self.root = None\n",
        "        \n",
        "        # stopping conditions\n",
        "        self.min_samples_split = min_samples_split\n",
        "        self.max_depth = max_depth\n",
        "        \n",
        "        \n",
        "    def build_tree(self, dataset, curr_depth=0):\n",
        "        ''' recursive function to build the tree ''' \n",
        "        \n",
        "        X, Y = dataset[:,:-1], dataset[:,-1]\n",
        "        num_samples, num_features = np.shape(X)\n",
        "        \n",
        "        # split until stopping conditions are met\n",
        "        if num_samples>=self.min_samples_split and curr_depth<=self.max_depth:\n",
        "            # find the best split\n",
        "            best_split = self.get_best_split(dataset, num_samples, num_features)\n",
        "            # check if information gain is positive\n",
        "            if best_split[\"info_gain\"]>0:\n",
        "                # recur left\n",
        "                left_subtree = self.build_tree(best_split[\"dataset_left\"], curr_depth+1)\n",
        "                # recur right\n",
        "                right_subtree = self.build_tree(best_split[\"dataset_right\"], curr_depth+1)\n",
        "                # return decision node\n",
        "                return Node(best_split[\"feature_index\"], best_split[\"threshold\"], \n",
        "                            left_subtree, right_subtree, best_split[\"info_gain\"])\n",
        "        \n",
        "        # compute leaf node\n",
        "        leaf_value = self.calculate_leaf_value(Y)\n",
        "        # return leaf node\n",
        "        return Node(value=leaf_value)\n",
        "    \n",
        "    def get_best_split(self, dataset, num_samples, num_features):\n",
        "        ''' function to find the best split '''\n",
        "        \n",
        "        # dictionary to store the best split\n",
        "        best_split = {}\n",
        "        max_info_gain = -float(\"inf\")\n",
        "        \n",
        "        # loop over all the features\n",
        "        for feature_index in range(num_features):\n",
        "            feature_values = dataset[:, feature_index]\n",
        "            possible_thresholds = np.unique(feature_values)\n",
        "            # loop over all the feature values present in the data\n",
        "            for threshold in possible_thresholds:\n",
        "                # get current split\n",
        "                dataset_left, dataset_right = self.split(dataset, feature_index, threshold)\n",
        "                # check if childs are not null\n",
        "                if len(dataset_left)>0 and len(dataset_right)>0:\n",
        "                    y, left_y, right_y = dataset[:, -1], dataset_left[:, -1], dataset_right[:, -1]\n",
        "                    # compute information gain\n",
        "                    curr_info_gain = self.information_gain(y, left_y, right_y, \"gini\")\n",
        "                    # update the best split if needed\n",
        "                    if curr_info_gain>max_info_gain:\n",
        "                        best_split[\"feature_index\"] = feature_index\n",
        "                        best_split[\"threshold\"] = threshold\n",
        "                        best_split[\"dataset_left\"] = dataset_left\n",
        "                        best_split[\"dataset_right\"] = dataset_right\n",
        "                        best_split[\"info_gain\"] = curr_info_gain\n",
        "                        max_info_gain = curr_info_gain\n",
        "                        \n",
        "        # return best split\n",
        "        return best_split\n",
        "    \n",
        "    def split(self, dataset, feature_index, threshold):\n",
        "        ''' function to split the data '''\n",
        "        \n",
        "        dataset_left = np.array([row for row in dataset if row[feature_index]<=threshold])\n",
        "        dataset_right = np.array([row for row in dataset if row[feature_index]>threshold])\n",
        "        return dataset_left, dataset_right\n",
        "    \n",
        "    def information_gain(self, parent, l_child, r_child, mode=\"entropy\"):\n",
        "        ''' function to compute information gain '''\n",
        "        \n",
        "        weight_l = len(l_child) / len(parent)\n",
        "        weight_r = len(r_child) / len(parent)\n",
        "        if mode==\"gini\":\n",
        "            gain = self.gini_index(parent) - (weight_l*self.gini_index(l_child) + weight_r*self.gini_index(r_child))\n",
        "        else:\n",
        "            gain = self.entropy(parent) - (weight_l*self.entropy(l_child) + weight_r*self.entropy(r_child))\n",
        "        return gain\n",
        "    \n",
        "    def entropy(self, y):\n",
        "        ''' function to compute entropy '''\n",
        "        \n",
        "        class_labels = np.unique(y)\n",
        "        entropy = 0\n",
        "        for cls in class_labels:\n",
        "            p_cls = len(y[y == cls]) / len(y)\n",
        "            entropy += -p_cls * np.log2(p_cls)\n",
        "        return entropy\n",
        "    \n",
        "    def gini_index(self, y):\n",
        "        ''' function to compute gini index '''\n",
        "        \n",
        "        class_labels = np.unique(y)\n",
        "        gini = 0\n",
        "        for cls in class_labels:\n",
        "            p_cls = len(y[y == cls]) / len(y)\n",
        "            gini += p_cls**2\n",
        "        return 1 - gini\n",
        "        \n",
        "    def calculate_leaf_value(self, Y):\n",
        "        ''' function to compute leaf node '''\n",
        "        \n",
        "        Y = list(Y)\n",
        "        return max(Y, key=Y.count)\n",
        "    \n",
        "    def print_tree(self, tree=None, indent=\" \"):\n",
        "        ''' function to print the tree '''\n",
        "        \n",
        "        if not tree:\n",
        "            tree = self.root\n",
        "\n",
        "        if tree.value is not None:\n",
        "            print(tree.value)\n",
        "\n",
        "        else:\n",
        "            print(\"X_\"+str(tree.feature_index), \"<=\", tree.threshold, \"?\", tree.info_gain)\n",
        "            print(\"%sleft:\" % (indent), end=\"\")\n",
        "            self.print_tree(tree.left, indent + indent)\n",
        "            print(\"%sright:\" % (indent), end=\"\")\n",
        "            self.print_tree(tree.right, indent + indent)\n",
        "    \n",
        "    def fit(self, X, Y):\n",
        "        ''' function to train the tree '''\n",
        "        \n",
        "        dataset = np.concatenate((X, Y), axis=1)\n",
        "        self.root = self.build_tree(dataset)\n",
        "    \n",
        "    def predict(self, X):\n",
        "        ''' function to predict new dataset '''\n",
        "        \n",
        "        preditions = [self.make_prediction(x, self.root) for x in X]\n",
        "        return preditions\n",
        "    \n",
        "    def make_prediction(self, x, tree):\n",
        "        ''' function to predict a single data point '''\n",
        "        \n",
        "        if tree.value!=None: return tree.value\n",
        "        feature_val = x[tree.feature_index]\n",
        "        if feature_val<=tree.threshold:\n",
        "            return self.make_prediction(x, tree.left)\n",
        "        else:\n",
        "            return self.make_prediction(x, tree.right)"
      ]
    },
    {
      "cell_type": "markdown",
      "metadata": {
        "id": "PYE5r-OFREdj"
      },
      "source": [
        "**Fitting the model**"
      ]
    },
    {
      "cell_type": "code",
      "execution_count": null,
      "metadata": {
        "colab": {
          "base_uri": "https://localhost:8080/"
        },
        "id": "K9xtAi8ABqLt",
        "outputId": "631764a9-132a-454a-e5b7-45155381af65"
      },
      "outputs": [
        {
          "name": "stdout",
          "output_type": "stream",
          "text": [
            "X_10 <= 1 ? 0.003577019175359075\n",
            " left:X_121 <= 0 ? 0.001236084748642563\n",
            "  left:X_10 <= 0 ? 0.0007269071526675441\n",
            "    left:X_2 <= 1 ? 0.0006999861339688773\n",
            "        left:0\n",
            "        right:0\n",
            "    right:X_129 <= 0 ? 0.0006380481508014291\n",
            "        left:0\n",
            "        right:0\n",
            "  right:X_11 <= 8 ? 0.00589766324970753\n",
            "    left:X_45 <= 0 ? 0.025413593405591683\n",
            "        left:0\n",
            "        right:0\n",
            "    right:X_158 <= 0 ? 0.004513729709531233\n",
            "        left:0\n",
            "        right:0\n",
            " right:X_10 <= 4 ? 0.00744734547013659\n",
            "  left:X_110 <= 0 ? 0.001943383415569766\n",
            "    left:X_121 <= 0 ? 0.0007629646388878086\n",
            "        left:0\n",
            "        right:0\n",
            "    right:0\n",
            "  right:X_10 <= 7 ? 0.005967113022811832\n",
            "    left:X_0 <= 70 ? 0.004224068808363901\n",
            "        left:0\n",
            "        right:0\n",
            "    right:X_2 <= 9 ? 0.010650205009564595\n",
            "        left:0\n",
            "        right:0\n"
          ]
        }
      ],
      "source": [
        "classifier = DecisionTreeClassifier(min_samples_split=3, max_depth=3)\n",
        "classifier.fit(X_train,Y_train)\n",
        "classifier.print_tree()"
      ]
    },
    {
      "cell_type": "markdown",
      "metadata": {
        "id": "AgPG_Z6JRKRH"
      },
      "source": [
        "**Predictions on training or test data**"
      ]
    },
    {
      "cell_type": "code",
      "execution_count": null,
      "metadata": {
        "id": "CWwoxk_HL03G"
      },
      "outputs": [],
      "source": [
        "Y_pred_deci_tr = classifier.predict(X_train) "
      ]
    },
    {
      "cell_type": "code",
      "execution_count": null,
      "metadata": {
        "id": "0RmBDoVZL-ZO"
      },
      "outputs": [],
      "source": [
        "Y_pred_deci_te = classifier.predict(X_test) "
      ]
    },
    {
      "cell_type": "markdown",
      "metadata": {
        "id": "w5ArwirORQGc"
      },
      "source": [
        "**Performance metrics**"
      ]
    },
    {
      "cell_type": "markdown",
      "metadata": {
        "id": "qZWD-smgRTOA"
      },
      "source": [
        "**Accuracy & Classification Report**"
      ]
    },
    {
      "cell_type": "code",
      "execution_count": null,
      "metadata": {
        "colab": {
          "base_uri": "https://localhost:8080/"
        },
        "id": "BbHotLTjMAwv",
        "outputId": "a3620a8d-b594-4cec-dbaf-a0229dfb7d92"
      },
      "outputs": [
        {
          "name": "stdout",
          "output_type": "stream",
          "text": [
            "accuracy_score: 88.77 %\n"
          ]
        }
      ],
      "source": [
        "print(\"accuracy_score:\",round(accuracy_score(Y_train,Y_pred_deci_tr)*100,2),'%')"
      ]
    },
    {
      "cell_type": "code",
      "execution_count": null,
      "metadata": {
        "colab": {
          "base_uri": "https://localhost:8080/"
        },
        "id": "3i7b9c-bMFdf",
        "outputId": "862db90c-e136-469f-c2ee-fc090d58135b"
      },
      "outputs": [
        {
          "name": "stdout",
          "output_type": "stream",
          "text": [
            "accuracy_score: 88.79 %\n"
          ]
        }
      ],
      "source": [
        "print(\"accuracy_score:\",round(accuracy_score(Y_test,Y_pred_deci_te)*100,2),'%')"
      ]
    },
    {
      "cell_type": "code",
      "execution_count": null,
      "metadata": {
        "colab": {
          "base_uri": "https://localhost:8080/"
        },
        "id": "FUI6uxsiMLB3",
        "outputId": "8b6c6531-4323-453d-be01-21349673df95"
      },
      "outputs": [
        {
          "name": "stdout",
          "output_type": "stream",
          "text": [
            "Classification Report of decision model train data = \n",
            "               precision    recall  f1-score   support\n",
            "\n",
            "           0       0.89      1.00      0.94     71190\n",
            "           1       0.00      0.00      0.00      9002\n",
            "\n",
            "    accuracy                           0.89     80192\n",
            "   macro avg       0.44      0.50      0.47     80192\n",
            "weighted avg       0.79      0.89      0.83     80192\n",
            "\n",
            "Classification Report of decision model test data = \n",
            "               precision    recall  f1-score   support\n",
            "\n",
            "           0       0.89      1.00      0.94     17801\n",
            "           1       0.00      0.00      0.00      2248\n",
            "\n",
            "    accuracy                           0.89     20049\n",
            "   macro avg       0.44      0.50      0.47     20049\n",
            "weighted avg       0.79      0.89      0.84     20049\n",
            "\n"
          ]
        }
      ],
      "source": [
        "print(f\"Classification Report of decision model train data = \\n\", classification_report(Y_train, Y_pred_deci_tr))\n",
        "print(f\"Classification Report of decision model test data = \\n\", classification_report(Y_test, Y_pred_deci_te))"
      ]
    },
    {
      "cell_type": "markdown",
      "metadata": {
        "id": "kkmHIxM5RYtj"
      },
      "source": [
        "**Confusion matrix**"
      ]
    },
    {
      "cell_type": "code",
      "execution_count": null,
      "metadata": {
        "colab": {
          "base_uri": "https://localhost:8080/",
          "height": 603
        },
        "id": "O_AgOhTSMank",
        "outputId": "e9a37aa2-1d0a-4a3e-bad8-ad13d3544c25"
      },
      "outputs": [
        {
          "data": {
            "text/plain": [
              "<matplotlib.axes._subplots.AxesSubplot at 0x7f7bfcd06410>"
            ]
          },
          "execution_count": 93,
          "metadata": {},
          "output_type": "execute_result"
        },
        {
          "data": {
            "image/png": "[encoded data removed]",
            "text/plain": [
              "<Figure size 432x288 with 2 Axes>"
            ]
          },
          "metadata": {},
          "output_type": "display_data"
        },
        {
          "data": {
            "image/png": "[encoded data removed]",
            "text/plain": [
              "<Figure size 432x288 with 2 Axes>"
            ]
          },
          "metadata": {},
          "output_type": "display_data"
        }
      ],
      "source": [
        "skplt.metrics.plot_confusion_matrix(Y_train,Y_pred_deci_tr, title=\"Confusion Matrix of decision train data\",text_fontsize='large')\n",
        "skplt.metrics.plot_confusion_matrix(Y_test,Y_pred_deci_te, title=\"Confusion Matrix of decision test data\",text_fontsize='large')"
      ]
    },
    {
      "cell_type": "markdown",
      "metadata": {
        "id": "S4AtPfFDRd44"
      },
      "source": [
        "**Feature Importance**"
      ]
    },
    {
      "cell_type": "code",
      "execution_count": null,
      "metadata": {
        "id": "Ue2eXNMLSWSA"
      },
      "outputs": [],
      "source": [
        "feature_importances = pd.DataFrame(classifier.feature_importances_,\n",
        "                                   index = col2use,\n",
        "                                    columns=['importance']).sort_values('importance',\n",
        "                                                                        ascending=False)"
      ]
    },
    {
      "cell_type": "code",
      "execution_count": null,
      "metadata": {
        "colab": {
          "base_uri": "https://localhost:8080/",
          "height": 206
        },
        "id": "Qc-GVoehSWVi",
        "outputId": "3e2d02b8-a98e-4b54-f9dd-456bfbebcc1c"
      },
      "outputs": [
        {
          "data": {
            "text/html": [
              "\n",
              "  <div id=\"df-fe10a999-072f-40bd-926a-580043634a56\">\n",
              "    <div class=\"colab-df-container\">\n",
              "      <div>\n",
              "<style scoped>\n",
              "    .dataframe tbody tr th:only-of-type {\n",
              "        vertical-align: middle;\n",
              "    }\n",
              "\n",
              "    .dataframe tbody tr th {\n",
              "        vertical-align: top;\n",
              "    }\n",
              "\n",
              "    .dataframe thead th {\n",
              "        text-align: right;\n",
              "    }\n",
              "</style>\n",
              "<table border=\"1\" class=\"dataframe\">\n",
              "  <thead>\n",
              "    <tr style=\"text-align: right;\">\n",
              "      <th></th>\n",
              "      <th>importance</th>\n",
              "    </tr>\n",
              "  </thead>\n",
              "  <tbody>\n",
              "    <tr>\n",
              "      <th>number_inpatient</th>\n",
              "      <td>0.300525</td>\n",
              "    </tr>\n",
              "    <tr>\n",
              "      <th>num_lab_procedures</th>\n",
              "      <td>0.073411</td>\n",
              "    </tr>\n",
              "    <tr>\n",
              "      <th>num_medications</th>\n",
              "      <td>0.068013</td>\n",
              "    </tr>\n",
              "    <tr>\n",
              "      <th>discharge_disposition_id_22</th>\n",
              "      <td>0.055954</td>\n",
              "    </tr>\n",
              "    <tr>\n",
              "      <th>time_in_hospital</th>\n",
              "      <td>0.044933</td>\n",
              "    </tr>\n",
              "  </tbody>\n",
              "</table>\n",
              "</div>\n",
              "      <button class=\"colab-df-convert\" onclick=\"convertToInteractive('df-fe10a999-072f-40bd-926a-580043634a56')\"\n",
              "              title=\"Convert this dataframe to an interactive table.\"\n",
              "              style=\"display:none;\">\n",
              "        \n",
              "  <svg xmlns=\"http://www.w3.org/2000/svg\" height=\"24px\"viewBox=\"0 0 24 24\"\n",
              "       width=\"24px\">\n",
              "    <path d=\"M0 0h24v24H0V0z\" fill=\"none\"/>\n",
              "    <path d=\"M18.56 5.44l.94 2.06.94-2.06 2.06-.94-2.06-.94-.94-2.06-.94 2.06-2.06.94zm-11 1L8.5 8.5l.94-2.06 2.06-.94-2.06-.94L8.5 2.5l-.94 2.06-2.06.94zm10 10l.94 2.06.94-2.06 2.06-.94-2.06-.94-.94-2.06-.94 2.06-2.06.94z\"/><path d=\"M17.41 7.96l-1.37-1.37c-.4-.4-.92-.59-1.43-.59-.52 0-1.04.2-1.43.59L10.3 9.45l-7.72 7.72c-.78.78-.78 2.05 0 2.83L4 21.41c.39.39.9.59 1.41.59.51 0 1.02-.2 1.41-.59l7.78-7.78 2.81-2.81c.8-.78.8-2.07 0-2.86zM5.41 20L4 18.59l7.72-7.72 1.47 1.35L5.41 20z\"/>\n",
              "  </svg>\n",
              "      </button>\n",
              "      \n",
              "  <style>\n",
              "    .colab-df-container {\n",
              "      display:flex;\n",
              "      flex-wrap:wrap;\n",
              "      gap: 12px;\n",
              "    }\n",
              "\n",
              "    .colab-df-convert {\n",
              "      background-color: #E8F0FE;\n",
              "      border: none;\n",
              "      border-radius: 50%;\n",
              "      cursor: pointer;\n",
              "      display: none;\n",
              "      fill: #1967D2;\n",
              "      height: 32px;\n",
              "      padding: 0 0 0 0;\n",
              "      width: 32px;\n",
              "    }\n",
              "\n",
              "    .colab-df-convert:hover {\n",
              "      background-color: #E2EBFA;\n",
              "      box-shadow: 0px 1px 2px rgba(60, 64, 67, 0.3), 0px 1px 3px 1px rgba(60, 64, 67, 0.15);\n",
              "      fill: #174EA6;\n",
              "    }\n",
              "\n",
              "    [theme=dark] .colab-df-convert {\n",
              "      background-color: #3B4455;\n",
              "      fill: #D2E3FC;\n",
              "    }\n",
              "\n",
              "    [theme=dark] .colab-df-convert:hover {\n",
              "      background-color: #434B5C;\n",
              "      box-shadow: 0px 1px 3px 1px rgba(0, 0, 0, 0.15);\n",
              "      filter: drop-shadow(0px 1px 2px rgba(0, 0, 0, 0.3));\n",
              "      fill: #FFFFFF;\n",
              "    }\n",
              "  </style>\n",
              "\n",
              "      <script>\n",
              "        const buttonEl =\n",
              "          document.querySelector('#df-fe10a999-072f-40bd-926a-580043634a56 button.colab-df-convert');\n",
              "        buttonEl.style.display =\n",
              "          google.colab.kernel.accessAllowed ? 'block' : 'none';\n",
              "\n",
              "        async function convertToInteractive(key) {\n",
              "          const element = document.querySelector('#df-fe10a999-072f-40bd-926a-580043634a56');\n",
              "          const dataTable =\n",
              "            await google.colab.kernel.invokeFunction('convertToInteractive',\n",
              "                                                     [key], {});\n",
              "          if (!dataTable) return;\n",
              "\n",
              "          const docLinkHtml = 'Like what you see? Visit the ' +\n",
              "            '<a target=\"_blank\" href=https://colab.research.google.com/notebooks/data_table.ipynb>data table notebook</a>'\n",
              "            + ' to learn more about interactive tables.';\n",
              "          element.innerHTML = '';\n",
              "          dataTable['output_type'] = 'display_data';\n",
              "          await google.colab.output.renderOutput(dataTable, element);\n",
              "          const docLink = document.createElement('div');\n",
              "          docLink.innerHTML = docLinkHtml;\n",
              "          element.appendChild(docLink);\n",
              "        }\n",
              "      </script>\n",
              "    </div>\n",
              "  </div>\n",
              "  "
            ],
            "text/plain": [
              "                             importance\n",
              "number_inpatient               0.300525\n",
              "num_lab_procedures             0.073411\n",
              "num_medications                0.068013\n",
              "discharge_disposition_id_22    0.055954\n",
              "time_in_hospital               0.044933"
            ]
          },
          "execution_count": 54,
          "metadata": {},
          "output_type": "execute_result"
        }
      ],
      "source": [
        "feature_importances.head()"
      ]
    },
    {
      "cell_type": "code",
      "execution_count": null,
      "metadata": {
        "colab": {
          "base_uri": "https://localhost:8080/",
          "height": 685
        },
        "id": "w0OroddsVIpd",
        "outputId": "8560b6ce-7e93-4184-ee84-0296fd41a46f"
      },
      "outputs": [
        {
          "data": {
            "image/png": "[encoded data removed]",
            "text/plain": [
              "<Figure size 640x800 with 1 Axes>"
            ]
          },
          "metadata": {},
          "output_type": "display_data"
        }
      ],
      "source": [
        "num = 10\n",
        "ylocs = np.arange(num)\n",
        "# get the feature importance for top num and sort in reverse order\n",
        "values_to_plot = feature_importances.iloc[:num].values.ravel()[::-1]\n",
        "feature_labels = list(feature_importances.iloc[:num].index)[::-1]\n",
        "\n",
        "plt.figure(num=None, figsize=(8, 10), dpi=80, facecolor='w', edgecolor='k');\n",
        "plt.barh(ylocs, values_to_plot, align = 'center')\n",
        "plt.ylabel('Features')\n",
        "plt.xlabel('Importance Score')\n",
        "plt.title('Feature Importance Score - Decision tree')\n",
        "plt.yticks(ylocs, feature_labels)\n",
        "plt.show()"
      ]
    },
    {
      "cell_type": "markdown",
      "metadata": {
        "id": "D43IpzceVj_G"
      },
      "source": [
        "##Random forest"
      ]
    },
    {
      "cell_type": "code",
      "execution_count": null,
      "metadata": {
        "id": "SBwAcdopgKA_"
      },
      "outputs": [],
      "source": [
        "from pprint import pprint\n",
        "import pandas as pd\n",
        "import numpy as np\n",
        "import random"
      ]
    },
    {
      "cell_type": "code",
      "execution_count": null,
      "metadata": {
        "id": "SeIQLRKicxZm"
      },
      "outputs": [],
      "source": [
        "class DecisionTree(object):\n",
        "\n",
        "    def __init__(self, max_depth = 3, min_samples = 2, impurity = 'entropy'):\n",
        "        self.max_depth = max_depth\n",
        "        self.min_samples = min_samples\n",
        "        assert impurity in ['entropy','gini'],\"Invalid impurity method, choose 'entropy' or 'gini'\"\n",
        "        self._impurity = impurity\n",
        "    \n",
        "    def _check_purity(self, data):\n",
        "        \"\"\" helper \"\"\"\n",
        "        label_column = data[:, -1]\n",
        "        qty_unique_classes = len(np.unique(label_column))\n",
        "    \n",
        "        return not (qty_unique_classes - 1)\n",
        "    \n",
        "    def _classify_data(self, data):\n",
        "        \"\"\" helper \"\"\"\n",
        "        label_column = data[:, -1]\n",
        "        unique_classes, counts_unique_classes = np.unique(label_column, return_counts=True)\n",
        "        prevalent_class_index = counts_unique_classes.argmax()\n",
        "        classification = unique_classes[prevalent_class_index]\n",
        "\n",
        "        return unique_classes, counts_unique_classes\n",
        "    \n",
        "    def _get_potential_splits(self, data):\n",
        "        \"\"\" helper \"\"\"\n",
        "        potential_splits = {}\n",
        "        n_columns = data.shape[1]\n",
        "        \n",
        "        rolling_mean = lambda a: ((a[1:] + a[:-1])/2).tolist()\n",
        "\n",
        "        for column_index in range(n_columns - 1):        # excluding the last column which is the label\n",
        "            values = data[:, column_index]\n",
        "            unique_values = np.unique(values)\n",
        "\n",
        "            potential_splits[column_index] = rolling_mean(unique_values)\n",
        "\n",
        "        return potential_splits\n",
        "    \n",
        "    def _split_data(self, data, split_column, split_value):\n",
        "        \"\"\" helper \"\"\"\n",
        "        split_column_values = data[:, split_column]\n",
        "        \n",
        "        data_below = data[split_column_values <= split_value]\n",
        "        data_above = data[split_column_values >  split_value]\n",
        "\n",
        "        return data_below, data_above\n",
        "    \n",
        "    def _calculate_impurity(self, data):\n",
        "        \"\"\" helper \"\"\"\n",
        "        label_column = data[:, -1]\n",
        "        counts = np.unique(label_column, return_counts=True)[1] # note que np.unique so retorna labels encontrados...\n",
        "\n",
        "        probabilities = counts / counts.sum()\n",
        "        if self._impurity == 'gini':\n",
        "            impurity = - probabilities @ np.log2(probabilities) # ... assim não vai existir 0 * inf, o que no lim daria 0 mesmo\n",
        "        else: # entropy otherwise\n",
        "            impurity = probabilities @ (1-probabilities)\n",
        "            \n",
        "        return impurity\n",
        "    \n",
        "    \n",
        "    def _calculate_overall_impurity(self, data_below, data_above):\n",
        "        \"\"\" helper \"\"\"\n",
        "        lens_ba = np.array([len(data_below), len(data_above)])\n",
        "        probs_ba = lens_ba / lens_ba.sum()\n",
        "\n",
        "        entropy_ba = np.array([self._calculate_impurity(data_below), \n",
        "                               self._calculate_impurity(data_above)])\n",
        "\n",
        "        overall_entropy =  probs_ba @ entropy_ba\n",
        "        \n",
        "        return overall_entropy\n",
        "    \n",
        "    def _determine_best_split(self, data, potential_splits):\n",
        "        \"\"\" helper \"\"\"\n",
        "        overall_entropy = 9999\n",
        "        for column_index in potential_splits:\n",
        "            for value in potential_splits[column_index]:\n",
        "                data_below, data_above = self._split_data(data, \n",
        "                                                          split_column=column_index, \n",
        "                                                          split_value=value)\n",
        "                current_overall_entropy = self._calculate_overall_impurity(data_below, \n",
        "                                                                          data_above)\n",
        "                if current_overall_entropy <= overall_entropy:\n",
        "                    overall_entropy = current_overall_entropy\n",
        "                    best_split_column = column_index\n",
        "                    best_split_value = value\n",
        "\n",
        "        return best_split_column, best_split_value\n",
        "    \n",
        "    def _stop_split(self, data, counter):\n",
        "        \"\"\"\n",
        "        helper. O nó deve parar de ser dividido?\n",
        "        incluir todas as condições para parar de dividir o nó\n",
        "        returns\n",
        "        -------\n",
        "        stop_split:\n",
        "            True: if terminal node, then one of the stop conditions is accomplished.\n",
        "            False: if it is an intermediate node, then it can continue splitting\n",
        "        \"\"\"\n",
        "        stop_split = self._check_purity(data) or (len(data) < self.min_samples) or \\\n",
        "                    (counter == self.max_depth)\n",
        "        return stop_split\n",
        "    \n",
        "    def fit(self, df):\n",
        "        \"\"\"\n",
        "        External function\n",
        "        \"\"\"\n",
        "        self.tree_ = self._decision_tree_algorithm(df)\n",
        "    \n",
        "    def _decision_tree_algorithm(self, df, counter = 0):\n",
        "        \"\"\"\n",
        "        Building a decision tree recursively.\n",
        "        \"\"\"\n",
        "    \n",
        "        if counter == 0:\n",
        "            self.column_headers = df.columns\n",
        "            data = df.values\n",
        "        else:\n",
        "            data = df           \n",
        "\n",
        "        # base cases\n",
        "        basecase_reached = self._stop_split(data, counter)\n",
        "        if basecase_reached:\n",
        "            classification, counts_unique_classes = self._classify_data(data)\n",
        "            return classification, counts_unique_classes\n",
        "\n",
        "        # recursive part\n",
        "        else:    \n",
        "            counter += 1\n",
        "\n",
        "            # helper functions \n",
        "            potential_splits = self._get_potential_splits(data)\n",
        "            split_column, split_value = self._determine_best_split(data, potential_splits)\n",
        "            data_below, data_above = self._split_data(data, split_column, split_value)\n",
        "\n",
        "            # instantiate sub-tree\n",
        "            feature_name = self.column_headers[split_column]\n",
        "            question = \"{} <= {}\".format(feature_name, split_value)\n",
        "            sub_tree = {question: []}\n",
        "\n",
        "            # find answers (recursion)\n",
        "            yes_answer = self._decision_tree_algorithm(data_below, counter)\n",
        "            no_answer  = self._decision_tree_algorithm(data_above, counter)\n",
        "\n",
        "            # If the answers are the same, then there is no point in asking the question.\n",
        "            # This could happen when the data is classified even though it is not pure\n",
        "            # yet (min_samples or max_depth base case).\n",
        "            if np.array_equal(yes_answer, no_answer):\n",
        "                sub_tree = yes_answer\n",
        "            else:\n",
        "                sub_tree[question].append(yes_answer)\n",
        "                sub_tree[question].append(no_answer)\n",
        "\n",
        "            return sub_tree\n",
        "    \n",
        "    def predict(self, df):\n",
        "        \"\"\"\n",
        "        External prediction\n",
        "        \"\"\"\n",
        "        prediction = df.apply(self._classify_example, axis = 1)\n",
        "        prediction = prediction.apply(pd.Series)\n",
        "        prediction.columns = ['pred', 'proba']\n",
        "        \n",
        "        return prediction\n",
        "    \n",
        "    def _calc_probs(self, a):\n",
        "        \"\"\" helper, returns L1-normalized vec\"\"\"\n",
        "        norm = a[1].sum()\n",
        "        res = {k: v/norm for k, v in zip(a[0], a[1])}\n",
        "        return res\n",
        "\n",
        "    def _get_most_prevalent_class(self, a):\n",
        "        \"\"\" helper, returns the prevalent class\"\"\"\n",
        "        most_prevalent_idx = a[1].argmax()\n",
        "        most_prevalent_class = a[0][most_prevalent_idx]\n",
        "        return most_prevalent_class\n",
        "    \n",
        "    def _classify_example(self, example, tree = None):\n",
        "        \"\"\" classification and probabilities\n",
        "        \"\"\"\n",
        "        \n",
        "        if not tree:  # prim. chamada, usar arvore inteira\n",
        "            tree = self.tree_\n",
        "        \n",
        "        question = list(tree.keys())[0]\n",
        "        feature_name, comparison_operator, value = question.split(\" \")\n",
        "\n",
        "        # ask question\n",
        "        if example[feature_name] <= float(value):\n",
        "            answer = tree[question][0]\n",
        "        else:\n",
        "            answer = tree[question][1]\n",
        "\n",
        "        # base case\n",
        "        if not isinstance(answer, dict):\n",
        "            probs = self._calc_probs(answer)\n",
        "            the_class = self._get_most_prevalent_class(answer)\n",
        "            return the_class, probs\n",
        "\n",
        "        # recursive part\n",
        "        else:\n",
        "            residual_tree = answer\n",
        "            return self._classify_example(example, residual_tree)\n",
        "    \n"
      ]
    },
    {
      "cell_type": "code",
      "execution_count": null,
      "metadata": {
        "id": "kA0Mdi7WgB8D"
      },
      "outputs": [],
      "source": [
        "class RandomForestClassifier(object):\n",
        "    \n",
        "    def __init__(self, n_estimators=10, bootstrap_value=1.0, **tree_params):\n",
        "        ''' Constructor. \n",
        "                n_estimators: number of bagged trees\n",
        "                boostrap_value: sample size, either in percentages or number of samples\n",
        "                tree_params: decision tree hyperparams\n",
        "        '''\n",
        "        self._tree_params = tree_params\n",
        "        self._n_estimators = n_estimators\n",
        "        self._estimators = [DecisionTree(**tree_params) for _ in range(n_estimators)]\n",
        "        self._bootstrap_value = bootstrap_value\n",
        "        \n",
        "    def _bootstrap(self, df):\n",
        "        ''' helper: Sampling without replacement '''            \n",
        "        dados = df.values\n",
        "        samples = []\n",
        "        sample_size = self._bootstrap_value if self._bootstrap_value > 1 else int(self._bootstrap_value*len(dados))\n",
        "        for i in range(self._n_estimators):  # One sample per estimator\n",
        "            s = random.choices(dados, k = sample_size)\n",
        "            s = pd.DataFrame(s, columns=df.columns.values)\n",
        "            samples.append(s)\n",
        "                    \n",
        "        return samples\n",
        "    \n",
        "    def fit(self, df):\n",
        "        ''' Train bagged trees '''\n",
        "        samples = self._bootstrap(df)\n",
        "        for i, tree in enumerate(self._estimators):\n",
        "            tree.fit(samples[i])\n",
        "            \n",
        "    def _format_prediction(self, predictions):\n",
        "        ''' helper: Formats the predictions in a easy-to-read format '''\n",
        "        prediction = sum(predictions)/self._n_estimators # Average of predictions\n",
        "        prediction['pred'] = prediction.idxmax(axis=1)\n",
        "        cols = prediction.columns.tolist()\n",
        "        cols = cols[-1:] + cols[:-1]\n",
        "        return prediction[cols]\n",
        "    \n",
        "    def predict(self, df):\n",
        "        ''' Make predictions and return the probabilities along the class with highest probability '''\n",
        "        predictions = []\n",
        "        for tree in self._estimators:\n",
        "            pred = tree.predict(df)\n",
        "            pred = pred['proba'].apply(pd.Series).fillna(0)\n",
        "            predictions.append(pred)\n",
        "        \n",
        "        return self._format_prediction(predictions)"
      ]
    },
    {
      "cell_type": "markdown",
      "metadata": {
        "id": "-CYoM8TOk7ou"
      },
      "source": [
        "**Fitting the RF model**"
      ]
    },
    {
      "cell_type": "code",
      "execution_count": null,
      "metadata": {
        "id": "MkniTpPJpWkN"
      },
      "outputs": [],
      "source": [
        "from sklearn.ensemble import RandomForestClassifier"
      ]
    },
    {
      "cell_type": "code",
      "execution_count": null,
      "metadata": {
        "colab": {
          "base_uri": "https://localhost:8080/"
        },
        "id": "esXN5bkagcE7",
        "outputId": "e6a709fe-27d0-4b99-da90-087aad29ac3d"
      },
      "outputs": [
        {
          "data": {
            "text/plain": [
              "RandomForestClassifier(max_depth=9, n_estimators=450, random_state=43)"
            ]
          },
          "execution_count": 44,
          "metadata": {},
          "output_type": "execute_result"
        }
      ],
      "source": [
        "rf = RandomForestClassifier(n_estimators = 450, max_depth=9, random_state=43)\n",
        "rf.fit(X_train, Y_train)"
      ]
    },
    {
      "cell_type": "markdown",
      "metadata": {
        "id": "DFARODnllgVD"
      },
      "source": [
        "**Predictions on training and testing data**"
      ]
    },
    {
      "cell_type": "code",
      "execution_count": null,
      "metadata": {
        "id": "R-56YaUwNuY4"
      },
      "outputs": [],
      "source": [
        "Y_pred_rf_tr= rf.predict(X_train) "
      ]
    },
    {
      "cell_type": "code",
      "execution_count": null,
      "metadata": {
        "id": "vOVG8ZyoNurC"
      },
      "outputs": [],
      "source": [
        "Y_pred_rf_te= rf.predict(X_test) "
      ]
    },
    {
      "cell_type": "markdown",
      "metadata": {
        "id": "8FMt-q3UotoM"
      },
      "source": [
        "**Performance metrics of random forest data**"
      ]
    },
    {
      "cell_type": "markdown",
      "metadata": {
        "id": "PI-6GdSCozb0"
      },
      "source": [
        "**Classification report**"
      ]
    },
    {
      "cell_type": "code",
      "execution_count": null,
      "metadata": {
        "id": "FrlnYytRtU-j"
      },
      "outputs": [],
      "source": [
        "from sklearn.metrics import accuracy_score,classification_report"
      ]
    },
    {
      "cell_type": "code",
      "execution_count": null,
      "metadata": {
        "colab": {
          "base_uri": "https://localhost:8080/"
        },
        "id": "3lW6k2YEanBO",
        "outputId": "1e0d1ec2-c928-4a53-9dd4-6f28bf1cff52"
      },
      "outputs": [
        {
          "name": "stdout",
          "output_type": "stream",
          "text": [
            "Classification Report of rf model train data = \n",
            "               precision    recall  f1-score   support\n",
            "\n",
            "           0       0.89      1.00      0.94     70422\n",
            "           1       0.00      0.00      0.00      9052\n",
            "\n",
            "    accuracy                           0.89     79474\n",
            "   macro avg       0.44      0.50      0.47     79474\n",
            "weighted avg       0.79      0.89      0.83     79474\n",
            "\n",
            "Classification Report of rf model test data = \n",
            "               precision    recall  f1-score   support\n",
            "\n",
            "           0       0.89      1.00      0.94     17607\n",
            "           1       0.00      0.00      0.00      2262\n",
            "\n",
            "    accuracy                           0.89     19869\n",
            "   macro avg       0.44      0.50      0.47     19869\n",
            "weighted avg       0.79      0.89      0.83     19869\n",
            "\n"
          ]
        }
      ],
      "source": [
        "print(f\"Classification Report of rf model train data = \\n\", classification_report(Y_train, Y_pred_rf_tr))\n",
        "print(f\"Classification Report of rf model test data = \\n\", classification_report(Y_test, Y_pred_rf_te))"
      ]
    },
    {
      "cell_type": "markdown",
      "metadata": {
        "id": "uWkaTRXjvNnb"
      },
      "source": [
        "**Confusion matrix**"
      ]
    },
    {
      "cell_type": "code",
      "execution_count": null,
      "metadata": {
        "id": "9HZMJvb2BwqQ"
      },
      "outputs": [],
      "source": []
    },
    {
      "cell_type": "code",
      "execution_count": null,
      "metadata": {
        "colab": {
          "base_uri": "https://localhost:8080/",
          "height": 585
        },
        "id": "NH1hJDYhvp4q",
        "outputId": "5eb8e955-563a-48ad-cdf8-95c0c36116cb"
      },
      "outputs": [
        {
          "data": {
            "image/png": "[encoded data removed]",
            "text/plain": [
              "<Figure size 432x288 with 2 Axes>"
            ]
          },
          "metadata": {},
          "output_type": "display_data"
        },
        {
          "data": {
            "image/png": "[encoded data removed]",
            "text/plain": [
              "<Figure size 432x288 with 2 Axes>"
            ]
          },
          "metadata": {},
          "output_type": "display_data"
        }
      ],
      "source": [
        "skplt.metrics.plot_confusion_matrix(Y_train, Y_pred_rf_tr, title=\"Confusion Matrix rf train data\",text_fontsize='large')\n",
        "skplt.metrics.plot_confusion_matrix(Y_test, Y_pred_rf_te, title=\"Confusion Matrix rf test data\",text_fontsize='large')\n",
        "plt.show()"
      ]
    },
    {
      "cell_type": "markdown",
      "metadata": {
        "id": "zJWm5JsBCCNN"
      },
      "source": [
        "**Feature Importance in Random forest model**"
      ]
    },
    {
      "cell_type": "code",
      "execution_count": null,
      "metadata": {
        "id": "cklPb8ojCIkV"
      },
      "outputs": [],
      "source": [
        "feature_importances = pd.DataFrame(rf.feature_importances_,\n",
        "                                   index = col2use,\n",
        "                                    columns=['importance']).sort_values('importance',\n",
        "                                                                        ascending=False)"
      ]
    },
    {
      "cell_type": "code",
      "execution_count": null,
      "metadata": {
        "colab": {
          "base_uri": "https://localhost:8080/",
          "height": 363
        },
        "id": "KH25b_1OCROY",
        "outputId": "35c8a81b-948a-477c-d764-c44da6206d56"
      },
      "outputs": [
        {
          "data": {
            "text/html": [
              "\n",
              "  <div id=\"df-0cdc9845-85ea-4066-9bc1-778a51344b1f\">\n",
              "    <div class=\"colab-df-container\">\n",
              "      <div>\n",
              "<style scoped>\n",
              "    .dataframe tbody tr th:only-of-type {\n",
              "        vertical-align: middle;\n",
              "    }\n",
              "\n",
              "    .dataframe tbody tr th {\n",
              "        vertical-align: top;\n",
              "    }\n",
              "\n",
              "    .dataframe thead th {\n",
              "        text-align: right;\n",
              "    }\n",
              "</style>\n",
              "<table border=\"1\" class=\"dataframe\">\n",
              "  <thead>\n",
              "    <tr style=\"text-align: right;\">\n",
              "      <th></th>\n",
              "      <th>importance</th>\n",
              "    </tr>\n",
              "  </thead>\n",
              "  <tbody>\n",
              "    <tr>\n",
              "      <th>number_inpatient</th>\n",
              "      <td>0.250386</td>\n",
              "    </tr>\n",
              "    <tr>\n",
              "      <th>discharge_disposition_id_22</th>\n",
              "      <td>0.068877</td>\n",
              "    </tr>\n",
              "    <tr>\n",
              "      <th>number_emergency</th>\n",
              "      <td>0.058644</td>\n",
              "    </tr>\n",
              "    <tr>\n",
              "      <th>num_medications</th>\n",
              "      <td>0.049916</td>\n",
              "    </tr>\n",
              "    <tr>\n",
              "      <th>time_in_hospital</th>\n",
              "      <td>0.044914</td>\n",
              "    </tr>\n",
              "    <tr>\n",
              "      <th>num_lab_procedures</th>\n",
              "      <td>0.041937</td>\n",
              "    </tr>\n",
              "    <tr>\n",
              "      <th>number_diagnoses</th>\n",
              "      <td>0.037716</td>\n",
              "    </tr>\n",
              "    <tr>\n",
              "      <th>age_group</th>\n",
              "      <td>0.029282</td>\n",
              "    </tr>\n",
              "    <tr>\n",
              "      <th>number_outpatient</th>\n",
              "      <td>0.021612</td>\n",
              "    </tr>\n",
              "    <tr>\n",
              "      <th>num_procedures</th>\n",
              "      <td>0.020066</td>\n",
              "    </tr>\n",
              "  </tbody>\n",
              "</table>\n",
              "</div>\n",
              "      <button class=\"colab-df-convert\" onclick=\"convertToInteractive('df-0cdc9845-85ea-4066-9bc1-778a51344b1f')\"\n",
              "              title=\"Convert this dataframe to an interactive table.\"\n",
              "              style=\"display:none;\">\n",
              "        \n",
              "  <svg xmlns=\"http://www.w3.org/2000/svg\" height=\"24px\"viewBox=\"0 0 24 24\"\n",
              "       width=\"24px\">\n",
              "    <path d=\"M0 0h24v24H0V0z\" fill=\"none\"/>\n",
              "    <path d=\"M18.56 5.44l.94 2.06.94-2.06 2.06-.94-2.06-.94-.94-2.06-.94 2.06-2.06.94zm-11 1L8.5 8.5l.94-2.06 2.06-.94-2.06-.94L8.5 2.5l-.94 2.06-2.06.94zm10 10l.94 2.06.94-2.06 2.06-.94-2.06-.94-.94-2.06-.94 2.06-2.06.94z\"/><path d=\"M17.41 7.96l-1.37-1.37c-.4-.4-.92-.59-1.43-.59-.52 0-1.04.2-1.43.59L10.3 9.45l-7.72 7.72c-.78.78-.78 2.05 0 2.83L4 21.41c.39.39.9.59 1.41.59.51 0 1.02-.2 1.41-.59l7.78-7.78 2.81-2.81c.8-.78.8-2.07 0-2.86zM5.41 20L4 18.59l7.72-7.72 1.47 1.35L5.41 20z\"/>\n",
              "  </svg>\n",
              "      </button>\n",
              "      \n",
              "  <style>\n",
              "    .colab-df-container {\n",
              "      display:flex;\n",
              "      flex-wrap:wrap;\n",
              "      gap: 12px;\n",
              "    }\n",
              "\n",
              "    .colab-df-convert {\n",
              "      background-color: #E8F0FE;\n",
              "      border: none;\n",
              "      border-radius: 50%;\n",
              "      cursor: pointer;\n",
              "      display: none;\n",
              "      fill: #1967D2;\n",
              "      height: 32px;\n",
              "      padding: 0 0 0 0;\n",
              "      width: 32px;\n",
              "    }\n",
              "\n",
              "    .colab-df-convert:hover {\n",
              "      background-color: #E2EBFA;\n",
              "      box-shadow: 0px 1px 2px rgba(60, 64, 67, 0.3), 0px 1px 3px 1px rgba(60, 64, 67, 0.15);\n",
              "      fill: #174EA6;\n",
              "    }\n",
              "\n",
              "    [theme=dark] .colab-df-convert {\n",
              "      background-color: #3B4455;\n",
              "      fill: #D2E3FC;\n",
              "    }\n",
              "\n",
              "    [theme=dark] .colab-df-convert:hover {\n",
              "      background-color: #434B5C;\n",
              "      box-shadow: 0px 1px 3px 1px rgba(0, 0, 0, 0.15);\n",
              "      filter: drop-shadow(0px 1px 2px rgba(0, 0, 0, 0.3));\n",
              "      fill: #FFFFFF;\n",
              "    }\n",
              "  </style>\n",
              "\n",
              "      <script>\n",
              "        const buttonEl =\n",
              "          document.querySelector('#df-0cdc9845-85ea-4066-9bc1-778a51344b1f button.colab-df-convert');\n",
              "        buttonEl.style.display =\n",
              "          google.colab.kernel.accessAllowed ? 'block' : 'none';\n",
              "\n",
              "        async function convertToInteractive(key) {\n",
              "          const element = document.querySelector('#df-0cdc9845-85ea-4066-9bc1-778a51344b1f');\n",
              "          const dataTable =\n",
              "            await google.colab.kernel.invokeFunction('convertToInteractive',\n",
              "                                                     [key], {});\n",
              "          if (!dataTable) return;\n",
              "\n",
              "          const docLinkHtml = 'Like what you see? Visit the ' +\n",
              "            '<a target=\"_blank\" href=https://colab.research.google.com/notebooks/data_table.ipynb>data table notebook</a>'\n",
              "            + ' to learn more about interactive tables.';\n",
              "          element.innerHTML = '';\n",
              "          dataTable['output_type'] = 'display_data';\n",
              "          await google.colab.output.renderOutput(dataTable, element);\n",
              "          const docLink = document.createElement('div');\n",
              "          docLink.innerHTML = docLinkHtml;\n",
              "          element.appendChild(docLink);\n",
              "        }\n",
              "      </script>\n",
              "    </div>\n",
              "  </div>\n",
              "  "
            ],
            "text/plain": [
              "                             importance\n",
              "number_inpatient               0.250386\n",
              "discharge_disposition_id_22    0.068877\n",
              "number_emergency               0.058644\n",
              "num_medications                0.049916\n",
              "time_in_hospital               0.044914\n",
              "num_lab_procedures             0.041937\n",
              "number_diagnoses               0.037716\n",
              "age_group                      0.029282\n",
              "number_outpatient              0.021612\n",
              "num_procedures                 0.020066"
            ]
          },
          "execution_count": 59,
          "metadata": {},
          "output_type": "execute_result"
        }
      ],
      "source": [
        "feature_importances[:10]"
      ]
    },
    {
      "cell_type": "code",
      "execution_count": null,
      "metadata": {
        "colab": {
          "base_uri": "https://localhost:8080/",
          "height": 987
        },
        "id": "odAqo_o6Cleh",
        "outputId": "dbb14bab-9d73-4d90-9c26-5e8b580659e9"
      },
      "outputs": [
        {
          "data": {
            "image/png": "[encoded data removed]",
            "text/plain": [
              "<Figure size 640x1200 with 1 Axes>"
            ]
          },
          "metadata": {},
          "output_type": "display_data"
        }
      ],
      "source": [
        "num = 10\n",
        "ylocs = np.arange(num)\n",
        "# get the feature importance for top num and sort in reverse order\n",
        "values_to_plot = feature_importances.iloc[:num].values.ravel()[::-1]\n",
        "feature_labels = list(feature_importances.iloc[:num].index)[::-1]\n",
        "\n",
        "plt.figure(num=None, figsize=(8, 15), dpi=80, facecolor='w', edgecolor='k');\n",
        "plt.barh(ylocs, values_to_plot, align = 'center')\n",
        "plt.ylabel('Features')\n",
        "plt.xlabel('Importance Score')\n",
        "plt.title('Feature Importance Score - Random Forest')\n",
        "plt.yticks(ylocs, feature_labels)\n",
        "plt.show()"
      ]
    },
    {
      "cell_type": "markdown",
      "metadata": {
        "id": "Q1X1EotVVnYK"
      },
      "source": [
        "##KNN MODEL"
      ]
    },
    {
      "cell_type": "markdown",
      "metadata": {
        "id": "YhwIF4MpVse6"
      },
      "source": [
        "**Custom model**"
      ]
    },
    {
      "cell_type": "code",
      "execution_count": null,
      "metadata": {
        "id": "1WqOvkfEyy4U"
      },
      "outputs": [],
      "source": [
        "from abc import ABC,abstractmethod\n",
        "from typing import Dict, Any\n",
        "from scipy import stats"
      ]
    },
    {
      "cell_type": "code",
      "execution_count": null,
      "metadata": {
        "id": "16392eaf"
      },
      "outputs": [],
      "source": [
        "class KNN(ABC):\n",
        "    \"\"\"\n",
        "    Base class for KNN implementations\n",
        "    \"\"\"\n",
        "    \n",
        "    def __init__(self, K : int = 3, metric : str = 'minkowski', p : int = 2) -> None:\n",
        "        \"\"\"\n",
        "        Initializer function. Ensure that input parameters are compatiable.\n",
        "        Inputs:\n",
        "            K      -> integer specifying number of neighbours to consider\n",
        "            metric -> string to indicate the distance metric to use (valid entries are 'minkowski' or 'cosine')\n",
        "            p      -> order of the minkowski metric (valid only when distance == 'minkowski')\n",
        "        \"\"\"\n",
        "        # check distance is a valid entry\n",
        "        valid_distance = ['minkowski','cosine']\n",
        "        if metric not in valid_distance:\n",
        "            msg = \"Entered value for metric is not valid. Pick one of {}\".format(valid_distance)\n",
        "            raise ValueError(msg)\n",
        "        # check minkowski p parameter\n",
        "        if (metric == 'minkowski') and (p <= 0):\n",
        "            msg = \"Entered value for p is not valid. For metric = 'minkowski', p >= 1\"\n",
        "            raise ValueError(msg)\n",
        "        # store/initialise input parameters\n",
        "        self.K       = K\n",
        "        self.metric  = metric\n",
        "        self.p       = p\n",
        "        self.X_train = np.array([])\n",
        "        self.y_train = np.array([])\n",
        "        \n",
        "    def __del__(self) -> None:\n",
        "        \"\"\"\n",
        "        Destructor function. \n",
        "        \"\"\"\n",
        "        del self.K\n",
        "        del self.metric\n",
        "        del self.p\n",
        "        del self.X_train\n",
        "        del self.y_train\n",
        "      \n",
        "    def __minkowski(self, x : np.array) -> np.array:\n",
        "        \"\"\"\n",
        "        Private function to compute the minkowski distance between point x and the training data X\n",
        "        Inputs:\n",
        "            x -> numpy data point of predictors to consider\n",
        "        Outputs:\n",
        "            np.array -> numpy array of the computed distances\n",
        "        \"\"\"\n",
        "        return np.power(np.sum(np.power(np.abs(self.X_train - x),self.p),axis=1),1/self.p)\n",
        "    \n",
        "    def __cosine(self, x : np.array) -> np.array:\n",
        "        \"\"\"\n",
        "        Private function to compute the cosine distance between point x and the training data X\n",
        "        Inputs:\n",
        "            x -> numpy data point of predictors to consider\n",
        "        Outputs:\n",
        "            np.array -> numpy array of the computed distances\n",
        "        \"\"\"\n",
        "        return (1 - (np.dot(self.X_train,x)/(np.linalg.norm(x)*np.linalg.norm(self.X_train,axis=1))))\n",
        "    \n",
        "    def __distances(self, X : np.array) -> np.array:\n",
        "        \"\"\"\n",
        "        Private function to compute distances to each point x in X[x,:]\n",
        "        Inputs:\n",
        "            X -> numpy array of points [x]\n",
        "        Outputs:\n",
        "            D -> numpy array containing distances from x to all points in the training set.\n",
        "        \"\"\"\n",
        "        # cover distance calculation\n",
        "        if self.metric == 'minkowski':\n",
        "            D = np.apply_along_axis(self.__minkowski,1,X)\n",
        "        elif self.metric == 'cosine':\n",
        "            D = np.apply_along_axis(self.__cosine,1,X)\n",
        "        # return computed distances\n",
        "        return D\n",
        "    \n",
        "    @abstractmethod\n",
        "    def _generate_predictions(self, idx_neighbours : np.array) -> np.array:\n",
        "        \"\"\"\n",
        "        Protected function to compute predictions from the K nearest neighbours\n",
        "        \"\"\"\n",
        "        pass\n",
        "        \n",
        "    def fit(self, X : np.array, y : np.array) -> None:\n",
        "        \"\"\"\n",
        "        Public training function for the class. It is assummed input X has been normalised.\n",
        "        Inputs:\n",
        "            X -> numpy array containing the predictor features\n",
        "            y -> numpy array containing the labels associated with each value in X\n",
        "        \"\"\"\n",
        "        # store training data\n",
        "        self.X_train = np.copy(X)\n",
        "        self.y_train = np.copy(y)\n",
        "        \n",
        "    def predict(self, X : np.array) -> np.array:\n",
        "        \"\"\"\n",
        "        Public prediction function for the class. \n",
        "        It is assummed input X has been normalised in the same fashion as the input to the training function\n",
        "        Inputs:\n",
        "            X -> numpy array containing the predictor features\n",
        "        Outputs:\n",
        "           y_pred -> numpy array containing the predicted labels\n",
        "        \"\"\"\n",
        "        # ensure we have already trained the instance\n",
        "        if (self.X_train.size == 0) or (self.y_train.size == 0):\n",
        "            raise Exception('Model is not trained. Call fit before calling predict.')\n",
        "        # compute distances\n",
        "        D = self.__distances(X)\n",
        "        # obtain indices for the K nearest neighbours\n",
        "        idx_neighbours = D.argsort()[:,:self.K]\n",
        "        # compute predictions\n",
        "        y_pred = self._generate_predictions(idx_neighbours)\n",
        "        # return results\n",
        "        return y_pred\n",
        "    \n",
        "    def get_params(self, deep : bool = False) -> Dict:\n",
        "        \"\"\"\n",
        "        Public function to return model parameters\n",
        "        Inputs:\n",
        "            deep -> boolean input parameter\n",
        "        Outputs:\n",
        "            Dict -> dictionary of stored class input parameters\n",
        "        \"\"\"\n",
        "        return {'K':self.K,\n",
        "                'metric':self.metric,\n",
        "                'p':self.p}"
      ]
    },
    {
      "cell_type": "code",
      "execution_count": null,
      "metadata": {
        "id": "7e3b6a89"
      },
      "outputs": [],
      "source": [
        "class KNNClassifier(KNN):\n",
        "    \"\"\"\n",
        "    Class for KNN classifiction implementation\n",
        "    \"\"\"\n",
        "    \n",
        "    def __init__(self, K : int = 3, metric : str = 'minkowski', p : int = 2) -> None:\n",
        "        \"\"\"\n",
        "        Initializer function. Ensure that input parameters are compatiable.\n",
        "        Inputs:\n",
        "            K       -> integer specifying number of neighbours to consider\n",
        "            metric  -> string to indicate the distance metric to use (valid entries are 'minkowski' or 'cosine')\n",
        "            p       -> order of the minkowski metric (valid only when distance == 'minkowski')\n",
        "        \"\"\"\n",
        "        # call base class initialiser\n",
        "        super().__init__(K,metric,p)\n",
        "        \n",
        "    def _generate_predictions(self, idx_neighbours : np.array) -> np.array:\n",
        "        \"\"\"\n",
        "        Protected function to compute predictions from the K nearest neighbours\n",
        "        Inputs:\n",
        "            idx_neighbours -> indices of nearest neighbours\n",
        "        Outputs:\n",
        "            y_pred -> numpy array of prediction results\n",
        "        \"\"\"        \n",
        "        # compute the mode label for each submitted sample\n",
        "        y_pred = stats.mode(self.y_train[idx_neighbours],axis=1).mode.flatten()   \n",
        "        # return result\n",
        "        return y_pred"
      ]
    },
    {
      "cell_type": "markdown",
      "metadata": {
        "id": "gMzFaZnhV4f6"
      },
      "source": [
        "**Fitting model**"
      ]
    },
    {
      "cell_type": "code",
      "execution_count": null,
      "metadata": {
        "id": "evz1O-005A7W"
      },
      "outputs": [],
      "source": [
        "KNN_c = KNNClassifier()\n",
        "KNN_c.fit(X_train,Y_train)"
      ]
    },
    {
      "cell_type": "markdown",
      "metadata": {
        "id": "Io4Ba92eV83q"
      },
      "source": [
        "**Predictions on training and test data**"
      ]
    },
    {
      "cell_type": "code",
      "execution_count": null,
      "metadata": {
        "id": "AfVeTKFmM2ZX"
      },
      "outputs": [],
      "source": [
        "KNN_c_ypred_tr = KNN_c._generate_predictions(X_train.astype('int'))"
      ]
    },
    {
      "cell_type": "code",
      "execution_count": null,
      "metadata": {
        "id": "E4Fnw9JPM5AX"
      },
      "outputs": [],
      "source": [
        "KNN_c_ypred_te = KNN_c._generate_predictions(X_test.astype('int'))"
      ]
    },
    {
      "cell_type": "markdown",
      "metadata": {
        "id": "2LO0F7brWBJX"
      },
      "source": [
        "**Performance metrics**"
      ]
    },
    {
      "cell_type": "markdown",
      "metadata": {
        "id": "63QtFNcqWEVd"
      },
      "source": [
        "**Accuracy & Classification report**"
      ]
    },
    {
      "cell_type": "code",
      "execution_count": null,
      "metadata": {
        "colab": {
          "base_uri": "https://localhost:8080/"
        },
        "id": "8CPuCv3rM8Jx",
        "outputId": "09c10db6-6ad5-42ac-934f-b5dac2c71053"
      },
      "outputs": [
        {
          "name": "stdout",
          "output_type": "stream",
          "text": [
            "accuracy_score: 88.61 %\n"
          ]
        }
      ],
      "source": [
        "from sklearn.metrics import accuracy_score\n",
        "print(\"accuracy_score:\", round(accuracy_score(Y_train,KNN_c_ypred_tr)*100,2),'%')"
      ]
    },
    {
      "cell_type": "code",
      "execution_count": null,
      "metadata": {
        "colab": {
          "base_uri": "https://localhost:8080/"
        },
        "id": "YHnbRnQQMpey",
        "outputId": "958d1e82-e8db-4197-be64-4b8481c619e6"
      },
      "outputs": [
        {
          "name": "stdout",
          "output_type": "stream",
          "text": [
            "accuracy_score: 88.62 %\n"
          ]
        }
      ],
      "source": [
        "print(\"accuracy_score:\", round(accuracy_score(Y_test,KNN_c_ypred_te)*100,2),'%')"
      ]
    },
    {
      "cell_type": "code",
      "execution_count": null,
      "metadata": {
        "colab": {
          "base_uri": "https://localhost:8080/"
        },
        "id": "mgmLnjCxMph_",
        "outputId": "a7ac59f5-2965-48a1-da31-fced0cba6186"
      },
      "outputs": [
        {
          "name": "stdout",
          "output_type": "stream",
          "text": [
            "Classification Report of Knn model train data = \n",
            "               precision    recall  f1-score   support\n",
            "\n",
            "           0       0.89      1.00      0.94     70422\n",
            "           1       0.00      0.00      0.00      9052\n",
            "\n",
            "    accuracy                           0.89     79474\n",
            "   macro avg       0.44      0.50      0.47     79474\n",
            "weighted avg       0.79      0.89      0.83     79474\n",
            "\n",
            "Classification Report of Knn model test data = \n",
            "               precision    recall  f1-score   support\n",
            "\n",
            "           0       0.89      1.00      0.94     17607\n",
            "           1       0.00      0.00      0.00      2262\n",
            "\n",
            "    accuracy                           0.89     19869\n",
            "   macro avg       0.44      0.50      0.47     19869\n",
            "weighted avg       0.79      0.89      0.83     19869\n",
            "\n"
          ]
        }
      ],
      "source": [
        "from sklearn.metrics import classification_report\n",
        "print(f\"Classification Report of Knn model train data = \\n\", classification_report(Y_train, KNN_c_ypred_tr))\n",
        "print(f\"Classification Report of Knn model test data = \\n\", classification_report(Y_test, KNN_c_ypred_te))"
      ]
    },
    {
      "cell_type": "markdown",
      "metadata": {
        "id": "fIJRTcovWhkR"
      },
      "source": [
        "**Confusion matrix**"
      ]
    },
    {
      "cell_type": "code",
      "execution_count": null,
      "metadata": {
        "colab": {
          "base_uri": "https://localhost:8080/",
          "height": 585
        },
        "id": "cf5WGiVTMplN",
        "outputId": "5aa73f7f-6f4f-4ba9-a2d5-37cf6688ee07"
      },
      "outputs": [
        {
          "data": {
            "image/png": "[encoded data removed]",
            "text/plain": [
              "<Figure size 432x288 with 2 Axes>"
            ]
          },
          "metadata": {},
          "output_type": "display_data"
        },
        {
          "data": {
            "image/png": "[encoded data removed]",
            "text/plain": [
              "<Figure size 432x288 with 2 Axes>"
            ]
          },
          "metadata": {},
          "output_type": "display_data"
        }
      ],
      "source": [
        "skplt.metrics.plot_confusion_matrix(Y_train, KNN_c_ypred_tr, title=\"Confusion Matrix knn train data\",text_fontsize='large')\n",
        "skplt.metrics.plot_confusion_matrix(Y_test, KNN_c_ypred_te, title=\"Confusion Matrix knn test data\",text_fontsize='large')\n",
        "plt.show()"
      ]
    },
    {
      "cell_type": "markdown",
      "metadata": {
        "id": "_0PNyi4WWo_s"
      },
      "source": [
        "##SVM"
      ]
    },
    {
      "cell_type": "code",
      "execution_count": null,
      "metadata": {
        "id": "8fKbu_VyIzYn"
      },
      "outputs": [],
      "source": [
        "import numpy as np\n",
        "import pandas as pd\n",
        "pd.options.mode.chained_assignment = None  # default='warn'\n",
        "import seaborn as sns\n",
        "from tqdm import tqdm\n",
        "import matplotlib.pyplot as plt\n",
        "%matplotlib inline\n",
        "import pandas_profiling\n",
        "from sklearn.model_selection import train_test_split\n",
        "import statsmodels.api as sm \n",
        "from sklearn.metrics import confusion_matrix, accuracy_score, roc_curve, auc, precision_score, recall_score\n",
        "import numpy as np\n",
        "import pandas as pd\n",
        "import matplotlib.pyplot as plt\n",
        "import seaborn as sns\n",
        "from sklearn.model_selection import train_test_split #split\n",
        "from sklearn.metrics import accuracy_score #metrics\n",
        "from sklearn.base import BaseEstimator, ClassifierMixin\n",
        "from sklearn.utils import check_random_state\n",
        "from sklearn.preprocessing import LabelEncoder\n",
        "from datetime import datetime\n",
        "import time\n",
        "from scipy import stats\n",
        "from typing import Dict, Any\n",
        "from abc import ABC,abstractmethod\n",
        "import scikitplot as skplt\n",
        "from sklearn.model_selection import StratifiedKFold, cross_validate\n",
        "from sklearn.metrics import mean_squared_error,\\\n",
        " mean_absolute_error,\\\n",
        " accuracy_score,\\\n",
        " precision_score,\\\n",
        " recall_score,\\\n",
        " f1_score,\\\n",
        " make_scorer\n",
        "from sklearn.preprocessing import StandardScaler\n",
        "from sklearn.pipeline import Pipeline\n",
        "import warnings\n",
        "warnings.filterwarnings('ignore')\n"
      ]
    },
    {
      "cell_type": "code",
      "execution_count": null,
      "metadata": {
        "id": "1WtMEAuq8HS0"
      },
      "outputs": [],
      "source": [
        "def projection_simplex(v, z=1):\n",
        "    \"\"\"\n",
        "    Projection onto the simplex:\n",
        "        w^* = argmin_w 0.5 ||w-v||^2 s.t. \\sum_i w_i = z, w_i >= 0\n",
        "    \"\"\"\n",
        "    # For other algorithms computing the same projection, see\n",
        "    # https://gist.github.com/mblondel/6f3b7aaad90606b98f71\n",
        "    n_features = v.shape[0]\n",
        "    u = np.sort(v)[::-1]\n",
        "    cssv = np.cumsum(u) - z\n",
        "    ind = np.arange(n_features) + 1\n",
        "    cond = u - cssv / ind > 0\n",
        "    rho = ind[cond][-1]\n",
        "    theta = cssv[cond][-1] / float(rho)\n",
        "    w = np.maximum(v - theta, 0)\n",
        "    return w"
      ]
    },
    {
      "cell_type": "code",
      "execution_count": null,
      "metadata": {
        "id": "DfORbUKe9Sr0"
      },
      "outputs": [],
      "source": [
        "class MulticlassSVM(BaseEstimator, ClassifierMixin):\n",
        "    def __init__(self, C=1, max_iter=50, tol=0.05,\n",
        "                 random_state=None, verbose=0):\n",
        "        self.C = C\n",
        "        self.max_iter = max_iter\n",
        "        self.tol = tol,\n",
        "        self.random_state = random_state\n",
        "        self.verbose = verbose\n",
        "    def _partial_gradient(self, X, y, i):\n",
        "        # Partial gradient for the ith sample.\n",
        "        g = np.dot(X[i], self.coef_.T) + 1\n",
        "        g[y[i]] -= 1\n",
        "        return g\n",
        "    def _violation(self, g, y, i):\n",
        "        # Optimality violation for the ith sample.\n",
        "        smallest = np.inf\n",
        "        for k in range(g.shape[0]):\n",
        "            if k == y[i] and self.dual_coef_[k, i] >= self.C:\n",
        "                continue\n",
        "            elif k != y[i] and self.dual_coef_[k, i] >= 0:\n",
        "                continue\n",
        "            smallest = min(smallest, g[k])\n",
        "        return g.max() - smallest\n",
        "    def _solve_subproblem(self, g, y, norms, i):\n",
        "        # Prepare inputs to the projection.\n",
        "        Ci = np.zeros(g.shape[0])\n",
        "        Ci[y[i]] = self.C\n",
        "        beta_hat = norms[i] * (Ci - self.dual_coef_[:, i]) + g / norms[i]\n",
        "        z = self.C * norms[i]\n",
        "        # Compute projection onto the simplex.\n",
        "        beta = projection_simplex(beta_hat, z)\n",
        "        return Ci - self.dual_coef_[:, i] - beta / norms[i]\n",
        "    def fit(self, X, y):\n",
        "        n_samples, n_features = X.shape\n",
        "        # Normalize labels.\n",
        "        self._label_encoder = LabelEncoder()\n",
        "        y = self._label_encoder.fit_transform(y)\n",
        "        # Initialize primal and dual coefficients.\n",
        "        n_classes = len(self._label_encoder.classes_)\n",
        "        self.dual_coef_ = np.zeros((n_classes, n_samples), dtype=np.float64)\n",
        "        self.coef_ = np.zeros((n_classes, n_features))\n",
        "        # Pre-compute norms.\n",
        "        norms = np.sqrt(np.sum(X ** 2, axis=1))\n",
        "        # Shuffle sample indices.\n",
        "        rs = check_random_state(self.random_state)\n",
        "        ind = np.arange(n_samples)\n",
        "        rs.shuffle(ind)\n",
        "        violation_init = None\n",
        "        for it in range(self.max_iter):\n",
        "            violation_sum = 0\n",
        "            for ii in range(n_samples):\n",
        "                i = ind[ii]\n",
        "                # All-zero samples can be safely ignored.\n",
        "                if norms[i] == 0:\n",
        "                    continue\n",
        "                g = self._partial_gradient(X, y, i)\n",
        "                v = self._violation(g, y, i)\n",
        "                violation_sum += v\n",
        "                if v < 1e-12:\n",
        "                    continue\n",
        "                # Solve subproblem for the ith sample.\n",
        "                delta = self._solve_subproblem(g, y, norms, i)\n",
        "                # Update primal and dual coefficients.\n",
        "                self.coef_ += (delta * X[i][:, np.newaxis]).T\n",
        "                self.dual_coef_[:, i] += delta\n",
        "            if it == 0:\n",
        "                violation_init = violation_sum\n",
        "            vratio = violation_sum / violation_init\n",
        "            if self.verbose >= 1:\n",
        "                print(\"iter\", it + 1, \"violation\", round(vratio,4))\n",
        "            if vratio < self.tol:\n",
        "                if self.verbose >= 1:\n",
        "                    print(\"Converged\")\n",
        "                break\n",
        "        return self\n",
        "    def predict(self, X):\n",
        "        decision = np.dot(X, self.coef_.T)\n",
        "        pred = decision.argmax(axis=1)\n",
        "        return self._label_encoder.inverse_transform(pred)"
      ]
    },
    {
      "cell_type": "markdown",
      "metadata": {
        "id": "tDuFhOGSWxFK"
      },
      "source": [
        "**Fitting the model**"
      ]
    },
    {
      "cell_type": "code",
      "execution_count": null,
      "metadata": {
        "id": "06ztuHxeNi-f"
      },
      "outputs": [],
      "source": [
        "clf = MulticlassSVM(C=0.1, tol=0.01, max_iter=20, random_state=0, verbose=1)"
      ]
    },
    {
      "cell_type": "code",
      "execution_count": null,
      "metadata": {
        "colab": {
          "base_uri": "https://localhost:8080/"
        },
        "id": "oa0-CcoMNjCE",
        "outputId": "cc352fa8-8b9b-4c37-c5b8-b75b6b76508f"
      },
      "outputs": [
        {
          "name": "stdout",
          "output_type": "stream",
          "text": [
            "iter 1 violation 1.0\n",
            "iter 2 violation 1.0186\n",
            "iter 3 violation 1.007\n",
            "iter 4 violation 0.9863\n",
            "iter 5 violation 0.9599\n",
            "iter 6 violation 0.927\n",
            "iter 7 violation 0.8902\n",
            "iter 8 violation 0.8416\n",
            "iter 9 violation 0.7982\n",
            "iter 10 violation 0.756\n",
            "iter 11 violation 0.7104\n",
            "iter 12 violation 0.6709\n",
            "iter 13 violation 0.6318\n",
            "iter 14 violation 0.5931\n",
            "iter 15 violation 0.5554\n",
            "iter 16 violation 0.519\n",
            "iter 17 violation 0.4873\n",
            "iter 18 violation 0.454\n",
            "iter 19 violation 0.4275\n",
            "iter 20 violation 0.4028\n"
          ]
        },
        {
          "data": {
            "text/plain": [
              "MulticlassSVM(C=0.1, max_iter=20, random_state=0, tol=(0.01,), verbose=1)"
            ]
          },
          "execution_count": 73,
          "metadata": {},
          "output_type": "execute_result"
        }
      ],
      "source": [
        "clf.fit(X_train,Y_train)"
      ]
    },
    {
      "cell_type": "markdown",
      "metadata": {
        "id": "72Q5b3VDW0Kl"
      },
      "source": [
        "**Predictions on training & testing**"
      ]
    },
    {
      "cell_type": "code",
      "execution_count": null,
      "metadata": {
        "id": "8jZCyA-iNPtl"
      },
      "outputs": [],
      "source": [
        "svm_predictions_tr = clf.predict(X_train)\n",
        "svm_predictions_te = clf.predict(X_test)"
      ]
    },
    {
      "cell_type": "markdown",
      "metadata": {
        "id": "tmVe_-cTW6NI"
      },
      "source": [
        "**Performance metrics**"
      ]
    },
    {
      "cell_type": "markdown",
      "metadata": {
        "id": "AYKDHS6FW90p"
      },
      "source": [
        "**Accuracy and Classification report**"
      ]
    },
    {
      "cell_type": "code",
      "execution_count": null,
      "metadata": {
        "colab": {
          "base_uri": "https://localhost:8080/"
        },
        "id": "5ysNm-2bNPwp",
        "outputId": "d7b6ecfe-3f86-45c3-c770-042bee1b931a"
      },
      "outputs": [
        {
          "name": "stdout",
          "output_type": "stream",
          "text": [
            "accuracy_score: 64.22 %\n"
          ]
        }
      ],
      "source": [
        "print(\"accuracy_score:\", round(accuracy_score(Y_train,svm_predictions_tr)*100,2),'%')"
      ]
    },
    {
      "cell_type": "code",
      "execution_count": null,
      "metadata": {
        "colab": {
          "base_uri": "https://localhost:8080/"
        },
        "id": "2X4MW3A_Mpoe",
        "outputId": "6eb3e1c6-25f1-4a34-e032-ac1530d6aab2"
      },
      "outputs": [
        {
          "name": "stdout",
          "output_type": "stream",
          "text": [
            "accuracy_score: 64.39 %\n"
          ]
        }
      ],
      "source": [
        "print(\"accuracy_score:\", round(accuracy_score(Y_test,svm_predictions_te)*100,2),'%')"
      ]
    },
    {
      "cell_type": "code",
      "execution_count": null,
      "metadata": {
        "colab": {
          "base_uri": "https://localhost:8080/"
        },
        "id": "3ufxPkiFMprs",
        "outputId": "c803cf08-1e2d-4e16-aab2-852da8fd6273"
      },
      "outputs": [
        {
          "name": "stdout",
          "output_type": "stream",
          "text": [
            "Classification Report of SVM train data = \n",
            "               precision    recall  f1-score   support\n",
            "\n",
            "           0       0.90      0.67      0.77     70422\n",
            "           1       0.14      0.42      0.21      9052\n",
            "\n",
            "    accuracy                           0.64     79474\n",
            "   macro avg       0.52      0.55      0.49     79474\n",
            "weighted avg       0.81      0.64      0.71     79474\n",
            "\n",
            "Classification Report of SVM test data = \n",
            "               precision    recall  f1-score   support\n",
            "\n",
            "           0       0.90      0.67      0.77     17607\n",
            "           1       0.14      0.43      0.22      2262\n",
            "\n",
            "    accuracy                           0.64     19869\n",
            "   macro avg       0.52      0.55      0.49     19869\n",
            "weighted avg       0.82      0.64      0.71     19869\n",
            "\n"
          ]
        }
      ],
      "source": [
        "print(f\"Classification Report of SVM train data = \\n\", classification_report(Y_train, svm_predictions_tr))\n",
        "print(f\"Classification Report of SVM test data = \\n\", classification_report(Y_test, svm_predictions_te))"
      ]
    },
    {
      "cell_type": "markdown",
      "metadata": {
        "id": "Q5YBmtuMXEgI"
      },
      "source": [
        "**Classification matrix**"
      ]
    },
    {
      "cell_type": "code",
      "execution_count": null,
      "metadata": {
        "colab": {
          "base_uri": "https://localhost:8080/",
          "height": 585
        },
        "id": "U3dQIvAQMpu4",
        "outputId": "7b409e4f-4550-4b00-cc58-169bf2408ccd"
      },
      "outputs": [
        {
          "data": {
            "image/png": "[encoded data removed]",
            "text/plain": [
              "<Figure size 432x288 with 2 Axes>"
            ]
          },
          "metadata": {},
          "output_type": "display_data"
        },
        {
          "data": {
            "image/png": "[encoded data removed]",
            "text/plain": [
              "<Figure size 432x288 with 2 Axes>"
            ]
          },
          "metadata": {},
          "output_type": "display_data"
        }
      ],
      "source": [
        "skplt.metrics.plot_confusion_matrix(Y_train,svm_predictions_tr , title=\"Confusion Matrix svm train data\",text_fontsize='large')\n",
        "skplt.metrics.plot_confusion_matrix(Y_test,svm_predictions_te , title=\"Confusion Matrix svm test data\",text_fontsize='large')\n",
        "plt.show()"
      ]
    },
    {
      "cell_type": "markdown",
      "metadata": {
        "id": "0aweBNrBcQE4"
      },
      "source": [
        "**Gradient boosting**"
      ]
    },
    {
      "cell_type": "code",
      "execution_count": 117,
      "metadata": {
        "colab": {
          "base_uri": "https://localhost:8080/"
        },
        "id": "32SCaa1x0Kjy",
        "outputId": "899fa9b6-2d15-47c7-c0d1-f2f2fea47025"
      },
      "outputs": [
        {
          "output_type": "stream",
          "name": "stdout",
          "text": [
            "Drive already mounted at /content/drive; to attempt to forcibly remount, call drive.mount(\"/content/drive\", force_remount=True).\n"
          ]
        }
      ],
      "source": [
        "from google.colab import drive\n",
        "drive.mount('/content/drive')"
      ]
    },
    {
      "cell_type": "code",
      "execution_count": 118,
      "metadata": {
        "id": "1igFpmWC1SzL"
      },
      "outputs": [],
      "source": [
        "from zipfile import ZipFile\n",
        "file_name = '/content/project_models.zip'"
      ]
    },
    {
      "cell_type": "code",
      "execution_count": 119,
      "metadata": {
        "colab": {
          "base_uri": "https://localhost:8080/"
        },
        "id": "FhAZoA0h1i1x",
        "outputId": "3c65bfed-c889-444f-a7b9-9e6342303451"
      },
      "outputs": [
        {
          "output_type": "stream",
          "name": "stdout",
          "text": [
            "Done\n"
          ]
        }
      ],
      "source": [
        "with ZipFile(file_name,'r') as zip:\n",
        "  zip.extractall()\n",
        "  print('Done')\n",
        " \n",
        "\n",
        "\n"
      ]
    },
    {
      "cell_type": "code",
      "execution_count": 120,
      "metadata": {
        "id": "yeQ4TiKi17pX"
      },
      "outputs": [],
      "source": [
        "#Custom gradient boosting classifier\n",
        "from models.gradientboosting import GradientBoostTreeClassifier"
      ]
    },
    {
      "cell_type": "markdown",
      "metadata": {
        "id": "JHftDX7X2k9x"
      },
      "source": [
        "Fitting model"
      ]
    },
    {
      "cell_type": "code",
      "execution_count": 121,
      "metadata": {
        "id": "AFrmYKY72P5o"
      },
      "outputs": [],
      "source": [
        "gbc = GradientBoostTreeClassifier() \n",
        "#fit the model\n",
        "gbc.fit(X_train,Y_train)"
      ]
    },
    {
      "cell_type": "markdown",
      "metadata": {
        "id": "XTF3kRwl2ne1"
      },
      "source": [
        "**Predictions on training data**"
      ]
    },
    {
      "cell_type": "code",
      "execution_count": 45,
      "metadata": {
        "id": "PNGMGSPj27DT"
      },
      "outputs": [],
      "source": [
        "#custom function to calculate accuracy score for classiciation model .\n",
        "def accuracy(actual,predicted,normalize=True):\n",
        "    accuracy=[]\n",
        "    for i in range(len(predicted)):\n",
        "        if predicted[i]==actual[i]:\n",
        "            accuracy.append(1)\n",
        "        else:\n",
        "            accuracy.append(0)\n",
        "    if normalize==True:\n",
        "        return np.mean(accuracy)\n",
        "    if normalize==False:\n",
        "        return sum(accuracy)"
      ]
    },
    {
      "cell_type": "code",
      "execution_count": 50,
      "metadata": {
        "id": "rYtrah-u2gNF",
        "colab": {
          "base_uri": "https://localhost:8080/",
          "height": 319
        },
        "outputId": "ef12fd74-62bd-4cda-f7b7-4b8423966e0a"
      },
      "outputs": [
        {
          "output_type": "stream",
          "name": "stdout",
          "text": [
            "GradientBoost Classifier Accuracy on Train data: 89.11 %\n"
          ]
        },
        {
          "output_type": "display_data",
          "data": {
            "text/plain": [
              "<Figure size 432x288 with 2 Axes>"
            ],
            "image/png": "[encoded data removed]"
          },
          "metadata": {
            "needs_background": "light"
          }
        }
      ],
      "source": [
        "#Predicting results on Train Data\n",
        "GBC_Y_train_pred = gbc.predict(X_train)\n",
        "GBC_train_acc = accuracy(Y_train,GBC_Y_train_pred)\n",
        "print('GradientBoost Classifier Accuracy on Train data:',round(GBC_train_acc*100,2),'%')\n",
        "#Confusion matrix\n",
        "skplt.metrics.plot_confusion_matrix(Y_train, GBC_Y_train_pred, title=\"GBC in train data\",\n",
        "                text_fontsize='large')\n",
        "plt.show()"
      ]
    },
    {
      "cell_type": "markdown",
      "metadata": {
        "id": "Z-9g3r3T2ro1"
      },
      "source": [
        "**Predictions on tesing data**"
      ]
    },
    {
      "cell_type": "code",
      "execution_count": 52,
      "metadata": {
        "id": "ULAYRMpt2u9C",
        "colab": {
          "base_uri": "https://localhost:8080/",
          "height": 319
        },
        "outputId": "52dc2a5c-f2ab-4434-d5a4-f23cb980a94d"
      },
      "outputs": [
        {
          "output_type": "stream",
          "name": "stdout",
          "text": [
            "GradientBoost Classifier Accuracy on Test data: 88.18 %\n"
          ]
        },
        {
          "output_type": "display_data",
          "data": {
            "text/plain": [
              "<Figure size 432x288 with 2 Axes>"
            ],
            "image/png": "[encoded data removed]"
          },
          "metadata": {
            "needs_background": "light"
          }
        }
      ],
      "source": [
        "#Predicting results on Test Data\n",
        "GBC_Y_test_pred = gbc.predict(X_test)\n",
        "GBC_test_acc = accuracy(Y_test,GBC_Y_test_pred)\n",
        "print('GradientBoost Classifier Accuracy on Test data:',round(GBC_test_acc*100,2),'%')\n",
        "#Confusion matrix\n",
        "skplt.metrics.plot_confusion_matrix(Y_test, GBC_Y_test_pred, title=\"GBC in test data\",\n",
        "                text_fontsize='large')\n",
        "plt.show()"
      ]
    },
    {
      "cell_type": "markdown",
      "source": [
        "**Neural networks**"
      ],
      "metadata": {
        "id": "egnsMIkFEE41"
      }
    },
    {
      "cell_type": "code",
      "execution_count": 54,
      "metadata": {
        "id": "kSJ0vlP-3YfC"
      },
      "outputs": [],
      "source": [
        "df_final = df_data[:10000]"
      ]
    },
    {
      "cell_type": "code",
      "source": [
        "x=df_final.drop(['target'],axis=1).values\n",
        "y=df_final['target'].values"
      ],
      "metadata": {
        "id": "4WBfE2G8GGoa"
      },
      "execution_count": 55,
      "outputs": []
    },
    {
      "cell_type": "code",
      "source": [
        "X = x.T"
      ],
      "metadata": {
        "id": "SXc7PcqdGGrh"
      },
      "execution_count": 56,
      "outputs": []
    },
    {
      "cell_type": "code",
      "source": [
        "from sklearn import preprocessing"
      ],
      "metadata": {
        "id": "CTURdhQXGGu9"
      },
      "execution_count": 57,
      "outputs": []
    },
    {
      "cell_type": "code",
      "source": [
        "lb = preprocessing.LabelBinarizer()\n",
        "Y = lb.fit_transform(y)\n",
        "y_next = np.where(y==0,1,0)\n",
        "Y = Y.T\n",
        "Y = list(Y)\n",
        "Y.append(y_next)\n",
        "Y = np.array(Y)"
      ],
      "metadata": {
        "id": "gy-ROPfGGeaP"
      },
      "execution_count": 58,
      "outputs": []
    },
    {
      "cell_type": "markdown",
      "source": [
        "**NN Custom model**"
      ],
      "metadata": {
        "id": "WjMZR3EJJCCx"
      }
    },
    {
      "execution_count": 60,
      "cell_type": "code",
      "source": [
        "class DNNClassifier(object):\n",
        "    '''\n",
        "    Parameters: layer_dims -- List Dimensions of layers including input and output layer\n",
        "                hidden_layers -- List of hidden layers\n",
        "                                 'relu','sigmoid','tanh','softplus','arctan','elu','identity','softmax'\n",
        "                                 Note: 1. last layer must be softmax \n",
        "                                       2. For relu and elu need to mention alpha value as below\n",
        "                                        ['tanh',('relu',alpha1),('elu',alpha2),('relu',alpha3),'softmax']\n",
        "                                        need to give a tuple for relu and elu if you want to mention alpha\n",
        "                                        if not default alpha is 0\n",
        "                init_type -- init_type -- he_normal  --> N(0,sqrt(2/fanin))\n",
        "                             he_uniform --> Uniform(-sqrt(6/fanin),sqrt(6/fanin))\n",
        "                             xavier_normal --> N(0,2/(fanin+fanout))\n",
        "                             xavier_uniform --> Uniform(-sqrt(6/fanin+fanout),sqrt(6/fanin+fanout))\n",
        "                                 \n",
        "                learning_rate -- Learning rate\n",
        "                optimization_method -- optimization method 'SGD','SGDM','RMSP','ADAM'\n",
        "                batch_size -- Batch size to update weights \n",
        "                max_epoch -- Max epoch number\n",
        "                             Note : Max_iter  = max_epoch * (size of traing / batch size)\n",
        "                tolarance -- if abs(previous cost  - current cost ) < tol training will be stopped\n",
        "                             if None -- No check will be performed\n",
        "                keep_proba -- probability for dropout\n",
        "                              if 1 then there is no dropout\n",
        "                penality -- regularization penality\n",
        "                            values taken 'l1','l2',None(default)\n",
        "                lamda -- l1 or l2 regularization value\n",
        "                beta1 -- SGDM and adam optimization param\n",
        "                beta2 -- RMSP and adam optimization value\n",
        "                seed -- Random seed to generate randomness\n",
        "                verbose -- takes 0  or 1 \n",
        "    '''\n",
        "    \n",
        "    def __init__(self,layer_dims,hidden_layers,init_type='he_normal',learning_rate=0.1,\n",
        "                 optimization_method = 'SGD',batch_size=64,max_epoch=100,tolarance = 0.00001,\n",
        "                 keep_proba=1,penality=None,lamda=0,beta1=0.9,\n",
        "                 beta2=0.999,seed=None,verbose=0):\n",
        "        self.layer_dims = layer_dims\n",
        "        self.hidden_layers = hidden_layers\n",
        "        self.init_type = init_type\n",
        "        self.learning_rate = learning_rate\n",
        "        self.optimization_method = optimization_method\n",
        "        self.batch_size = batch_size\n",
        "        self.keep_proba = keep_proba\n",
        "        self.penality = penality\n",
        "        self.lamda = lamda\n",
        "        self.beta1 = beta1\n",
        "        self.beta2 = beta2\n",
        "        self.seed = seed\n",
        "        self.max_epoch = max_epoch\n",
        "        self.tol = tolarance\n",
        "        self.verbose = verbose\n",
        "    @staticmethod\n",
        "    def weights_init(layer_dims,init_type='he_normal',seed=None):\n",
        "        \n",
        "        \"\"\"\n",
        "        Arguments:\n",
        "            layer_dims -- python array (list) containing the dimensions of each layer in our network\n",
        "            layer_dims lis is like  [ no of input features,# of neurons in hidden layer-1,..,\n",
        "                                     # of neurons in hidden layer-n shape,output]\n",
        "            init_type -- he_normal  --> N(0,sqrt(2/fanin))\n",
        "                         he_uniform --> Uniform(-sqrt(6/fanin),sqrt(6/fanin))\n",
        "                         xavier_normal --> N(0,2/(fanin+fanout))\n",
        "                         xavier_uniform --> Uniform(-sqrt(6/fanin+fanout),sqrt(6/fanin+fanout))\n",
        "                         seed -- random seed to generate weights\n",
        "        Returns:\n",
        "            parameters -- python dictionary containing your parameters \"W1\", \"b1\", ..., \"WL\", \"bL\":\n",
        "                    Wl -- weight matrix of shape (layer_dims[l], layer_dims[l-1])\n",
        "                    bl -- bias vector of shape (layer_dims[l], 1)\n",
        "        \"\"\"\n",
        "        np.random.seed(seed)\n",
        "        parameters = {}\n",
        "        opt_parameters = {}\n",
        "        L = len(layer_dims)            # number of layers in the network\n",
        "        if  init_type == 'he_normal':\n",
        "            for l in range(1, L):\n",
        "                parameters['W' + str(l)] = np.random.normal(0,np.sqrt(2.0/layer_dims[l-1]),(layer_dims[l], layer_dims[l-1]))\n",
        "                parameters['b' + str(l)] = np.random.normal(0,np.sqrt(2.0/layer_dims[l-1]),(layer_dims[l], 1))  \n",
        "            \n",
        "        elif init_type == 'he_uniform':\n",
        "            for l in range(1, L):\n",
        "                parameters['W' + str(l)] = np.random.uniform(-np.sqrt(6.0/layer_dims[l-1]),\n",
        "                                                        np.sqrt(6.0/layer_dims[l-1]),\n",
        "                                                        (layer_dims[l], layer_dims[l-1]))\n",
        "                parameters['b' + str(l)] = np.random.uniform(-np.sqrt(6.0/layer_dims[l-1]),\n",
        "                                                        np.sqrt(6.0/layer_dims[l-1]),\n",
        "                                                        (layer_dims[l], 1))\n",
        "            \n",
        "        elif init_type == 'xavier_normal':\n",
        "            for l in range(1, L):\n",
        "                parameters['W' + str(l)] = np.random.normal(0,2.0/(layer_dims[l]+layer_dims[l-1]),\n",
        "                                                                   (layer_dims[l], layer_dims[l-1]))\n",
        "                parameters['b' + str(l)] = np.random.normal(0,2.0/(layer_dims[l]+layer_dims[l-1]),\n",
        "                                                                      (layer_dims[l], 1)) \n",
        "            \n",
        "        elif init_type == 'xavier_uniform':\n",
        "            for l in range(1, L):\n",
        "                parameters['W' + str(l)] = np.random.uniform(-(np.sqrt(6.0/(layer_dims[l]+layer_dims[l-1]))),\n",
        "                                                        (np.sqrt(6.0/(layer_dims[l]+layer_dims[l-1]))),\n",
        "                                                        (layer_dims[l], layer_dims[l-1]))\n",
        "                parameters['b' + str(l)] = np.random.uniform(-(np.sqrt(6.0/(layer_dims[l]+layer_dims[l-1]))),\n",
        "                                                        (np.sqrt(6.0/(layer_dims[l]+layer_dims[l-1]))),\n",
        "                                                        (layer_dims[l], 1))\n",
        "        \n",
        "        return parameters\n",
        "    \n",
        "    @staticmethod\n",
        "    def sigmoid(X,derivative=False):\n",
        "        '''Compute Sigmaoid and its derivative'''\n",
        "        if derivative == False:\n",
        "            out = 1 / (1 + np.exp(-np.array(X)))\n",
        "        elif derivative == True:\n",
        "            s = 1 / (1 + np.exp(-np.array(X)))\n",
        "            out = s*(1-s)\n",
        "        return out\n",
        "    @staticmethod\n",
        "    def ReLU(X,alpha=0,derivative=False):\n",
        "        '''Compute ReLU function and derivative'''\n",
        "        X = np.array(X,dtype=np.float64)\n",
        "        if derivative == False:\n",
        "            return np.where(X<0,alpha*X,X)\n",
        "        elif derivative == True:\n",
        "            X_relu = np.ones_like(X,dtype=np.float64)\n",
        "            X_relu[X < 0] = alpha\n",
        "            return X_relu\n",
        "    @staticmethod\n",
        "    def Tanh(X,derivative=False):\n",
        "        '''Compute tanh values and derivative of tanh'''\n",
        "        X = np.array(X)\n",
        "        if derivative == False:\n",
        "            return np.tanh(X)\n",
        "        if derivative == True:\n",
        "            return 1 - (np.tanh(X))**2\n",
        "    @staticmethod\n",
        "    def softplus(X,derivative=False):\n",
        "        '''Compute tanh values and derivative of tanh'''\n",
        "        X = np.array(X)\n",
        "        if derivative == False:\n",
        "            return np.log(1+np.exp(X))\n",
        "        if derivative == True:\n",
        "            return 1 / (1 + np.exp(-np.array(X)))\n",
        "    @staticmethod\n",
        "    def arctan(X,derivative=False):\n",
        "        '''Compute tan^-1(X) and derivative'''\n",
        "        if derivative == False:\n",
        "            return  np.arctan(X)\n",
        "        if derivative == True:\n",
        "            return 1/ (1 + np.square(X))\n",
        "    @staticmethod\n",
        "    def identity(X,derivative=False):\n",
        "        '''identity function and derivative f(x) = x'''\n",
        "        X = np.array(X)\n",
        "        if derivative ==  False:\n",
        "            return X\n",
        "        if derivative == True:\n",
        "            return np.ones_like(X)\n",
        "    @staticmethod\n",
        "    def elu(X,alpha=0,derivative=False):\n",
        "        '''Exponential Linear Unit'''\n",
        "        X = np.array(X,dtype=np.float64)\n",
        "        if derivative == False:\n",
        "            return np.where(X<0,alpha*(np.exp(X)-1),X)\n",
        "        elif derivative == True:\n",
        "            return np.where(X<0,alpha*(np.exp(X)),1)\n",
        "    @staticmethod\n",
        "    def softmax(X):\n",
        "        \"\"\"Compute softmax values for each sets of scores in x.\"\"\"\n",
        "        return np.exp(X) / np.sum(np.exp(X),axis=0)\n",
        "    @staticmethod\n",
        "    def forward_propagation(X, hidden_layers,parameters,keep_prob=1,seed=None):\n",
        "    \n",
        "        \"\"\"\"\n",
        "        Arguments:\n",
        "            X -- data, numpy array of shape (input size, number of examples)\n",
        "            hidden_layers -- List of hideden layers\n",
        "            weights -- Output of weights_init dict (parameters)\n",
        "            keep_prob -- probability of keeping a neuron active during drop-out, scalar\n",
        "        Returns:\n",
        "            AL -- last post-activation value\n",
        "            caches -- list of caches containing:\n",
        "                every cache of linear_activation_forward() (there are L-1 of them, indexed from 0 to L-1)\n",
        "        \"\"\"\n",
        "        if seed != None:\n",
        "            np.random.seed(seed)\n",
        "        caches = []\n",
        "        A = X\n",
        "        L = len(hidden_layers)\n",
        "        for l,active_function in enumerate(hidden_layers,start=1):\n",
        "            A_prev = A \n",
        "        \n",
        "            Z = np.dot(parameters['W' + str(l)],A_prev)+parameters['b' + str(l)]\n",
        "            \n",
        "            if type(active_function) is tuple:\n",
        "                \n",
        "                if  active_function[0] == \"relu\":\n",
        "                    A = DNNClassifier.ReLU(Z,active_function[1])\n",
        "                elif active_function[0] == 'elu':\n",
        "                    A = DNNClassifier.elu(Z,active_function[1])\n",
        "            else:\n",
        "                if active_function == \"sigmoid\":\n",
        "                    A = DNNClassifier.sigmoid(Z)\n",
        "                elif active_function == \"identity\":\n",
        "                    A = DNNClassifier.identity(Z)\n",
        "                elif active_function == \"arctan\":\n",
        "                    A = DNNClassifier.arctan(Z)\n",
        "                elif active_function == \"softplus\":\n",
        "                    A = DNNClassifier.softplus(Z)\n",
        "                elif active_function == \"tanh\":\n",
        "                    A = DNNClassifier.Tanh(Z)\n",
        "                elif active_function == \"softmax\":\n",
        "                    A = DNNClassifier.softmax(Z)\n",
        "                elif  active_function == \"relu\":\n",
        "                    A = DNNClassifier.ReLU(Z)\n",
        "                elif active_function == 'elu':\n",
        "                    A = DNNClassifier.elu(Z)\n",
        "            \n",
        "            if keep_prob != 1 and l != L and l != 1:\n",
        "                D = np.random.rand(A.shape[0],A.shape[1])\n",
        "                D = (D<keep_prob)\n",
        "                A = np.multiply(A,D)\n",
        "                A = A / keep_prob\n",
        "                cache = ((A_prev, parameters['W' + str(l)],parameters['b' + str(l)],D), Z)\n",
        "                caches.append(cache)\n",
        "            else:\n",
        "                cache = ((A_prev, parameters['W' + str(l)],parameters['b' + str(l)]), Z)\n",
        "                #print(A.shape)\n",
        "                caches.append(cache)      \n",
        "        return A, caches\n",
        "    @staticmethod\n",
        "    def compute_cost(A, Y, parameters, lamda=0,penality=None):\n",
        "        \"\"\"\n",
        "        Implement the cost function with L2 regularization. See formula (2) above.\n",
        "    \n",
        "        Arguments:\n",
        "            A -- post-activation, output of forward propagation\n",
        "            Y -- \"true\" labels vector, of shape (output size, number of examples)\n",
        "            parameters -- python dictionary containing parameters of the model\n",
        "    \n",
        "        Returns:\n",
        "            cost - value of the regularized loss function \n",
        "        \"\"\"\n",
        "        m = Y.shape[1]\n",
        "    \n",
        "        cost = np.squeeze(-np.sum(np.multiply(np.log(A),Y))/m)\n",
        "    \n",
        "        L = len(parameters)//2\n",
        "    \n",
        "        if penality == 'l2' and lamda != 0:\n",
        "            sum_weights = 0\n",
        "            for l in range(1, L):\n",
        "                sum_weights = sum_weights + np.sum(np.square(parameters['W' + str(l)]))\n",
        "            cost = cost + sum_weights * (lamda/(2*m))\n",
        "        elif penality == 'l1' and lamda != 0:\n",
        "            sum_weights = 0\n",
        "            for l in range(1, L):\n",
        "                sum_weights = sum_weights + np.sum(np.abs(parameters['W' + str(l)]))\n",
        "            cost = cost + sum_weights * (lamda/(2*m))\n",
        "        return cost\n",
        "    @staticmethod\n",
        "    def back_propagation(AL, Y, caches, hidden_layers, keep_prob=1, penality=None,lamda=0):\n",
        "        \"\"\"\n",
        "        Implement the backward propagation\n",
        "    \n",
        "        Arguments:\n",
        "            AL -- probability vector, output of the forward propagation (L_model_forward())\n",
        "            Y -- true \"label\" vector (containing 0 if non-cat, 1 if cat)\n",
        "            caches -- list of caches containing:\n",
        "            hidden_layers -- hidden layer names\n",
        "            keep_prob -- probabaility for dropout\n",
        "            penality -- regularization penality 'l1' or 'l2' or None\n",
        "    \n",
        "        Returns:\n",
        "             grads -- A dictionary with the gradients\n",
        "             grads[\"dA\" + str(l)] = ... \n",
        "             grads[\"dW\" + str(l)] = ...\n",
        "             grads[\"db\" + str(l)] = ... \n",
        "        \"\"\"\n",
        "        grads = {}\n",
        "        L = len(caches) # the number of layers\n",
        "    \n",
        "        m = AL.shape[1]\n",
        "        Y = Y.reshape(AL.shape)\n",
        "    \n",
        "        # Initializing the backpropagation\n",
        "        dZL = AL - Y\n",
        "    \n",
        "        cache = caches[L-1]\n",
        "        linear_cache, activation_cache = cache\n",
        "        AL, W, b = linear_cache\n",
        "        grads[\"dW\" + str(L)] = np.dot(dZL,AL.T)/m\n",
        "        grads[\"db\" + str(L)] = np.sum(dZL,axis=1,keepdims=True)/m\n",
        "        grads[\"dA\" + str(L-1)] = np.dot(W.T,dZL)\n",
        "    \n",
        "    \n",
        "        # Loop from l=L-2 to l=0\n",
        "        v_dropout = 0\n",
        "        for l in reversed(range(L-1)):\n",
        "            cache = caches[l]\n",
        "            active_function = hidden_layers[l]\n",
        "        \n",
        "            linear_cache, Z = cache\n",
        "            try:\n",
        "                A_prev, W, b = linear_cache\n",
        "            except:\n",
        "                A_prev, W, b, D = linear_cache\n",
        "                v_dropout = 1\n",
        "            \n",
        "            m = A_prev.shape[1]\n",
        "        \n",
        "            if keep_prob != 1 and v_dropout == 1:\n",
        "                dA_prev = np.multiply(grads[\"dA\" + str(l + 1)],D)\n",
        "                dA_prev = dA_prev/keep_prob\n",
        "                v_dropout = 0\n",
        "            else:\n",
        "                dA_prev = grads[\"dA\" + str(l + 1)]\n",
        "                v_dropout = 0\n",
        "            \n",
        "            \n",
        "            if type(active_function) is tuple:\n",
        "                \n",
        "                if  active_function[0] == \"relu\":\n",
        "                    dZ = np.multiply(dA_prev,DNNClassifier.ReLU(Z,active_function[1],derivative=True))\n",
        "                elif active_function[0] == 'elu':\n",
        "                    dZ = np.multiply(dA_prev,DNNClassifier.elu(Z,active_function[1],derivative=True))\n",
        "            else:\n",
        "                if active_function == \"sigmoid\":\n",
        "                    dZ = np.multiply(dA_prev,DNNClassifier.sigmoid(Z,derivative=True))\n",
        "                elif active_function == \"relu\":\n",
        "                    dZ = np.multiply(dA_prev,DNNClassifier.ReLU(Z,derivative=True))\n",
        "                elif active_function == \"tanh\":\n",
        "                    dZ = np.multiply(dA_prev,DNNClassifier.Tanh(Z,derivative=True))\n",
        "                elif active_function == \"identity\":\n",
        "                    dZ = np.multiply(dA_prev,DNNClassifier.identity(Z,derivative=True))\n",
        "                elif active_function == \"arctan\":\n",
        "                    dZ = np.multiply(dA_prev,DNNClassifier.arctan(Z,derivative=True))\n",
        "                elif active_function == \"softplus\":\n",
        "                    dZ = np.multiply(dA_prev,DNNClassifier.softplus(Z,derivative=True))\n",
        "                elif active_function == 'elu':\n",
        "                    dZ = np.multiply(dA_prev,DNNClassifier.elu(Z,derivative=True))\n",
        "            \n",
        "            grads[\"dA\" + str(l)] = np.dot(W.T,dZ)\n",
        "        \n",
        "            if penality == 'l2':\n",
        "                grads[\"dW\" + str(l + 1)] = (np.dot(dZ,A_prev.T)/m)  + ((lamda * W)/m)\n",
        "            elif penality == 'l1':\n",
        "                grads[\"dW\" + str(l + 1)] = (np.dot(dZ,A_prev.T)/m)  + ((lamda * np.sign(W+10**-8))/m)\n",
        "            else:\n",
        "                grads[\"dW\" + str(l + 1)] = (np.dot(dZ,A_prev.T)/m)\n",
        "            \n",
        "            grads[\"db\" + str(l + 1)] = np.sum(dZ,axis=1,keepdims=True)/m   \n",
        "        return grads\n",
        "    \n",
        "    @staticmethod\n",
        "    def update_parameters(parameters, grads,learning_rate,iter_no,method = 'SGD',opt_parameters=None,beta1=0.9,beta2=0.999):\n",
        "        \"\"\"\n",
        "        Update parameters using gradient descent\n",
        "    \n",
        "        Arguments:\n",
        "        parameters -- python dictionary containing your parameters \n",
        "        grads -- python dictionary containing your gradients, output of L_model_backward\n",
        "        method -- method for updation of weights\n",
        "                  'SGD','SGDM','RMSP','ADAM'\n",
        "        learning rate -- learning rate alpha value\n",
        "        beta1 -- weighted avg parameter for SGDM and ADAM\n",
        "        beta2 -- weighted avg parameter for RMSP and ADAM\n",
        "    \n",
        "        Returns:\n",
        "        parameters -- python dictionary containing your updated parameters \n",
        "                      parameters[\"W\" + str(l)] = ... \n",
        "                      parameters[\"b\" + str(l)] = ...\n",
        "                      opt_parameters\n",
        "        \"\"\"\n",
        "    \n",
        "        L = len(parameters) // 2 # number of layers in the neural network\n",
        "        if method == 'SGD':\n",
        "            for l in range(L):\n",
        "                parameters[\"W\" + str(l+1)] = parameters[\"W\" + str(l+1)] - learning_rate*grads[\"dW\" + str(l + 1)]\n",
        "                parameters[\"b\" + str(l+1)] = parameters[\"b\" + str(l+1)] - learning_rate*grads[\"db\" + str(l + 1)]\n",
        "            opt_parameters = None\n",
        "        elif method == 'SGDM':\n",
        "            for l in range(L):\n",
        "                opt_parameters['vdb'+str(l+1)] = beta1*opt_parameters['vdb'+str(l+1)] + (1-beta1)*grads[\"db\" + str(l + 1)]\n",
        "                opt_parameters['vdw'+str(l+1)] = beta1*opt_parameters['vdw'+str(l+1)] + (1-beta1)*grads[\"dW\" + str(l + 1)]\n",
        "                parameters[\"W\" + str(l+1)] = parameters[\"W\" + str(l+1)] - learning_rate*opt_parameters['vdw'+str(l+1)]\n",
        "                parameters[\"b\" + str(l+1)] = parameters[\"b\" + str(l+1)] - learning_rate*opt_parameters['vdb'+str(l+1)]\n",
        "        elif method == 'RMSP':\n",
        "            for l in range(L):\n",
        "                opt_parameters['sdb'+str(l+1)] = beta2*opt_parameters['sdb'+str(l+1)] + \\\n",
        "                                                     (1-beta2)*np.square(grads[\"db\" + str(l + 1)])\n",
        "                opt_parameters['sdw'+str(l+1)] = beta2*opt_parameters['sdw'+str(l+1)] + \\\n",
        "                                                           (1-beta2)*np.square(grads[\"dW\" + str(l + 1)])\n",
        "                parameters[\"W\" + str(l+1)] = parameters[\"W\" + str(l+1)] - \\\n",
        "                                       learning_rate*(grads[\"dW\" + str(l + 1)]/(np.sqrt(opt_parameters['sdw'+str(l+1)])+10**-8))\n",
        "                parameters[\"b\" + str(l+1)] = parameters[\"b\" + str(l+1)] - \\\n",
        "                                       learning_rate*(grads[\"db\" + str(l + 1)]/(np.sqrt(opt_parameters['sdb'+str(l+1)])+10**-8))\n",
        "        elif method == 'ADAM':\n",
        "            for l in range(L):\n",
        "                opt_parameters['vdb'+str(l+1)] = beta1*opt_parameters['vdb'+str(l+1)] + (1-beta1)*grads[\"db\" + str(l + 1)]\n",
        "                opt_parameters['vdw'+str(l+1)] = beta1*opt_parameters['vdw'+str(l+1)] + (1-beta1)*grads[\"dW\" + str(l + 1)]\n",
        "                opt_parameters['sdb'+str(l+1)] = beta2*opt_parameters['sdb'+str(l+1)] + \\\n",
        "                                                                  (1-beta2)*np.square(grads[\"db\" + str(l + 1)])\n",
        "                opt_parameters['sdw'+str(l+1)] = beta2*opt_parameters['sdw'+str(l+1)] + \\\n",
        "                                                                   (1-beta2)*np.square(grads[\"dW\" + str(l + 1)])\n",
        "            \n",
        "                learning_rate = learning_rate * np.sqrt((1-beta2**iter_no)/((1-beta1**iter_no)+10**-8))\n",
        "                parameters[\"W\" + str(l+1)] = parameters[\"W\" + str(l+1)] - \\\n",
        "                                       learning_rate*(opt_parameters['vdw'+str(l+1)]/\\\n",
        "                                                      (np.sqrt(opt_parameters['sdw'+str(l+1)])+10**-8))\n",
        "                parameters[\"b\" + str(l+1)] = parameters[\"b\" + str(l+1)] - \\\n",
        "                                       learning_rate*(opt_parameters['vdb'+str(l+1)]/\\\n",
        "                                                      (np.sqrt(opt_parameters['sdb'+str(l+1)])+10**-8))\n",
        "        \n",
        "        return parameters,opt_parameters\n",
        "    \n",
        "    def fit(self,X,y):\n",
        "        '''\n",
        "        X -- data, numpy array of shape (input size, number of examples)\n",
        "        y -- lables, numpy array of shape (no of classes,n)\n",
        "        \n",
        "        '''\n",
        "        \n",
        "        np.random.seed(self.seed)\n",
        "        self.grads = {}\n",
        "        self.costs = []\n",
        "        M = X.shape[1]\n",
        "        opt_parameters = {}\n",
        "        \n",
        "        if self.verbose == 1:\n",
        "            print('Initilizing Weights...')\n",
        "        self.parameters = self.weights_init(self.layer_dims,self.init_type,self.seed)\n",
        "        self.iter_no = 0\n",
        "        idx = np.arange(0,M)\n",
        "        \n",
        "        if self.optimization_method != 'SGD':\n",
        "            for l in range(1, len(self.layer_dims)):\n",
        "                opt_parameters['vdw' + str(l)] = np.zeros((self.layer_dims[l], self.layer_dims[l-1]))\n",
        "                opt_parameters['vdb' + str(l)] = np.zeros((self.layer_dims[l], 1))\n",
        "                opt_parameters['sdw' + str(l)] = np.zeros((self.layer_dims[l], self.layer_dims[l-1]))\n",
        "                opt_parameters['sdb' + str(l)] = np.zeros((self.layer_dims[l], 1)) \n",
        "        \n",
        "        if self.verbose == 1:\n",
        "            print('Starting Training...')\n",
        "            \n",
        "        for epoch_no in range(1,self.max_epoch+1):\n",
        "            np.random.shuffle(idx)\n",
        "            X = X[:,idx]\n",
        "            y = y[:,idx]\n",
        "            for i in range(0,M, self.batch_size):\n",
        "                self.iter_no = self.iter_no + 1\n",
        "                X_batch = X[:,i:i + self.batch_size]\n",
        "                y_batch = y[:,i:i + self.batch_size]\n",
        "                # Forward propagation:\n",
        "                AL, cache = self.forward_propagation(X_batch,self.hidden_layers,self.parameters,self.keep_proba,self.seed)\n",
        "                #cost\n",
        "                cost = self.compute_cost(AL, y_batch, self.parameters,self.lamda,self.penality)\n",
        "                self.costs.append(cost)\n",
        "                \n",
        "                if self.tol != None:\n",
        "                    try:\n",
        "                        if abs(cost - self.costs[-2]) < self.tol:\n",
        "                            return self\n",
        "                    except:\n",
        "                        pass\n",
        "                #back prop\n",
        "                grads = self.back_propagation(AL, y_batch, cache,self.hidden_layers,self.keep_proba,self.penality,self.lamda)\n",
        "                \n",
        "                #update params\n",
        "                self.parameters,opt_parameters = self.update_parameters(self.parameters,grads,self.learning_rate,\n",
        "                                                                        self.iter_no-1,self.optimization_method,\n",
        "                                                                        opt_parameters,self.beta1,self.beta2)\n",
        "                \n",
        "                if self.verbose == 1:\n",
        "                    if self.iter_no % 100 == 0:\n",
        "                        print(\"Cost after iteration {}: {}\".format(self.iter_no, cost))\n",
        "                \n",
        "        return self\n",
        "    def predict(self,X,proba=False):\n",
        "        '''predicting values\n",
        "           arguments: X - iput data\n",
        "                      proba -- False then return value\n",
        "                               True then return probabaility\n",
        "        '''\n",
        "        \n",
        "        out, _ = self.forward_propagation(X,self.hidden_layers,self.parameters,self.keep_proba,self.seed)\n",
        "        if proba == True:\n",
        "            return out.T\n",
        "        else:\n",
        "            return np.argmax(out, axis=0)"
      ],
      "outputs": [],
      "metadata": {
        "id": "CLW0kxmFIV1b"
      }
    },
    {
      "cell_type": "markdown",
      "source": [
        "**using ADAM**"
      ],
      "metadata": {
        "id": "p6hjHDgRHF61"
      }
    },
    {
      "cell_type": "code",
      "source": [
        "model = DNNClassifier(layer_dims=[X.shape[0], 6, 4,3, 2],hidden_layers=[('relu',0),('relu',0.001),'sigmoid','softmax'],\n",
        "                      optimization_method='ADAM',tolarance=None,batch_size=512,max_epoch=700,verbose=1,seed=25)\n",
        "model.fit(X,Y)"
      ],
      "metadata": {
        "colab": {
          "base_uri": "https://localhost:8080/"
        },
        "id": "418TJaCFHISW",
        "outputId": "65717411-5956-49f6-b3b2-fefaf254bd82"
      },
      "execution_count": 61,
      "outputs": [
        {
          "output_type": "stream",
          "name": "stdout",
          "text": [
            "Initilizing Weights...\n",
            "Starting Training...\n",
            "Cost after iteration 100: 0.531734260563545\n",
            "Cost after iteration 200: 0.3751651356813384\n",
            "Cost after iteration 300: 0.2874586879072787\n",
            "Cost after iteration 400: 0.34712982115714336\n",
            "Cost after iteration 500: 0.33180839286431935\n",
            "Cost after iteration 600: 0.31650012947339007\n",
            "Cost after iteration 700: 0.36249049733040445\n",
            "Cost after iteration 800: 0.35480957651555\n",
            "Cost after iteration 900: 0.40956245500618116\n",
            "Cost after iteration 1000: 0.3702918670161986\n",
            "Cost after iteration 1100: 0.3091694402289993\n",
            "Cost after iteration 1200: 0.3171175606411282\n",
            "Cost after iteration 1300: 0.3706608038260561\n",
            "Cost after iteration 1400: 0.406890672541872\n",
            "Cost after iteration 1500: 0.3941041409266112\n",
            "Cost after iteration 1600: 0.34712982284070293\n",
            "Cost after iteration 1700: 0.3175706696883159\n",
            "Cost after iteration 1800: 0.3933181016022536\n",
            "Cost after iteration 1900: 0.3473212414244376\n",
            "Cost after iteration 2000: 0.4020692442243877\n",
            "Cost after iteration 2100: 0.3238494105178429\n",
            "Cost after iteration 2200: 0.3696808132106869\n",
            "Cost after iteration 2300: 0.30758626337585787\n",
            "Cost after iteration 2400: 0.3912863627170759\n",
            "Cost after iteration 2500: 0.37713685324964236\n",
            "Cost after iteration 2600: 0.32350348633298115\n",
            "Cost after iteration 2700: 0.2851527040827752\n",
            "Cost after iteration 2800: 0.3547697273979589\n",
            "Cost after iteration 2900: 0.4323340800273289\n",
            "Cost after iteration 3000: 0.3704749740577417\n",
            "Cost after iteration 3100: 0.3163110186626409\n",
            "Cost after iteration 3200: 0.32360557840953513\n",
            "Cost after iteration 3300: 0.3849160744210696\n",
            "Cost after iteration 3400: 0.3123537316599019\n",
            "Cost after iteration 3500: 0.34740995721038226\n",
            "Cost after iteration 3600: 0.34012954324322087\n",
            "Cost after iteration 3700: 0.3777131284716731\n",
            "Cost after iteration 3800: 0.392387996774453\n",
            "Cost after iteration 3900: 0.31758433151984067\n",
            "Cost after iteration 4000: 0.29862941444897145\n",
            "Cost after iteration 4100: 0.3317837472415935\n",
            "Cost after iteration 4200: 0.33224183897712745\n",
            "Cost after iteration 4300: 0.4046616671113033\n",
            "Cost after iteration 4400: 0.292103470437767\n",
            "Cost after iteration 4500: 0.32431913681469926\n",
            "Cost after iteration 4600: 0.3554355443857724\n",
            "Cost after iteration 4700: 0.33939131447437715\n",
            "Cost after iteration 4800: 0.3573850817656634\n",
            "Cost after iteration 4900: 0.2982342049614263\n",
            "Cost after iteration 5000: 0.31589689828172374\n",
            "Cost after iteration 5100: 0.3444743351668547\n",
            "Cost after iteration 5200: 0.30371712184733407\n",
            "Cost after iteration 5300: 0.4340803826663734\n",
            "Cost after iteration 5400: 0.32432541470871123\n",
            "Cost after iteration 5500: 0.4006516799976008\n",
            "Cost after iteration 5600: 0.39782276855235765\n",
            "Cost after iteration 5700: 0.35648041452040957\n",
            "Cost after iteration 5800: 0.3131629232584866\n",
            "Cost after iteration 5900: 0.29141113362055293\n",
            "Cost after iteration 6000: 0.3322553498486367\n",
            "Cost after iteration 6100: 0.34725149953044426\n",
            "Cost after iteration 6200: 0.3846805913968916\n",
            "Cost after iteration 6300: 0.33942840206761093\n",
            "Cost after iteration 6400: 0.36229747448668104\n",
            "Cost after iteration 6500: 0.3484838850595487\n",
            "Cost after iteration 6600: 0.4380906324201278\n",
            "Cost after iteration 6700: 0.3653913683539464\n",
            "Cost after iteration 6800: 0.3316141756603636\n",
            "Cost after iteration 6900: 0.2816827963099275\n",
            "Cost after iteration 7000: 0.3204502917539221\n",
            "Cost after iteration 7100: 0.3695758981021104\n",
            "Cost after iteration 7200: 0.3557780077265618\n",
            "Cost after iteration 7300: 0.32349487817681133\n",
            "Cost after iteration 7400: 0.3251281944405586\n",
            "Cost after iteration 7500: 0.3394373327684718\n",
            "Cost after iteration 7600: 0.28444167685667116\n",
            "Cost after iteration 7700: 0.4324882317315036\n",
            "Cost after iteration 7800: 0.2984374454771894\n",
            "Cost after iteration 7900: 0.3554535701238952\n",
            "Cost after iteration 8000: 0.3933110672093065\n",
            "Cost after iteration 8100: 0.3625448458956599\n",
            "Cost after iteration 8200: 0.3072495265766585\n",
            "Cost after iteration 8300: 0.3471304749356725\n",
            "Cost after iteration 8400: 0.33550987979084\n",
            "Cost after iteration 8500: 0.347465194153247\n",
            "Cost after iteration 8600: 0.33299430631789756\n",
            "Cost after iteration 8700: 0.3320642317420874\n",
            "Cost after iteration 8800: 0.39085363825891084\n",
            "Cost after iteration 8900: 0.3552877645087823\n",
            "Cost after iteration 9000: 0.31528770148586654\n",
            "Cost after iteration 9100: 0.30210519878402553\n",
            "Cost after iteration 9200: 0.4085418844052607\n",
            "Cost after iteration 9300: 0.39607859329422707\n",
            "Cost after iteration 9400: 0.37767153580618035\n",
            "Cost after iteration 9500: 0.332238766966481\n",
            "Cost after iteration 9600: 0.3236227495864698\n",
            "Cost after iteration 9700: 0.36367843360794627\n",
            "Cost after iteration 9800: 0.42516210207185146\n",
            "Cost after iteration 9900: 0.3268877751155332\n",
            "Cost after iteration 10000: 0.3547813920107115\n",
            "Cost after iteration 10100: 0.36221540021267856\n",
            "Cost after iteration 10200: 0.32423398318037233\n",
            "Cost after iteration 10300: 0.2931755926879028\n",
            "Cost after iteration 10400: 0.4050688834289421\n",
            "Cost after iteration 10500: 0.3239475240906275\n",
            "Cost after iteration 10600: 0.3395179886681479\n",
            "Cost after iteration 10700: 0.3852959491376897\n",
            "Cost after iteration 10800: 0.3237145651891018\n",
            "Cost after iteration 10900: 0.4069521601287872\n",
            "Cost after iteration 11000: 0.3235319585919186\n",
            "Cost after iteration 11100: 0.41157781470272947\n",
            "Cost after iteration 11200: 0.36223729983248015\n",
            "Cost after iteration 11300: 0.33372240196239034\n",
            "Cost after iteration 11400: 0.33955851423090877\n",
            "Cost after iteration 11500: 0.34247204897851835\n",
            "Cost after iteration 11600: 0.25842929321637803\n",
            "Cost after iteration 11700: 0.32416660163000616\n",
            "Cost after iteration 11800: 0.30974087270753037\n",
            "Cost after iteration 11900: 0.3326172069662898\n",
            "Cost after iteration 12000: 0.347499041702284\n",
            "Cost after iteration 12100: 0.281942162137074\n",
            "Cost after iteration 12200: 0.3622432512273142\n",
            "Cost after iteration 12300: 0.39221997853730717\n",
            "Cost after iteration 12400: 0.3473614154520476\n",
            "Cost after iteration 12500: 0.3170406822375908\n",
            "Cost after iteration 12600: 0.24854578824494417\n",
            "Cost after iteration 12700: 0.3316320151277375\n",
            "Cost after iteration 12800: 0.3319190464075509\n",
            "Cost after iteration 12900: 0.38593765333654917\n",
            "Cost after iteration 13000: 0.3626507814659895\n",
            "Cost after iteration 13100: 0.32049752154116123\n",
            "Cost after iteration 13200: 0.35507338051414594\n",
            "Cost after iteration 13300: 0.3041618575359985\n",
            "Cost after iteration 13400: 0.2729104665823465\n",
            "Cost after iteration 13500: 0.3472743436795041\n",
            "Cost after iteration 13600: 0.33150535640091083\n",
            "Cost after iteration 13700: 0.34799240716647\n",
            "Cost after iteration 13800: 0.4250492412764971\n",
            "Cost after iteration 13900: 0.3631242411456884\n",
            "Cost after iteration 14000: 0.38167145546379294\n"
          ]
        },
        {
          "output_type": "execute_result",
          "data": {
            "text/plain": [
              "<__main__.DNNClassifier at 0x7f3c09b0fd30>"
            ]
          },
          "metadata": {},
          "execution_count": 61
        }
      ]
    },
    {
      "cell_type": "markdown",
      "source": [
        "**Predictions**"
      ],
      "metadata": {
        "id": "AFujGEyBHW4H"
      }
    },
    {
      "cell_type": "code",
      "source": [
        "y_pred_adam = model.predict(X,proba=False)\n",
        "y_pred_adam"
      ],
      "metadata": {
        "colab": {
          "base_uri": "https://localhost:8080/"
        },
        "id": "w0M53aF_G5Ow",
        "outputId": "6d914595-bae8-4f3b-8ccf-07bb961e7b6f"
      },
      "execution_count": 62,
      "outputs": [
        {
          "output_type": "execute_result",
          "data": {
            "text/plain": [
              "array([1, 1, 1, ..., 1, 1, 1])"
            ]
          },
          "metadata": {},
          "execution_count": 62
        }
      ]
    },
    {
      "cell_type": "markdown",
      "source": [
        "**Accuracy**"
      ],
      "metadata": {
        "id": "Xlms1awqHhS8"
      }
    },
    {
      "cell_type": "code",
      "source": [
        "print(\"accuracy_score:\",round(accuracy_score(y,y_pred_adam)*100,2),'%')"
      ],
      "metadata": {
        "colab": {
          "base_uri": "https://localhost:8080/"
        },
        "id": "57aSZ6zvGofv",
        "outputId": "e7f72e5d-357c-4f16-cac1-4faa55fab1f1"
      },
      "execution_count": 63,
      "outputs": [
        {
          "output_type": "stream",
          "name": "stdout",
          "text": [
            "accuracy_score: 11.08 %\n"
          ]
        }
      ]
    },
    {
      "cell_type": "markdown",
      "source": [
        "**Confusion matrix**"
      ],
      "metadata": {
        "id": "maBtnDqCHtFE"
      }
    },
    {
      "cell_type": "code",
      "source": [
        "skplt.metrics.plot_confusion_matrix(y,y_pred_adam, title=\"Confusion Matrix of adam data\",text_fontsize='large')"
      ],
      "metadata": {
        "colab": {
          "base_uri": "https://localhost:8080/",
          "height": 319
        },
        "id": "wrO4NFHPGefW",
        "outputId": "f173b85a-434f-428c-81e9-c69be7f2ca2e"
      },
      "execution_count": 64,
      "outputs": [
        {
          "output_type": "execute_result",
          "data": {
            "text/plain": [
              "<matplotlib.axes._subplots.AxesSubplot at 0x7f3c09b0fac0>"
            ]
          },
          "metadata": {},
          "execution_count": 64
        },
        {
          "output_type": "display_data",
          "data": {
            "text/plain": [
              "<Figure size 432x288 with 2 Axes>"
            ],
            "image/png": "[encoded data removed]"
          },
          "metadata": {
            "needs_background": "light"
          }
        }
      ]
    },
    {
      "cell_type": "markdown",
      "source": [
        "**With SGDM**"
      ],
      "metadata": {
        "id": "kOkq9tPzHxo4"
      }
    },
    {
      "cell_type": "code",
      "source": [
        "model = DNNClassifier(layer_dims=[X.shape[0], 6, 4,3, 2],hidden_layers=[('relu',0),('relu',0.001),'sigmoid','softmax'],\n",
        "                      optimization_method='SGDM',tolarance=None,batch_size=512,max_epoch=700,verbose=1,seed=25)\n",
        "model.fit(X,Y)"
      ],
      "metadata": {
        "colab": {
          "base_uri": "https://localhost:8080/"
        },
        "id": "IIaP3vbWGejD",
        "outputId": "304b95f7-94f7-402d-b9c8-f67e73d3f7ba"
      },
      "execution_count": 65,
      "outputs": [
        {
          "output_type": "stream",
          "name": "stdout",
          "text": [
            "Initilizing Weights...\n",
            "Starting Training...\n",
            "Cost after iteration 100: 0.30943978885492035\n",
            "Cost after iteration 200: 0.36271638683672774\n",
            "Cost after iteration 300: 0.2859078337115397\n",
            "Cost after iteration 400: 0.34716246318576827\n",
            "Cost after iteration 500: 0.33184046648733767\n",
            "Cost after iteration 600: 0.3164493467930242\n",
            "Cost after iteration 700: 0.3627533908972379\n",
            "Cost after iteration 800: 0.35528707100983814\n",
            "Cost after iteration 900: 0.4087093060385874\n",
            "Cost after iteration 1000: 0.3701612195834427\n",
            "Cost after iteration 1100: 0.30875594566305165\n",
            "Cost after iteration 1200: 0.31668154293416484\n",
            "Cost after iteration 1300: 0.37027891518615685\n",
            "Cost after iteration 1400: 0.4089655826143452\n",
            "Cost after iteration 1500: 0.39328040679996795\n",
            "Cost after iteration 1600: 0.3471147558269819\n",
            "Cost after iteration 1700: 0.3163645654748117\n",
            "Cost after iteration 1800: 0.39293160054996745\n",
            "Cost after iteration 1900: 0.3471260464946993\n",
            "Cost after iteration 2000: 0.40075228542049307\n",
            "Cost after iteration 2100: 0.32403923285104963\n",
            "Cost after iteration 2200: 0.37020714868016424\n",
            "Cost after iteration 2300: 0.30913606710289077\n",
            "Cost after iteration 2400: 0.39313885903452506\n",
            "Cost after iteration 2500: 0.3778995422969933\n",
            "Cost after iteration 2600: 0.3241944385314322\n",
            "Cost after iteration 2700: 0.2861303287906271\n",
            "Cost after iteration 2800: 0.35482822917675977\n",
            "Cost after iteration 2900: 0.4316509325339632\n",
            "Cost after iteration 3000: 0.37007828435746176\n",
            "Cost after iteration 3100: 0.31648049444881965\n",
            "Cost after iteration 3200: 0.3242212184767039\n",
            "Cost after iteration 3300: 0.38547896420190036\n",
            "Cost after iteration 3400: 0.30910155380628623\n",
            "Cost after iteration 3500: 0.34714283797131956\n",
            "Cost after iteration 3600: 0.33947563017080334\n",
            "Cost after iteration 3700: 0.37768506560696324\n",
            "Cost after iteration 3800: 0.3930854261997271\n",
            "Cost after iteration 3900: 0.31639537731036077\n",
            "Cost after iteration 4000: 0.30124056457678927\n",
            "Cost after iteration 4100: 0.3319457163292587\n",
            "Cost after iteration 4200: 0.3317707532537466\n",
            "Cost after iteration 4300: 0.3927906585404814\n",
            "Cost after iteration 4400: 0.28575760027811714\n",
            "Cost after iteration 4500: 0.3241507184172446\n",
            "Cost after iteration 4600: 0.35488503194954063\n",
            "Cost after iteration 4700: 0.33951479342616603\n",
            "Cost after iteration 4800: 0.3547627054330847\n",
            "Cost after iteration 4900: 0.29376917531891245\n",
            "Cost after iteration 5000: 0.31646818904872365\n",
            "Cost after iteration 5100: 0.33939529121632805\n",
            "Cost after iteration 5200: 0.30110509839596017\n",
            "Cost after iteration 5300: 0.4312278543021011\n",
            "Cost after iteration 5400: 0.32442832475711103\n",
            "Cost after iteration 5500: 0.40098571135190525\n",
            "Cost after iteration 5600: 0.40126993986480375\n",
            "Cost after iteration 5700: 0.3547564607711017\n",
            "Cost after iteration 5800: 0.30868881627259726\n",
            "Cost after iteration 5900: 0.28610870689175144\n",
            "Cost after iteration 6000: 0.3318853668953269\n",
            "Cost after iteration 6100: 0.34714648149284827\n",
            "Cost after iteration 6200: 0.38552316161021966\n",
            "Cost after iteration 6300: 0.33945648645363247\n",
            "Cost after iteration 6400: 0.3624430959800465\n",
            "Cost after iteration 6500: 0.3471440636747939\n",
            "Cost after iteration 6600: 0.41624357821175695\n",
            "Cost after iteration 6700: 0.3624573569524603\n",
            "Cost after iteration 6800: 0.33181113621644276\n",
            "Cost after iteration 6900: 0.2863780222114001\n",
            "Cost after iteration 7000: 0.3164924565204178\n",
            "Cost after iteration 7100: 0.3701480185539942\n",
            "Cost after iteration 7200: 0.3547947460944756\n",
            "Cost after iteration 7300: 0.32420179576280367\n",
            "Cost after iteration 7400: 0.3242493443588933\n",
            "Cost after iteration 7500: 0.33944802837343707\n",
            "Cost after iteration 7600: 0.28579325946313994\n",
            "Cost after iteration 7700: 0.4316715600401948\n",
            "Cost after iteration 7800: 0.30165427242485615\n",
            "Cost after iteration 7900: 0.3548021767813563\n",
            "Cost after iteration 8000: 0.3929858876320482\n",
            "Cost after iteration 8100: 0.3624230023540042\n",
            "Cost after iteration 8200: 0.3091458729702645\n",
            "Cost after iteration 8300: 0.34713248878745406\n",
            "Cost after iteration 8400: 0.33195664773199857\n",
            "Cost after iteration 8500: 0.3471300465508513\n",
            "Cost after iteration 8600: 0.3317616087802033\n",
            "Cost after iteration 8700: 0.3318030693091984\n",
            "Cost after iteration 8800: 0.3931857949671322\n",
            "Cost after iteration 8900: 0.35479120349134324\n",
            "Cost after iteration 9000: 0.31646882139321286\n",
            "Cost after iteration 9100: 0.30126586214652684\n",
            "Cost after iteration 9200: 0.4082317835298022\n",
            "Cost after iteration 9300: 0.3930325858253949\n",
            "Cost after iteration 9400: 0.3779610222999203\n",
            "Cost after iteration 9500: 0.3319000880992573\n",
            "Cost after iteration 9600: 0.32422666315895704\n",
            "Cost after iteration 9700: 0.3623874015019793\n",
            "Cost after iteration 9800: 0.4243294409332357\n",
            "Cost after iteration 9900: 0.32396861736165006\n",
            "Cost after iteration 10000: 0.35478499843902256\n",
            "Cost after iteration 10100: 0.3624290580617191\n",
            "Cost after iteration 10200: 0.3244281577033781\n",
            "Cost after iteration 10300: 0.2933966405429603\n",
            "Cost after iteration 10400: 0.40084821593211806\n",
            "Cost after iteration 10500: 0.32422598197884395\n",
            "Cost after iteration 10600: 0.3394643311751875\n",
            "Cost after iteration 10700: 0.3853787268328093\n",
            "Cost after iteration 10800: 0.32407962957857056\n",
            "Cost after iteration 10900: 0.4087143092589006\n",
            "Cost after iteration 11000: 0.32421911959463245\n",
            "Cost after iteration 11100: 0.41632711119994753\n",
            "Cost after iteration 11200: 0.36244765017000385\n",
            "Cost after iteration 11300: 0.3317748347383327\n",
            "Cost after iteration 11400: 0.33948898750638845\n",
            "Cost after iteration 11500: 0.3394117806127153\n",
            "Cost after iteration 11600: 0.26319818212941753\n",
            "Cost after iteration 11700: 0.3242918177008577\n",
            "Cost after iteration 11800: 0.309010459962566\n",
            "Cost after iteration 11900: 0.331806744653393\n",
            "Cost after iteration 12000: 0.34714033647089115\n",
            "Cost after iteration 12100: 0.27838278833171975\n",
            "Cost after iteration 12200: 0.36236045451074805\n",
            "Cost after iteration 12300: 0.3930922959160008\n",
            "Cost after iteration 12400: 0.34713840673232793\n",
            "Cost after iteration 12500: 0.3165498778630996\n",
            "Cost after iteration 12600: 0.2555079671616424\n",
            "Cost after iteration 12700: 0.3317986044572227\n",
            "Cost after iteration 12800: 0.33182900276624056\n",
            "Cost after iteration 12900: 0.38552386923128246\n",
            "Cost after iteration 13000: 0.3624468579183602\n",
            "Cost after iteration 13100: 0.3086040426690129\n",
            "Cost after iteration 13200: 0.35479629461083256\n",
            "Cost after iteration 13300: 0.30157641817311936\n",
            "Cost after iteration 13400: 0.2710553647146\n",
            "Cost after iteration 13500: 0.34714608817647963\n",
            "Cost after iteration 13600: 0.33178485059034357\n",
            "Cost after iteration 13700: 0.34713373075817366\n",
            "Cost after iteration 13800: 0.423517035468254\n",
            "Cost after iteration 13900: 0.3624142360832784\n",
            "Cost after iteration 14000: 0.37762834398075634\n"
          ]
        },
        {
          "output_type": "execute_result",
          "data": {
            "text/plain": [
              "<__main__.DNNClassifier at 0x7f3c09b0ff10>"
            ]
          },
          "metadata": {},
          "execution_count": 65
        }
      ]
    },
    {
      "cell_type": "markdown",
      "source": [
        "**Predictions**"
      ],
      "metadata": {
        "id": "xUTcn5QVIWlD"
      }
    },
    {
      "cell_type": "code",
      "source": [
        "y_pred_SGDM = model.predict(X,proba=False)\n",
        "y_pred_SGDM"
      ],
      "metadata": {
        "colab": {
          "base_uri": "https://localhost:8080/"
        },
        "id": "6n51fVPrIZE7",
        "outputId": "cbb671d3-74e1-4ed0-a369-d1b87eaf2852"
      },
      "execution_count": 66,
      "outputs": [
        {
          "output_type": "execute_result",
          "data": {
            "text/plain": [
              "array([1, 1, 1, ..., 1, 1, 1])"
            ]
          },
          "metadata": {},
          "execution_count": 66
        }
      ]
    },
    {
      "cell_type": "markdown",
      "source": [
        "**Accuracy and confusion matrix**"
      ],
      "metadata": {
        "id": "1_7a-emFIh7r"
      }
    },
    {
      "cell_type": "code",
      "source": [
        "print(\"accuracy_score:\",round(accuracy_score(y,y_pred_SGDM)*100,2),'%')"
      ],
      "metadata": {
        "colab": {
          "base_uri": "https://localhost:8080/"
        },
        "id": "DwsDiHnAIlXn",
        "outputId": "b32c465f-eb72-4707-ed78-e147068270bd"
      },
      "execution_count": 67,
      "outputs": [
        {
          "output_type": "stream",
          "name": "stdout",
          "text": [
            "accuracy_score: 11.08 %\n"
          ]
        }
      ]
    },
    {
      "cell_type": "code",
      "source": [
        "skplt.metrics.plot_confusion_matrix(y,y_pred_SGDM, title=\"Confusion Matrix of SGDM data\",text_fontsize='large')"
      ],
      "metadata": {
        "colab": {
          "base_uri": "https://localhost:8080/",
          "height": 319
        },
        "id": "FqA3sbQQI0x1",
        "outputId": "55648dff-9a00-4db1-fe41-b2800e7c32c6"
      },
      "execution_count": 68,
      "outputs": [
        {
          "output_type": "execute_result",
          "data": {
            "text/plain": [
              "<matplotlib.axes._subplots.AxesSubplot at 0x7f3c09ac2310>"
            ]
          },
          "metadata": {},
          "execution_count": 68
        },
        {
          "output_type": "display_data",
          "data": {
            "text/plain": [
              "<Figure size 432x288 with 2 Axes>"
            ],
            "image/png": "[encoded data removed]"
          },
          "metadata": {
            "needs_background": "light"
          }
        }
      ]
    }
  ],
  "metadata": {
    "accelerator": "GPU",
    "colab": {
      "machine_shape": "hm",
      "provenance": []
    },
    "gpuClass": "standard",
    "kernelspec": {
      "display_name": "Python 3",
      "language": "python",
      "name": "python3"
    },
    "language_info": {
      "codemirror_mode": {
        "name": "ipython",
        "version": 3
      },
      "file_extension": ".py",
      "mimetype": "text/x-python",
      "name": "python",
      "nbconvert_exporter": "python",
      "pygments_lexer": "ipython3",
      "version": "3.6.4"
    }
  },
  "nbformat": 4,
  "nbformat_minor": 0
}